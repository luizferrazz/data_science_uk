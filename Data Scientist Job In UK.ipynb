{
 "cells": [
  {
   "cell_type": "code",
   "execution_count": 243,
   "id": "865daecf",
   "metadata": {},
   "outputs": [],
   "source": [
    "import re\n",
    "import pandas as pd\n",
    "from collections import Counter\n",
    "import matplotlib.pyplot as plt\n",
    "from wordcloud import WordCloud\n",
    "import plotly.express as px\n",
    "import plotly.graph_objects as go"
   ]
  },
  {
   "cell_type": "code",
   "execution_count": 244,
   "id": "f7eaf655",
   "metadata": {},
   "outputs": [],
   "source": [
    "data = pd.read_csv(\"Raw_Dataset.csv\")"
   ]
  },
  {
   "cell_type": "markdown",
   "id": "284f6fab",
   "metadata": {},
   "source": [
    "## Introdução\n",
    "Durante minha migração de carreira por muitas vezes acabei me vendo um pouco desorientado sobre quais habilidades são mais buscadas dentro do mercado de Ciência e Análise de Dados. Buscando solucionar essa dúvida, que acredito que seja também de muitas outras pessoas, encontrei uma base de dados no Kaggle que poderia me ajudar a entender melhor este mercado. A base de dados se refere a vagas para Cientistas de Dados no Reino Unido e traz informações valiosas sobre este campo do conhecimento, como quais são as empresas com vagas em aberto, suas avaliações, o cargo, localização, quantidade de dias que a vaga está disponível, salário e habilidades. De posse destes dados busquei realizar uma análise para entender melhor o mercado para guiar minhas escolhas e auxiliar outras pessoas com base nas informações por mim encontradas.\n",
    "\n",
    "## Objetivos\n",
    "**1. Análise das Vagas de Cientista de Dados no Reino Unido:**\n",
    "\n",
    "    O objetivo principal foi analisar as habilidades técnicas mais demandadas e os salários oferecidos para vagas de cientistas de dados no Reino Unido. Fizemos isso dividindo as vagas por níveis profissionais (júnior, pleno, e sênior) e estudando suas particularidades.\n",
    "\n",
    "**2. Exploração das Habilidades:**\n",
    "\n",
    "    Identifiquei as habilidades mais comuns exigidas por nível de profissional (júnior, pleno, sênior), ajudando a entender quais tecnologias e competências são prioritárias em cada etapa da carreira.\n",
    "\n",
    "**3. Análise Salarial por Nível Profissional:**\n",
    "\n",
    "    Estudei a média e mediana salarial para cada nível de profissional, comparando as diferenças salariais entre vagas de júnior, pleno e sênior, e identificando outliers que poderiam influenciar essas métricas.\n",
    "\n",
    "**4. Identificação de Vagas Não Classificadas:**\n",
    "\n",
    "    Criei uma categoria de “outros” para vagas que não se encaixaram claramente nas classificações de júnior, pleno ou sênior analisando suas particularidades separadamente."
   ]
  },
  {
   "cell_type": "markdown",
   "id": "f3409ca6",
   "metadata": {},
   "source": [
    "### Verificando informações gerais sobre a base de dados"
   ]
  },
  {
   "cell_type": "code",
   "execution_count": 245,
   "id": "1155ef36",
   "metadata": {
    "scrolled": true
   },
   "outputs": [
    {
     "data": {
      "text/html": [
       "<div>\n",
       "<style scoped>\n",
       "    .dataframe tbody tr th:only-of-type {\n",
       "        vertical-align: middle;\n",
       "    }\n",
       "\n",
       "    .dataframe tbody tr th {\n",
       "        vertical-align: top;\n",
       "    }\n",
       "\n",
       "    .dataframe thead th {\n",
       "        text-align: right;\n",
       "    }\n",
       "</style>\n",
       "<table border=\"1\" class=\"dataframe\">\n",
       "  <thead>\n",
       "    <tr style=\"text-align: right;\">\n",
       "      <th></th>\n",
       "      <th>Company</th>\n",
       "      <th>Company Score</th>\n",
       "      <th>Job Title</th>\n",
       "      <th>Location</th>\n",
       "      <th>Date</th>\n",
       "      <th>Salary</th>\n",
       "      <th>Skills</th>\n",
       "    </tr>\n",
       "  </thead>\n",
       "  <tbody>\n",
       "    <tr>\n",
       "      <th>0</th>\n",
       "      <td>Razorpoint</td>\n",
       "      <td>3.4</td>\n",
       "      <td>Junior Data Scientist</td>\n",
       "      <td>Manchester, England</td>\n",
       "      <td>3d</td>\n",
       "      <td>£35K (Employer est.)</td>\n",
       "      <td>Data mining, Big data, R, Data analysis skills...</td>\n",
       "    </tr>\n",
       "    <tr>\n",
       "      <th>1</th>\n",
       "      <td>tower Hamlets</td>\n",
       "      <td>3.7</td>\n",
       "      <td>Assistant Data Scientist (Graduate) | R-2375</td>\n",
       "      <td>London, England</td>\n",
       "      <td>5d</td>\n",
       "      <td>£31.00 Per Hour (Employer est.)</td>\n",
       "      <td>R, SQL, JavaScript, Python</td>\n",
       "    </tr>\n",
       "    <tr>\n",
       "      <th>2</th>\n",
       "      <td>TW</td>\n",
       "      <td>4.0</td>\n",
       "      <td>Data Scientist</td>\n",
       "      <td>Nottingham, England</td>\n",
       "      <td>30d+</td>\n",
       "      <td>£50K - £65K (Employer est.)</td>\n",
       "      <td>SQL, Maths, Data science, Python</td>\n",
       "    </tr>\n",
       "    <tr>\n",
       "      <th>3</th>\n",
       "      <td>NatWest Group</td>\n",
       "      <td>4.6</td>\n",
       "      <td>Data Scientist</td>\n",
       "      <td>Edinburgh, Scotland</td>\n",
       "      <td>2d</td>\n",
       "      <td>£41K - £54K (Glassdoor est.)</td>\n",
       "      <td>Software deployment, Data analysis skills, Sta...</td>\n",
       "    </tr>\n",
       "    <tr>\n",
       "      <th>4</th>\n",
       "      <td>iwoca</td>\n",
       "      <td>3.9</td>\n",
       "      <td>Data Scientist - Ops</td>\n",
       "      <td>London, England</td>\n",
       "      <td>7d</td>\n",
       "      <td>£60K - £90K (Employer est.)</td>\n",
       "      <td>MATLAB, R, Maths, C, Machine learning</td>\n",
       "    </tr>\n",
       "  </tbody>\n",
       "</table>\n",
       "</div>"
      ],
      "text/plain": [
       "         Company  Company Score                                     Job Title  \\\n",
       "0     Razorpoint            3.4                         Junior Data Scientist   \n",
       "1  tower Hamlets            3.7  Assistant Data Scientist (Graduate) | R-2375   \n",
       "2             TW            4.0                                Data Scientist   \n",
       "3  NatWest Group            4.6                                Data Scientist   \n",
       "4          iwoca            3.9                          Data Scientist - Ops   \n",
       "\n",
       "              Location  Date                           Salary  \\\n",
       "0  Manchester, England    3d             £35K (Employer est.)   \n",
       "1      London, England    5d  £31.00 Per Hour (Employer est.)   \n",
       "2  Nottingham, England  30d+      £50K - £65K (Employer est.)   \n",
       "3  Edinburgh, Scotland    2d     £41K - £54K (Glassdoor est.)   \n",
       "4      London, England    7d      £60K - £90K (Employer est.)   \n",
       "\n",
       "                                              Skills  \n",
       "0  Data mining, Big data, R, Data analysis skills...  \n",
       "1                         R, SQL, JavaScript, Python  \n",
       "2                   SQL, Maths, Data science, Python  \n",
       "3  Software deployment, Data analysis skills, Sta...  \n",
       "4              MATLAB, R, Maths, C, Machine learning  "
      ]
     },
     "execution_count": 245,
     "metadata": {},
     "output_type": "execute_result"
    }
   ],
   "source": [
    "data.head()"
   ]
  },
  {
   "cell_type": "code",
   "execution_count": 246,
   "id": "b8458c10",
   "metadata": {},
   "outputs": [
    {
     "data": {
      "text/plain": [
       "(750, 7)"
      ]
     },
     "execution_count": 246,
     "metadata": {},
     "output_type": "execute_result"
    }
   ],
   "source": [
    "data.shape"
   ]
  },
  {
   "cell_type": "code",
   "execution_count": 247,
   "id": "04e4644d",
   "metadata": {
    "scrolled": true
   },
   "outputs": [
    {
     "name": "stdout",
     "output_type": "stream",
     "text": [
      "<class 'pandas.core.frame.DataFrame'>\n",
      "RangeIndex: 750 entries, 0 to 749\n",
      "Data columns (total 7 columns):\n",
      " #   Column         Non-Null Count  Dtype  \n",
      "---  ------         --------------  -----  \n",
      " 0   Company        750 non-null    object \n",
      " 1   Company Score  697 non-null    float64\n",
      " 2   Job Title      750 non-null    object \n",
      " 3   Location       750 non-null    object \n",
      " 4   Date           750 non-null    object \n",
      " 5   Salary         635 non-null    object \n",
      " 6   Skills         742 non-null    object \n",
      "dtypes: float64(1), object(6)\n",
      "memory usage: 41.1+ KB\n"
     ]
    }
   ],
   "source": [
    "data.info()"
   ]
  },
  {
   "cell_type": "code",
   "execution_count": 248,
   "id": "3d32614e",
   "metadata": {
    "scrolled": true
   },
   "outputs": [
    {
     "data": {
      "text/plain": [
       "Company            0\n",
       "Company Score     53\n",
       "Job Title          0\n",
       "Location           0\n",
       "Date               0\n",
       "Salary           115\n",
       "Skills             8\n",
       "dtype: int64"
      ]
     },
     "execution_count": 248,
     "metadata": {},
     "output_type": "execute_result"
    }
   ],
   "source": [
    "data.isnull().sum()"
   ]
  },
  {
   "cell_type": "code",
   "execution_count": 249,
   "id": "a83ce11d",
   "metadata": {
    "scrolled": false
   },
   "outputs": [
    {
     "data": {
      "text/plain": [
       "Data Scientist                                                                       67\n",
       "Senior Data Scientist                                                                36\n",
       "Machine Learning Engineer                                                            23\n",
       "Senior Machine Learning Engineer                                                     11\n",
       "Lead Data Scientist                                                                  10\n",
       "                                                                                     ..\n",
       "Consultant - Analytics & Artificial Intelligence - Data & AI Architect                1\n",
       "Digital Audit Manager - Data Analytics                                                1\n",
       "Senior Consultant - Data & AI Strategy - Data Management                              1\n",
       "Associate, Data Science Analyst – Global Oil Markets (Hybrid - 3/2 Work Schedule)     1\n",
       "Senior Deep Learning / AI Engineer                                                    1\n",
       "Name: Job Title, Length: 563, dtype: int64"
      ]
     },
     "execution_count": 249,
     "metadata": {},
     "output_type": "execute_result"
    }
   ],
   "source": [
    "data[\"Job Title\"].value_counts()"
   ]
  },
  {
   "cell_type": "markdown",
   "id": "1f8decd2",
   "metadata": {},
   "source": [
    "### Preenchendo valores nulos de cada coluna"
   ]
  },
  {
   "cell_type": "code",
   "execution_count": 250,
   "id": "34c1b313",
   "metadata": {},
   "outputs": [],
   "source": [
    "data.Skills.fillna(\"Not Informed\", inplace = True)"
   ]
  },
  {
   "cell_type": "code",
   "execution_count": 251,
   "id": "ad5ab535",
   "metadata": {},
   "outputs": [],
   "source": [
    "data.Salary.fillna(\"0.0\", inplace = True)"
   ]
  },
  {
   "cell_type": "code",
   "execution_count": 252,
   "id": "41f53efc",
   "metadata": {
    "scrolled": true
   },
   "outputs": [],
   "source": [
    "data[\"Company Score\"].fillna(0.0, inplace = True)"
   ]
  },
  {
   "cell_type": "markdown",
   "id": "b086b5c5",
   "metadata": {},
   "source": [
    "### Calculando média de salário anual por vaga"
   ]
  },
  {
   "cell_type": "code",
   "execution_count": 253,
   "id": "42dd6dc7",
   "metadata": {},
   "outputs": [],
   "source": [
    "def process_salary(salary):\n",
    "    # Remover o texto adicional após o salário\n",
    "    salary = salary.split('(')[0].strip()\n",
    "    \n",
    "    # Verificar se o salário está em faixa (£XK - £YK)\n",
    "    if '-' in salary:\n",
    "        # Extrair os valores numéricos\n",
    "        numbers = re.findall(r'\\d+', salary)\n",
    "        if len(numbers) == 2:\n",
    "            min_salary = int(numbers[0]) * 1000\n",
    "            max_salary = int(numbers[1]) * 1000\n",
    "            return (min_salary + max_salary) / 2\n",
    "    \n",
    "    # Verificar se é um valor fixo (£XK)\n",
    "    elif 'K' in salary:\n",
    "        # Extrair o valor fixo\n",
    "        fixed_salary = int(re.findall(r'\\d+', salary)[0]) * 1000\n",
    "        return fixed_salary\n",
    "    \n",
    "    # Verificar se o salário está em valores por hora (Per Hour)\n",
    "    elif 'Per Hour' in salary:\n",
    "        hourly_rate = float(re.findall(r'\\d+\\.\\d+', salary)[0])\n",
    "        monthly_salary = hourly_rate * 44 * 4  # Salário mensal estimado\n",
    "        annual_salary = monthly_salary * 12    # Convertendo para anual\n",
    "        return annual_salary\n",
    "    \n",
    "    # Retornar NaN se não houver um padrão correspondente\n",
    "    return None\n",
    "\n",
    "# Aplicar a função para processar a coluna de salários\n",
    "data['Average Salary'] = data['Salary'].apply(process_salary)"
   ]
  },
  {
   "cell_type": "code",
   "execution_count": 254,
   "id": "ba50b2aa",
   "metadata": {
    "scrolled": true
   },
   "outputs": [
    {
     "data": {
      "text/html": [
       "<div>\n",
       "<style scoped>\n",
       "    .dataframe tbody tr th:only-of-type {\n",
       "        vertical-align: middle;\n",
       "    }\n",
       "\n",
       "    .dataframe tbody tr th {\n",
       "        vertical-align: top;\n",
       "    }\n",
       "\n",
       "    .dataframe thead th {\n",
       "        text-align: right;\n",
       "    }\n",
       "</style>\n",
       "<table border=\"1\" class=\"dataframe\">\n",
       "  <thead>\n",
       "    <tr style=\"text-align: right;\">\n",
       "      <th></th>\n",
       "      <th>Company</th>\n",
       "      <th>Company Score</th>\n",
       "      <th>Job Title</th>\n",
       "      <th>Location</th>\n",
       "      <th>Date</th>\n",
       "      <th>Salary</th>\n",
       "      <th>Skills</th>\n",
       "      <th>Average Salary</th>\n",
       "    </tr>\n",
       "  </thead>\n",
       "  <tbody>\n",
       "    <tr>\n",
       "      <th>0</th>\n",
       "      <td>Razorpoint</td>\n",
       "      <td>3.4</td>\n",
       "      <td>Junior Data Scientist</td>\n",
       "      <td>Manchester, England</td>\n",
       "      <td>3d</td>\n",
       "      <td>£35K (Employer est.)</td>\n",
       "      <td>Data mining, Big data, R, Data analysis skills...</td>\n",
       "      <td>35000.0</td>\n",
       "    </tr>\n",
       "    <tr>\n",
       "      <th>1</th>\n",
       "      <td>tower Hamlets</td>\n",
       "      <td>3.7</td>\n",
       "      <td>Assistant Data Scientist (Graduate) | R-2375</td>\n",
       "      <td>London, England</td>\n",
       "      <td>5d</td>\n",
       "      <td>£31.00 Per Hour (Employer est.)</td>\n",
       "      <td>R, SQL, JavaScript, Python</td>\n",
       "      <td>65472.0</td>\n",
       "    </tr>\n",
       "    <tr>\n",
       "      <th>2</th>\n",
       "      <td>TW</td>\n",
       "      <td>4.0</td>\n",
       "      <td>Data Scientist</td>\n",
       "      <td>Nottingham, England</td>\n",
       "      <td>30d+</td>\n",
       "      <td>£50K - £65K (Employer est.)</td>\n",
       "      <td>SQL, Maths, Data science, Python</td>\n",
       "      <td>57500.0</td>\n",
       "    </tr>\n",
       "    <tr>\n",
       "      <th>3</th>\n",
       "      <td>NatWest Group</td>\n",
       "      <td>4.6</td>\n",
       "      <td>Data Scientist</td>\n",
       "      <td>Edinburgh, Scotland</td>\n",
       "      <td>2d</td>\n",
       "      <td>£41K - £54K (Glassdoor est.)</td>\n",
       "      <td>Software deployment, Data analysis skills, Sta...</td>\n",
       "      <td>47500.0</td>\n",
       "    </tr>\n",
       "    <tr>\n",
       "      <th>4</th>\n",
       "      <td>iwoca</td>\n",
       "      <td>3.9</td>\n",
       "      <td>Data Scientist - Ops</td>\n",
       "      <td>London, England</td>\n",
       "      <td>7d</td>\n",
       "      <td>£60K - £90K (Employer est.)</td>\n",
       "      <td>MATLAB, R, Maths, C, Machine learning</td>\n",
       "      <td>75000.0</td>\n",
       "    </tr>\n",
       "  </tbody>\n",
       "</table>\n",
       "</div>"
      ],
      "text/plain": [
       "         Company  Company Score                                     Job Title  \\\n",
       "0     Razorpoint            3.4                         Junior Data Scientist   \n",
       "1  tower Hamlets            3.7  Assistant Data Scientist (Graduate) | R-2375   \n",
       "2             TW            4.0                                Data Scientist   \n",
       "3  NatWest Group            4.6                                Data Scientist   \n",
       "4          iwoca            3.9                          Data Scientist - Ops   \n",
       "\n",
       "              Location  Date                           Salary  \\\n",
       "0  Manchester, England    3d             £35K (Employer est.)   \n",
       "1      London, England    5d  £31.00 Per Hour (Employer est.)   \n",
       "2  Nottingham, England  30d+      £50K - £65K (Employer est.)   \n",
       "3  Edinburgh, Scotland    2d     £41K - £54K (Glassdoor est.)   \n",
       "4      London, England    7d      £60K - £90K (Employer est.)   \n",
       "\n",
       "                                              Skills  Average Salary  \n",
       "0  Data mining, Big data, R, Data analysis skills...         35000.0  \n",
       "1                         R, SQL, JavaScript, Python         65472.0  \n",
       "2                   SQL, Maths, Data science, Python         57500.0  \n",
       "3  Software deployment, Data analysis skills, Sta...         47500.0  \n",
       "4              MATLAB, R, Maths, C, Machine learning         75000.0  "
      ]
     },
     "execution_count": 254,
     "metadata": {},
     "output_type": "execute_result"
    }
   ],
   "source": [
    "data.head()"
   ]
  },
  {
   "cell_type": "markdown",
   "id": "198ca5ca",
   "metadata": {},
   "source": [
    "### Identificando habilidades técnicas com maior demanda"
   ]
  },
  {
   "cell_type": "code",
   "execution_count": 255,
   "id": "f0399fc4",
   "metadata": {},
   "outputs": [],
   "source": [
    "def clean_and_split_skills(skills):\n",
    "    if pd.isnull(skills):\n",
    "        return []  # Retornar lista vazia para valores nulos\n",
    "    return [skill.strip().lower() for skill in skills.split(',')]"
   ]
  },
  {
   "cell_type": "code",
   "execution_count": 256,
   "id": "9b39f595",
   "metadata": {},
   "outputs": [],
   "source": [
    "data['Skills List'] = data['Skills'].apply(clean_and_split_skills)"
   ]
  },
  {
   "cell_type": "code",
   "execution_count": 257,
   "id": "c896f3a6",
   "metadata": {},
   "outputs": [],
   "source": [
    "all_skills = [skill for sublist in data['Skills List'] for skill in sublist]"
   ]
  },
  {
   "cell_type": "code",
   "execution_count": 258,
   "id": "c6bdce06",
   "metadata": {},
   "outputs": [],
   "source": [
    "skill_counts = Counter(all_skills)\n",
    "skill_df = pd.DataFrame(skill_counts.items(), columns=['Skill', 'Count']).sort_values(by='Count', ascending=False)"
   ]
  },
  {
   "cell_type": "code",
   "execution_count": 259,
   "id": "a316dd41",
   "metadata": {},
   "outputs": [
    {
     "data": {
      "text/html": [
       "<div>\n",
       "<style scoped>\n",
       "    .dataframe tbody tr th:only-of-type {\n",
       "        vertical-align: middle;\n",
       "    }\n",
       "\n",
       "    .dataframe tbody tr th {\n",
       "        vertical-align: top;\n",
       "    }\n",
       "\n",
       "    .dataframe thead th {\n",
       "        text-align: right;\n",
       "    }\n",
       "</style>\n",
       "<table border=\"1\" class=\"dataframe\">\n",
       "  <thead>\n",
       "    <tr style=\"text-align: right;\">\n",
       "      <th></th>\n",
       "      <th>Skill</th>\n",
       "      <th>Count</th>\n",
       "    </tr>\n",
       "  </thead>\n",
       "  <tbody>\n",
       "    <tr>\n",
       "      <th>12</th>\n",
       "      <td>machine learning</td>\n",
       "      <td>306</td>\n",
       "    </tr>\n",
       "    <tr>\n",
       "      <th>5</th>\n",
       "      <td>sql</td>\n",
       "      <td>180</td>\n",
       "    </tr>\n",
       "    <tr>\n",
       "      <th>19</th>\n",
       "      <td>tensorflow</td>\n",
       "      <td>167</td>\n",
       "    </tr>\n",
       "    <tr>\n",
       "      <th>2</th>\n",
       "      <td>r</td>\n",
       "      <td>147</td>\n",
       "    </tr>\n",
       "    <tr>\n",
       "      <th>59</th>\n",
       "      <td>azure</td>\n",
       "      <td>128</td>\n",
       "    </tr>\n",
       "    <tr>\n",
       "      <th>...</th>\n",
       "      <td>...</td>\n",
       "      <td>...</td>\n",
       "    </tr>\n",
       "    <tr>\n",
       "      <th>182</th>\n",
       "      <td>financial report writing</td>\n",
       "      <td>1</td>\n",
       "    </tr>\n",
       "    <tr>\n",
       "      <th>181</th>\n",
       "      <td>raspberry pi</td>\n",
       "      <td>1</td>\n",
       "    </tr>\n",
       "    <tr>\n",
       "      <th>180</th>\n",
       "      <td>arduino</td>\n",
       "      <td>1</td>\n",
       "    </tr>\n",
       "    <tr>\n",
       "      <th>179</th>\n",
       "      <td>php</td>\n",
       "      <td>1</td>\n",
       "    </tr>\n",
       "    <tr>\n",
       "      <th>157</th>\n",
       "      <td>metadata</td>\n",
       "      <td>1</td>\n",
       "    </tr>\n",
       "  </tbody>\n",
       "</table>\n",
       "<p>243 rows × 2 columns</p>\n",
       "</div>"
      ],
      "text/plain": [
       "                        Skill  Count\n",
       "12           machine learning    306\n",
       "5                         sql    180\n",
       "19                 tensorflow    167\n",
       "2                           r    147\n",
       "59                      azure    128\n",
       "..                        ...    ...\n",
       "182  financial report writing      1\n",
       "181              raspberry pi      1\n",
       "180                   arduino      1\n",
       "179                       php      1\n",
       "157                  metadata      1\n",
       "\n",
       "[243 rows x 2 columns]"
      ]
     },
     "execution_count": 259,
     "metadata": {},
     "output_type": "execute_result"
    }
   ],
   "source": [
    "skill_df"
   ]
  },
  {
   "cell_type": "code",
   "execution_count": 260,
   "id": "9ed58549",
   "metadata": {
    "scrolled": true
   },
   "outputs": [
    {
     "data": {
      "image/png": "[encoded data removed]",
      "text/plain": [
       "<Figure size 1000x500 with 1 Axes>"
      ]
     },
     "metadata": {},
     "output_type": "display_data"
    }
   ],
   "source": [
    "wordcloud = WordCloud(width=800, height=400, background_color='white').generate_from_frequencies(skill_counts)\n",
    "plt.figure(figsize=(10, 5))\n",
    "plt.imshow(wordcloud, interpolation='bilinear')\n",
    "plt.axis('off')\n",
    "plt.show()"
   ]
  },
  {
   "cell_type": "markdown",
   "id": "7526a57e",
   "metadata": {},
   "source": [
    "Por serem muitas habilidades em demanda, optei por criar um gráfico de barras com as 15 principais habilidades requeridas"
   ]
  },
  {
   "cell_type": "code",
   "execution_count": 261,
   "id": "1e923a61",
   "metadata": {},
   "outputs": [],
   "source": [
    "top_15_skills = skill_df.head(15)"
   ]
  },
  {
   "cell_type": "code",
   "execution_count": 262,
   "id": "a90e3616",
   "metadata": {
    "scrolled": true
   },
   "outputs": [
    {
     "data": {
      "image/png": "[encoded data removed]",
      "text/plain": [
       "<Figure size 1000x600 with 1 Axes>"
      ]
     },
     "metadata": {},
     "output_type": "display_data"
    }
   ],
   "source": [
    "plt.figure(figsize=(10, 6))\n",
    "plt.barh(top_15_skills['Skill'], top_15_skills['Count'], color='skyblue')\n",
    "plt.xlabel('Frequência')\n",
    "plt.ylabel('Habilidades')\n",
    "plt.title('Top 15 Skills para Cientistas de Dados no Reino Unido')\n",
    "plt.gca().invert_yaxis()  # Inverter a ordem para que a mais frequente fique no topo\n",
    "plt.show()"
   ]
  },
  {
   "cell_type": "code",
   "execution_count": 263,
   "id": "050727f5",
   "metadata": {},
   "outputs": [
    {
     "name": "stdout",
     "output_type": "stream",
     "text": [
      "Salário médio para Cientistas de Dados: £65490.56\n"
     ]
    }
   ],
   "source": [
    "# Filtrar as colunas de salário nas vagas de Cientista de Dados\n",
    "data_jobs_with_salary = data.dropna(subset=['Average Salary'])\n",
    "\n",
    "# Calcular o salário médio entre as vagas de Cientista de Dados\n",
    "average_data_scientist_salary = data_jobs_with_salary['Average Salary'].mean()\n",
    "\n",
    "print(f\"Salário médio para Cientistas de Dados: £{average_data_scientist_salary:.2f}\")"
   ]
  },
  {
   "cell_type": "code",
   "execution_count": 264,
   "id": "6a5d29e6",
   "metadata": {},
   "outputs": [
    {
     "name": "stdout",
     "output_type": "stream",
     "text": [
      "Mediana dos salários para Cientistas de Dados é: £63000.00\n"
     ]
    }
   ],
   "source": [
    "median_data_scientist_salary = data_jobs_with_salary[\"Average Salary\"].median()\n",
    "print(f\"Mediana dos salários para Cientistas de Dados é: £{median_data_scientist_salary:.2f}\")"
   ]
  },
  {
   "cell_type": "markdown",
   "id": "4c9a8f49",
   "metadata": {},
   "source": [
    "### Identificando as habilidades mais requisitadas para profissionais Junior"
   ]
  },
  {
   "cell_type": "code",
   "execution_count": 265,
   "id": "2e22eeaf",
   "metadata": {},
   "outputs": [],
   "source": [
    "junior_jobs = data[data['Job Title'].str.contains('Junior|Entry Level|Trainee|Graduate', case=False, na=False)]"
   ]
  },
  {
   "cell_type": "code",
   "execution_count": 266,
   "id": "52aa05ed",
   "metadata": {
    "scrolled": true
   },
   "outputs": [
    {
     "data": {
      "text/html": [
       "<div>\n",
       "<style scoped>\n",
       "    .dataframe tbody tr th:only-of-type {\n",
       "        vertical-align: middle;\n",
       "    }\n",
       "\n",
       "    .dataframe tbody tr th {\n",
       "        vertical-align: top;\n",
       "    }\n",
       "\n",
       "    .dataframe thead th {\n",
       "        text-align: right;\n",
       "    }\n",
       "</style>\n",
       "<table border=\"1\" class=\"dataframe\">\n",
       "  <thead>\n",
       "    <tr style=\"text-align: right;\">\n",
       "      <th></th>\n",
       "      <th>Company</th>\n",
       "      <th>Company Score</th>\n",
       "      <th>Job Title</th>\n",
       "      <th>Location</th>\n",
       "      <th>Date</th>\n",
       "      <th>Salary</th>\n",
       "      <th>Skills</th>\n",
       "      <th>Average Salary</th>\n",
       "      <th>Skills List</th>\n",
       "    </tr>\n",
       "  </thead>\n",
       "  <tbody>\n",
       "    <tr>\n",
       "      <th>0</th>\n",
       "      <td>Razorpoint</td>\n",
       "      <td>3.4</td>\n",
       "      <td>Junior Data Scientist</td>\n",
       "      <td>Manchester, England</td>\n",
       "      <td>3d</td>\n",
       "      <td>£35K (Employer est.)</td>\n",
       "      <td>Data mining, Big data, R, Data analysis skills...</td>\n",
       "      <td>35000.0</td>\n",
       "      <td>[data mining, big data, r, data analysis skill...</td>\n",
       "    </tr>\n",
       "    <tr>\n",
       "      <th>1</th>\n",
       "      <td>tower Hamlets</td>\n",
       "      <td>3.7</td>\n",
       "      <td>Assistant Data Scientist (Graduate) | R-2375</td>\n",
       "      <td>London, England</td>\n",
       "      <td>5d</td>\n",
       "      <td>£31.00 Per Hour (Employer est.)</td>\n",
       "      <td>R, SQL, JavaScript, Python</td>\n",
       "      <td>65472.0</td>\n",
       "      <td>[r, sql, javascript, python]</td>\n",
       "    </tr>\n",
       "    <tr>\n",
       "      <th>8</th>\n",
       "      <td>MLN Security</td>\n",
       "      <td>3.2</td>\n",
       "      <td>Junior Data Scientist</td>\n",
       "      <td>Barking, East of England, England</td>\n",
       "      <td>30d+</td>\n",
       "      <td>£49K - £70K (Glassdoor est.)</td>\n",
       "      <td>TensorFlow, SAS, Big data, Java, AWS</td>\n",
       "      <td>59500.0</td>\n",
       "      <td>[tensorflow, sas, big data, java, aws]</td>\n",
       "    </tr>\n",
       "    <tr>\n",
       "      <th>11</th>\n",
       "      <td>Volcore</td>\n",
       "      <td>3.9</td>\n",
       "      <td>Graduate Software Engineer / Data Scientist: F...</td>\n",
       "      <td>Manchester, England</td>\n",
       "      <td>3d</td>\n",
       "      <td>£48K (Employer est.)</td>\n",
       "      <td>Cloud infrastructure, Rust, Go, SQL, C++</td>\n",
       "      <td>48000.0</td>\n",
       "      <td>[cloud infrastructure, rust, go, sql, c++]</td>\n",
       "    </tr>\n",
       "    <tr>\n",
       "      <th>53</th>\n",
       "      <td>Razorpoint</td>\n",
       "      <td>4.4</td>\n",
       "      <td>Junior Data Analyst</td>\n",
       "      <td>London, England</td>\n",
       "      <td>20d</td>\n",
       "      <td>FCFA 102K (Employer est.)</td>\n",
       "      <td>TensorFlow, Azure, R, Google Cloud Platform, T...</td>\n",
       "      <td>102000.0</td>\n",
       "      <td>[tensorflow, azure, r, google cloud platform, ...</td>\n",
       "    </tr>\n",
       "    <tr>\n",
       "      <th>62</th>\n",
       "      <td>Robin AI</td>\n",
       "      <td>4.3</td>\n",
       "      <td>Junior Applied Scientist</td>\n",
       "      <td>London, England</td>\n",
       "      <td>18d</td>\n",
       "      <td>£34K - £65K (Glassdoor est.)</td>\n",
       "      <td>TensorFlow, Application development, Machine l...</td>\n",
       "      <td>49500.0</td>\n",
       "      <td>[tensorflow, application development, machine ...</td>\n",
       "    </tr>\n",
       "    <tr>\n",
       "      <th>74</th>\n",
       "      <td>Information Tech Consultants</td>\n",
       "      <td>3.4</td>\n",
       "      <td>Junior Big Data Engineer</td>\n",
       "      <td>London, England</td>\n",
       "      <td>5d</td>\n",
       "      <td>£39K - £42K (Employer est.)</td>\n",
       "      <td>Power BI, R, SQL, Agile, IT</td>\n",
       "      <td>40500.0</td>\n",
       "      <td>[power bi, r, sql, agile, it]</td>\n",
       "    </tr>\n",
       "  </tbody>\n",
       "</table>\n",
       "</div>"
      ],
      "text/plain": [
       "                         Company  Company Score  \\\n",
       "0                     Razorpoint            3.4   \n",
       "1                  tower Hamlets            3.7   \n",
       "8                   MLN Security            3.2   \n",
       "11                       Volcore            3.9   \n",
       "53                    Razorpoint            4.4   \n",
       "62                      Robin AI            4.3   \n",
       "74  Information Tech Consultants            3.4   \n",
       "\n",
       "                                            Job Title  \\\n",
       "0                               Junior Data Scientist   \n",
       "1        Assistant Data Scientist (Graduate) | R-2375   \n",
       "8                               Junior Data Scientist   \n",
       "11  Graduate Software Engineer / Data Scientist: F...   \n",
       "53                                Junior Data Analyst   \n",
       "62                           Junior Applied Scientist   \n",
       "74                           Junior Big Data Engineer   \n",
       "\n",
       "                             Location  Date                           Salary  \\\n",
       "0                 Manchester, England    3d             £35K (Employer est.)   \n",
       "1                     London, England    5d  £31.00 Per Hour (Employer est.)   \n",
       "8   Barking, East of England, England  30d+     £49K - £70K (Glassdoor est.)   \n",
       "11                Manchester, England    3d             £48K (Employer est.)   \n",
       "53                    London, England   20d        FCFA 102K (Employer est.)   \n",
       "62                    London, England   18d     £34K - £65K (Glassdoor est.)   \n",
       "74                    London, England    5d      £39K - £42K (Employer est.)   \n",
       "\n",
       "                                               Skills  Average Salary  \\\n",
       "0   Data mining, Big data, R, Data analysis skills...         35000.0   \n",
       "1                          R, SQL, JavaScript, Python         65472.0   \n",
       "8                TensorFlow, SAS, Big data, Java, AWS         59500.0   \n",
       "11           Cloud infrastructure, Rust, Go, SQL, C++         48000.0   \n",
       "53  TensorFlow, Azure, R, Google Cloud Platform, T...        102000.0   \n",
       "62  TensorFlow, Application development, Machine l...         49500.0   \n",
       "74                        Power BI, R, SQL, Agile, IT         40500.0   \n",
       "\n",
       "                                          Skills List  \n",
       "0   [data mining, big data, r, data analysis skill...  \n",
       "1                        [r, sql, javascript, python]  \n",
       "8              [tensorflow, sas, big data, java, aws]  \n",
       "11         [cloud infrastructure, rust, go, sql, c++]  \n",
       "53  [tensorflow, azure, r, google cloud platform, ...  \n",
       "62  [tensorflow, application development, machine ...  \n",
       "74                      [power bi, r, sql, agile, it]  "
      ]
     },
     "execution_count": 266,
     "metadata": {},
     "output_type": "execute_result"
    }
   ],
   "source": [
    "junior_jobs"
   ]
  },
  {
   "cell_type": "code",
   "execution_count": 267,
   "id": "36eaffc2",
   "metadata": {},
   "outputs": [
    {
     "name": "stderr",
     "output_type": "stream",
     "text": [
      "C:\\Users\\luizs\\AppData\\Local\\Temp\\ipykernel_1700\\302166865.py:2: SettingWithCopyWarning:\n",
      "\n",
      "\n",
      "A value is trying to be set on a copy of a slice from a DataFrame.\n",
      "Try using .loc[row_indexer,col_indexer] = value instead\n",
      "\n",
      "See the caveats in the documentation: https://pandas.pydata.org/pandas-docs/stable/user_guide/indexing.html#returning-a-view-versus-a-copy\n",
      "\n"
     ]
    },
    {
     "data": {
      "image/png": "[encoded data removed]",
      "text/plain": [
       "<Figure size 1000x600 with 1 Axes>"
      ]
     },
     "metadata": {},
     "output_type": "display_data"
    }
   ],
   "source": [
    "# Limpar e separar as habilidades nas vagas de nível Júnior\n",
    "junior_jobs['Skills List'] = junior_jobs['Skills'].apply(clean_and_split_skills)\n",
    "\n",
    "# Unir todas as listas de habilidades em uma única lista\n",
    "junior_skills = [skill for sublist in junior_jobs['Skills List'] for skill in sublist]\n",
    "\n",
    "# Contar a frequência de cada habilidade\n",
    "junior_skill_counts = Counter(junior_skills)\n",
    "\n",
    "# Converter a contagem de habilidades em um DataFrame\n",
    "junior_skill_df = pd.DataFrame(junior_skill_counts.items(), columns=['Skill', 'Count']).sort_values(by='Count', ascending=False)\n",
    "\n",
    "# Visualizar as 10 principais habilidades em vagas de nível júnior\n",
    "top_10_junior_skills = junior_skill_df.head(15)\n",
    "\n",
    "# Gráfico de barras das 10 principais habilidades\n",
    "plt.figure(figsize=(10, 6))\n",
    "plt.barh(top_10_junior_skills['Skill'], top_10_junior_skills['Count'], color='lightgreen')\n",
    "plt.xlabel('Frequência')\n",
    "plt.ylabel('Habilidades')\n",
    "plt.title('Top 15 Skills para Cientistas de Dados Junior no Reino Unido')\n",
    "plt.gca().invert_yaxis()\n",
    "plt.show()"
   ]
  },
  {
   "cell_type": "code",
   "execution_count": 268,
   "id": "712e2657",
   "metadata": {},
   "outputs": [
    {
     "name": "stdout",
     "output_type": "stream",
     "text": [
      "Salário médio para vagas de nível Júnior: £57138.86\n"
     ]
    }
   ],
   "source": [
    "# Filtrar as colunas de salário nas vagas Júnior\n",
    "junior_jobs_with_salary = junior_jobs.dropna(subset=['Average Salary'])\n",
    "\n",
    "# Calcular o salário médio entre as vagas de nível Júnior\n",
    "average_junior_salary = junior_jobs_with_salary['Average Salary'].mean()\n",
    "\n",
    "print(f\"Salário médio para vagas de nível Júnior: £{average_junior_salary:.2f}\")"
   ]
  },
  {
   "cell_type": "code",
   "execution_count": 269,
   "id": "64c63ad8",
   "metadata": {
    "scrolled": true
   },
   "outputs": [
    {
     "name": "stdout",
     "output_type": "stream",
     "text": [
      "Mediana dos salários para vagas de nível Júnior: £49500.00\n"
     ]
    }
   ],
   "source": [
    "median_junior_salary = junior_jobs_with_salary[\"Average Salary\"].median()\n",
    "print(f\"Mediana dos salários para vagas de nível Júnior: £{median_junior_salary:.2f}\")"
   ]
  },
  {
   "cell_type": "code",
   "execution_count": 270,
   "id": "a2db862a",
   "metadata": {},
   "outputs": [],
   "source": [
    "# Filtrar as vagas de nível Pleno (Mid-level) e Sênior\n",
    "mid_level_jobs = data[data['Job Title'].str.contains('Mid-level|Midlevel|Mid|Intermediate|Experienced', case=False, na=False)]\n",
    "senior_jobs = data[data['Job Title'].str.contains('Senior|Lead|Head|Principal|Manager', case=False, na=False)]"
   ]
  },
  {
   "cell_type": "code",
   "execution_count": 271,
   "id": "827ede7a",
   "metadata": {},
   "outputs": [
    {
     "name": "stderr",
     "output_type": "stream",
     "text": [
      "C:\\Users\\luizs\\AppData\\Local\\Temp\\ipykernel_1700\\3912852512.py:2: SettingWithCopyWarning:\n",
      "\n",
      "\n",
      "A value is trying to be set on a copy of a slice from a DataFrame.\n",
      "Try using .loc[row_indexer,col_indexer] = value instead\n",
      "\n",
      "See the caveats in the documentation: https://pandas.pydata.org/pandas-docs/stable/user_guide/indexing.html#returning-a-view-versus-a-copy\n",
      "\n"
     ]
    },
    {
     "data": {
      "image/png": "[encoded data removed]",
      "text/plain": [
       "<Figure size 1000x600 with 1 Axes>"
      ]
     },
     "metadata": {},
     "output_type": "display_data"
    }
   ],
   "source": [
    "# Limpar e separar as habilidades nas vagas de nível Pleno\n",
    "mid_level_jobs['Skills List'] = mid_level_jobs['Skills'].apply(clean_and_split_skills)\n",
    "\n",
    "# Unir todas as listas de habilidades em uma única lista\n",
    "mid_level_skills = [skill for sublist in mid_level_jobs['Skills List'] for skill in sublist]\n",
    "\n",
    "# Contar a frequência de cada habilidade\n",
    "mid_level_skill_counts = Counter(mid_level_skills)\n",
    "\n",
    "# Converter a contagem de habilidades em um DataFrame\n",
    "mid_level_skill_df = pd.DataFrame(mid_level_skill_counts.items(), columns=['Skill', 'Count']).sort_values(by='Count', ascending=False)\n",
    "\n",
    "# Visualizar as 10 principais habilidades em vagas de nível Pleno\n",
    "top_15_mid_level_skills = mid_level_skill_df.head(15)\n",
    "\n",
    "# Gráfico de barras das 10 principais habilidades\n",
    "plt.figure(figsize=(10, 6))\n",
    "plt.barh(top_15_mid_level_skills['Skill'], top_15_mid_level_skills['Count'], color='lightblue')\n",
    "plt.xlabel('Frequência')\n",
    "plt.ylabel('Habilidades')\n",
    "plt.title('Top 15 Skills para Cientistas de Dados Pleno no Reino Unido')\n",
    "plt.gca().invert_yaxis()\n",
    "plt.show()"
   ]
  },
  {
   "cell_type": "code",
   "execution_count": 272,
   "id": "c5b35c6e",
   "metadata": {},
   "outputs": [
    {
     "name": "stdout",
     "output_type": "stream",
     "text": [
      "Salário médio para vagas de nível Pleno: £54125.00\n"
     ]
    }
   ],
   "source": [
    "# Filtrar as colunas de salário nas vagas de nível Pleno\n",
    "mid_level_jobs_with_salary = mid_level_jobs.dropna(subset=['Average Salary'])\n",
    "\n",
    "# Calcular o salário médio para vagas de nível Pleno\n",
    "average_mid_level_salary = mid_level_jobs_with_salary['Average Salary'].mean()\n",
    "\n",
    "print(f\"Salário médio para vagas de nível Pleno: £{average_mid_level_salary:.2f}\")"
   ]
  },
  {
   "cell_type": "code",
   "execution_count": 273,
   "id": "1f2f782c",
   "metadata": {},
   "outputs": [
    {
     "name": "stdout",
     "output_type": "stream",
     "text": [
      "Mediana dos salários para vagas de nível Pleno: £44000.00\n"
     ]
    }
   ],
   "source": [
    "# Calcular a mediana de salários para vagas de nível Pleno\n",
    "median_mid_level_salary = mid_level_jobs_with_salary['Average Salary'].median()\n",
    "\n",
    "print(f\"Mediana dos salários para vagas de nível Pleno: £{median_mid_level_salary:.2f}\")"
   ]
  },
  {
   "cell_type": "code",
   "execution_count": 274,
   "id": "00a9e8b3",
   "metadata": {
    "scrolled": true
   },
   "outputs": [
    {
     "name": "stderr",
     "output_type": "stream",
     "text": [
      "C:\\Users\\luizs\\AppData\\Local\\Temp\\ipykernel_1700\\3685312230.py:2: SettingWithCopyWarning:\n",
      "\n",
      "\n",
      "A value is trying to be set on a copy of a slice from a DataFrame.\n",
      "Try using .loc[row_indexer,col_indexer] = value instead\n",
      "\n",
      "See the caveats in the documentation: https://pandas.pydata.org/pandas-docs/stable/user_guide/indexing.html#returning-a-view-versus-a-copy\n",
      "\n"
     ]
    },
    {
     "data": {
      "image/png": "[encoded data removed]",
      "text/plain": [
       "<Figure size 1000x600 with 1 Axes>"
      ]
     },
     "metadata": {},
     "output_type": "display_data"
    }
   ],
   "source": [
    "# Limpar e separar as habilidades nas vagas de nível Sênior\n",
    "senior_jobs['Skills List'] = senior_jobs['Skills'].apply(clean_and_split_skills)\n",
    "\n",
    "# Unir todas as listas de habilidades em uma única lista\n",
    "senior_skills = [skill for sublist in senior_jobs['Skills List'] for skill in sublist]\n",
    "\n",
    "# Contar a frequência de cada habilidade\n",
    "senior_skill_counts = Counter(senior_skills)\n",
    "\n",
    "# Converter a contagem de habilidades em um DataFrame\n",
    "senior_skill_df = pd.DataFrame(senior_skill_counts.items(), columns=['Skill', 'Count']).sort_values(by='Count', ascending=False)\n",
    "\n",
    "# Visualizar as 10 principais habilidades em vagas de nível Sênior\n",
    "top_15_senior_skills = senior_skill_df.head(15)\n",
    "\n",
    "# Gráfico de barras das 10 principais habilidades\n",
    "plt.figure(figsize=(10, 6))\n",
    "plt.barh(top_15_senior_skills['Skill'], top_15_senior_skills['Count'], color='lightcoral')\n",
    "plt.xlabel('Frequência')\n",
    "plt.ylabel('Habilidades')\n",
    "plt.title('Top 15 Skills para Cientistas de Dados Sênior no Reino Unido')\n",
    "plt.gca().invert_yaxis()\n",
    "plt.show()"
   ]
  },
  {
   "cell_type": "code",
   "execution_count": 275,
   "id": "0d1807c6",
   "metadata": {},
   "outputs": [
    {
     "name": "stdout",
     "output_type": "stream",
     "text": [
      "Salário médio para vagas de nível Sênior: £68092.27\n"
     ]
    }
   ],
   "source": [
    "# Filtrar as colunas de salário nas vagas de nível Sênior\n",
    "senior_jobs_with_salary = senior_jobs.dropna(subset=['Average Salary'])\n",
    "\n",
    "# Calcular o salário médio para vagas de nível Sênior\n",
    "average_senior_salary = senior_jobs_with_salary['Average Salary'].mean()\n",
    "\n",
    "print(f\"Salário médio para vagas de nível Sênior: £{average_senior_salary:.2f}\")"
   ]
  },
  {
   "cell_type": "code",
   "execution_count": 276,
   "id": "eadcecc0",
   "metadata": {
    "scrolled": true
   },
   "outputs": [
    {
     "name": "stdout",
     "output_type": "stream",
     "text": [
      "Mediana dos salários para vagas de nível Sênior: £65000.00\n"
     ]
    }
   ],
   "source": [
    "# Calcular a mediana de salários para vagas de nível Sênior\n",
    "median_senior_level_salary = senior_jobs_with_salary['Average Salary'].median()\n",
    "\n",
    "print(f\"Mediana dos salários para vagas de nível Sênior: £{median_senior_level_salary:.2f}\")"
   ]
  },
  {
   "cell_type": "code",
   "execution_count": 277,
   "id": "50cce4f8",
   "metadata": {
    "scrolled": true
   },
   "outputs": [
    {
     "name": "stdout",
     "output_type": "stream",
     "text": [
      "Número de vagas Júnior: 16, Salário médio: £64904.50, Mediana: £57000.00\n",
      "Número de vagas Pleno: 5, Salário médio: £54125.00, Mediana: £44000.00\n",
      "Número de vagas Sênior: 326, Salário médio: £68092.27, Mediana: £65000.00\n"
     ]
    },
    {
     "name": "stderr",
     "output_type": "stream",
     "text": [
      "C:\\Users\\luizs\\AppData\\Local\\Temp\\ipykernel_1700\\3302857686.py:10: UserWarning:\n",
      "\n",
      "This pattern is interpreted as a regular expression, and has match groups. To actually get the groups, use str.extract.\n",
      "\n"
     ]
    }
   ],
   "source": [
    "# Função para calcular média e mediana salarial\n",
    "def calc_salary_stats(jobs_with_salary):\n",
    "    avg_salary = jobs_with_salary['Average Salary'].mean()\n",
    "    median_salary = jobs_with_salary['Average Salary'].median()\n",
    "    return avg_salary, median_salary\n",
    "\n",
    "# Filtrar as vagas de Júnior, Pleno e Sênior\n",
    "junior_jobs = data[data['Job Title'].str.contains('Junior|Graduate|Entry-level|Intern', case=False, na=False)]\n",
    "mid_level_jobs = data[data['Job Title'].str.contains('Mid-level|Mid|Intermediate|Experienced', case=False, na=False)]\n",
    "senior_jobs = data[data['Job Title'].str.contains('Senior|Lead|Head|Principal|Manager|(Senior)|Senior,', case=False, na=False)]\n",
    "\n",
    "# Contar o número de vagas em cada nível\n",
    "num_junior_jobs = junior_jobs.shape[0]\n",
    "num_mid_level_jobs = mid_level_jobs.shape[0]\n",
    "num_senior_jobs = senior_jobs.shape[0]\n",
    "\n",
    "# Calcular média e mediana salarial para cada nível\n",
    "junior_jobs_with_salary = junior_jobs.dropna(subset=['Average Salary'])\n",
    "mid_level_jobs_with_salary = mid_level_jobs.dropna(subset=['Average Salary'])\n",
    "senior_jobs_with_salary = senior_jobs.dropna(subset=['Average Salary'])\n",
    "\n",
    "junior_avg_salary, junior_median_salary = calc_salary_stats(junior_jobs_with_salary)\n",
    "mid_level_avg_salary, mid_level_median_salary = calc_salary_stats(mid_level_jobs_with_salary)\n",
    "senior_avg_salary, senior_median_salary = calc_salary_stats(senior_jobs_with_salary)\n",
    "\n",
    "print(f\"Número de vagas Júnior: {num_junior_jobs}, Salário médio: £{junior_avg_salary:.2f}, Mediana: £{junior_median_salary:.2f}\")\n",
    "print(f\"Número de vagas Pleno: {num_mid_level_jobs}, Salário médio: £{mid_level_avg_salary:.2f}, Mediana: £{mid_level_median_salary:.2f}\")\n",
    "print(f\"Número de vagas Sênior: {num_senior_jobs}, Salário médio: £{senior_avg_salary:.2f}, Mediana: £{senior_median_salary:.2f}\")"
   ]
  },
  {
   "cell_type": "code",
   "execution_count": 278,
   "id": "c0cd9646",
   "metadata": {},
   "outputs": [
    {
     "data": {
      "application/vnd.plotly.v1+json": {
       "config": {
        "plotlyServerURL": "https://plot.ly"
       },
       "data": [
        {
         "boxmean": "sd",
         "marker": {
          "color": "lightgreen"
         },
         "name": "Junior",
         "type": "box",
         "y": [
          35000,
          65472,
          59500,
          48000,
          36000,
          47000,
          55500,
          58500,
          102000,
          49500,
          70000,
          40500,
          63000,
          138000,
          116500,
          54000
         ]
        },
        {
         "boxmean": "sd",
         "marker": {
          "color": "lightblue"
         },
         "name": "Pleno",
         "type": "box",
         "y": [
          43500,
          44000,
          44000,
          85000
         ]
        },
        {
         "boxmean": "sd",
         "marker": {
          "color": "lightcoral"
         },
         "name": "Senior",
         "type": "box",
         "y": [
          40000,
          123000,
          34000,
          33500,
          33000,
          110000,
          56000,
          32000,
          70500,
          58000,
          60000,
          37500,
          67000,
          70000,
          35500,
          35000,
          83000,
          53500,
          55500,
          87500,
          73000,
          55000,
          102000,
          85500,
          52500,
          60000,
          62000,
          63000,
          50000,
          97000,
          137000,
          73500,
          25344,
          61500,
          32500,
          34000,
          67000,
          92500,
          56000,
          94500,
          40500,
          48000,
          60500,
          50000,
          83000,
          67000,
          43500,
          57500,
          62000,
          61000,
          83000,
          39500,
          58000,
          58500,
          140000,
          45500,
          67500,
          50000,
          73000,
          32500,
          40500,
          64500,
          52500,
          64500,
          58000,
          47500,
          67500,
          40000,
          73500,
          63000,
          69500,
          39000,
          60000,
          106000,
          90000,
          59500,
          58500,
          45000,
          41500,
          44000,
          47500,
          52500,
          57000,
          90000,
          131000,
          85000,
          54500,
          79000,
          55000,
          70000,
          50000,
          60000,
          54000,
          94000,
          85000,
          88000,
          41000,
          37500,
          104500,
          69500,
          138000,
          73000,
          69500,
          76000,
          60000,
          55500,
          51500,
          58000,
          67000,
          55500,
          65500,
          38000,
          105500,
          61000,
          40000,
          61000,
          71500,
          63500,
          38000,
          99500,
          50000,
          53500,
          115000,
          43500,
          43000,
          74500,
          55000,
          55000,
          62500,
          75500,
          85000,
          97500,
          80000,
          74500,
          97500,
          51500,
          47000,
          50000,
          110000,
          77000,
          70000,
          64000,
          47500,
          136000,
          69000,
          65000,
          56500,
          41000,
          57000,
          66500,
          71000,
          56000,
          68000,
          56500,
          59000,
          104500,
          87500,
          71000,
          70000,
          72500,
          100500,
          115000,
          45000,
          40000,
          61000,
          103000,
          74500,
          55000,
          119000,
          69500,
          56500,
          87500,
          115000,
          102500,
          90000,
          48000,
          136000,
          37500,
          79500,
          50000,
          44000,
          81500,
          55500,
          26000,
          137500,
          51000,
          74500,
          48500,
          69000,
          65500,
          78500,
          65000,
          51500,
          90000,
          94500,
          80000,
          67000,
          77500,
          77500,
          44000,
          70000,
          90000,
          75000,
          44000,
          48000,
          87000,
          87500,
          41000,
          69500,
          65000,
          64500,
          105000,
          95000,
          43500,
          74000,
          94000,
          54500,
          72000,
          68500,
          76000,
          66500,
          85000,
          66500,
          63000,
          78000,
          69500,
          78500,
          115000,
          74500,
          74500,
          41000,
          105500,
          85000,
          56000,
          122500,
          40000,
          40500,
          124000,
          75000,
          75000,
          46000,
          106500,
          57500,
          83500,
          50500,
          100000,
          48000,
          67500,
          70000,
          52000,
          37500,
          52500,
          41000
         ]
        }
       ],
       "layout": {
        "boxmode": "group",
        "template": {
         "data": {
          "bar": [
           {
            "error_x": {
             "color": "#2a3f5f"
            },
            "error_y": {
             "color": "#2a3f5f"
            },
            "marker": {
             "line": {
              "color": "white",
              "width": 0.5
             },
             "pattern": {
              "fillmode": "overlay",
              "size": 10,
              "solidity": 0.2
             }
            },
            "type": "bar"
           }
          ],
          "barpolar": [
           {
            "marker": {
             "line": {
              "color": "white",
              "width": 0.5
             },
             "pattern": {
              "fillmode": "overlay",
              "size": 10,
              "solidity": 0.2
             }
            },
            "type": "barpolar"
           }
          ],
          "carpet": [
           {
            "aaxis": {
             "endlinecolor": "#2a3f5f",
             "gridcolor": "#C8D4E3",
             "linecolor": "#C8D4E3",
             "minorgridcolor": "#C8D4E3",
             "startlinecolor": "#2a3f5f"
            },
            "baxis": {
             "endlinecolor": "#2a3f5f",
             "gridcolor": "#C8D4E3",
             "linecolor": "#C8D4E3",
             "minorgridcolor": "#C8D4E3",
             "startlinecolor": "#2a3f5f"
            },
            "type": "carpet"
           }
          ],
          "choropleth": [
           {
            "colorbar": {
             "outlinewidth": 0,
             "ticks": ""
            },
            "type": "choropleth"
           }
          ],
          "contour": [
           {
            "colorbar": {
             "outlinewidth": 0,
             "ticks": ""
            },
            "colorscale": [
             [
              0,
              "#0d0887"
             ],
             [
              0.1111111111111111,
              "#46039f"
             ],
             [
              0.2222222222222222,
              "#7201a8"
             ],
             [
              0.3333333333333333,
              "#9c179e"
             ],
             [
              0.4444444444444444,
              "#bd3786"
             ],
             [
              0.5555555555555556,
              "#d8576b"
             ],
             [
              0.6666666666666666,
              "#ed7953"
             ],
             [
              0.7777777777777778,
              "#fb9f3a"
             ],
             [
              0.8888888888888888,
              "#fdca26"
             ],
             [
              1,
              "#f0f921"
             ]
            ],
            "type": "contour"
           }
          ],
          "contourcarpet": [
           {
            "colorbar": {
             "outlinewidth": 0,
             "ticks": ""
            },
            "type": "contourcarpet"
           }
          ],
          "heatmap": [
           {
            "colorbar": {
             "outlinewidth": 0,
             "ticks": ""
            },
            "colorscale": [
             [
              0,
              "#0d0887"
             ],
             [
              0.1111111111111111,
              "#46039f"
             ],
             [
              0.2222222222222222,
              "#7201a8"
             ],
             [
              0.3333333333333333,
              "#9c179e"
             ],
             [
              0.4444444444444444,
              "#bd3786"
             ],
             [
              0.5555555555555556,
              "#d8576b"
             ],
             [
              0.6666666666666666,
              "#ed7953"
             ],
             [
              0.7777777777777778,
              "#fb9f3a"
             ],
             [
              0.8888888888888888,
              "#fdca26"
             ],
             [
              1,
              "#f0f921"
             ]
            ],
            "type": "heatmap"
           }
          ],
          "heatmapgl": [
           {
            "colorbar": {
             "outlinewidth": 0,
             "ticks": ""
            },
            "colorscale": [
             [
              0,
              "#0d0887"
             ],
             [
              0.1111111111111111,
              "#46039f"
             ],
             [
              0.2222222222222222,
              "#7201a8"
             ],
             [
              0.3333333333333333,
              "#9c179e"
             ],
             [
              0.4444444444444444,
              "#bd3786"
             ],
             [
              0.5555555555555556,
              "#d8576b"
             ],
             [
              0.6666666666666666,
              "#ed7953"
             ],
             [
              0.7777777777777778,
              "#fb9f3a"
             ],
             [
              0.8888888888888888,
              "#fdca26"
             ],
             [
              1,
              "#f0f921"
             ]
            ],
            "type": "heatmapgl"
           }
          ],
          "histogram": [
           {
            "marker": {
             "pattern": {
              "fillmode": "overlay",
              "size": 10,
              "solidity": 0.2
             }
            },
            "type": "histogram"
           }
          ],
          "histogram2d": [
           {
            "colorbar": {
             "outlinewidth": 0,
             "ticks": ""
            },
            "colorscale": [
             [
              0,
              "#0d0887"
             ],
             [
              0.1111111111111111,
              "#46039f"
             ],
             [
              0.2222222222222222,
              "#7201a8"
             ],
             [
              0.3333333333333333,
              "#9c179e"
             ],
             [
              0.4444444444444444,
              "#bd3786"
             ],
             [
              0.5555555555555556,
              "#d8576b"
             ],
             [
              0.6666666666666666,
              "#ed7953"
             ],
             [
              0.7777777777777778,
              "#fb9f3a"
             ],
             [
              0.8888888888888888,
              "#fdca26"
             ],
             [
              1,
              "#f0f921"
             ]
            ],
            "type": "histogram2d"
           }
          ],
          "histogram2dcontour": [
           {
            "colorbar": {
             "outlinewidth": 0,
             "ticks": ""
            },
            "colorscale": [
             [
              0,
              "#0d0887"
             ],
             [
              0.1111111111111111,
              "#46039f"
             ],
             [
              0.2222222222222222,
              "#7201a8"
             ],
             [
              0.3333333333333333,
              "#9c179e"
             ],
             [
              0.4444444444444444,
              "#bd3786"
             ],
             [
              0.5555555555555556,
              "#d8576b"
             ],
             [
              0.6666666666666666,
              "#ed7953"
             ],
             [
              0.7777777777777778,
              "#fb9f3a"
             ],
             [
              0.8888888888888888,
              "#fdca26"
             ],
             [
              1,
              "#f0f921"
             ]
            ],
            "type": "histogram2dcontour"
           }
          ],
          "mesh3d": [
           {
            "colorbar": {
             "outlinewidth": 0,
             "ticks": ""
            },
            "type": "mesh3d"
           }
          ],
          "parcoords": [
           {
            "line": {
             "colorbar": {
              "outlinewidth": 0,
              "ticks": ""
             }
            },
            "type": "parcoords"
           }
          ],
          "pie": [
           {
            "automargin": true,
            "type": "pie"
           }
          ],
          "scatter": [
           {
            "fillpattern": {
             "fillmode": "overlay",
             "size": 10,
             "solidity": 0.2
            },
            "type": "scatter"
           }
          ],
          "scatter3d": [
           {
            "line": {
             "colorbar": {
              "outlinewidth": 0,
              "ticks": ""
             }
            },
            "marker": {
             "colorbar": {
              "outlinewidth": 0,
              "ticks": ""
             }
            },
            "type": "scatter3d"
           }
          ],
          "scattercarpet": [
           {
            "marker": {
             "colorbar": {
              "outlinewidth": 0,
              "ticks": ""
             }
            },
            "type": "scattercarpet"
           }
          ],
          "scattergeo": [
           {
            "marker": {
             "colorbar": {
              "outlinewidth": 0,
              "ticks": ""
             }
            },
            "type": "scattergeo"
           }
          ],
          "scattergl": [
           {
            "marker": {
             "colorbar": {
              "outlinewidth": 0,
              "ticks": ""
             }
            },
            "type": "scattergl"
           }
          ],
          "scattermapbox": [
           {
            "marker": {
             "colorbar": {
              "outlinewidth": 0,
              "ticks": ""
             }
            },
            "type": "scattermapbox"
           }
          ],
          "scatterpolar": [
           {
            "marker": {
             "colorbar": {
              "outlinewidth": 0,
              "ticks": ""
             }
            },
            "type": "scatterpolar"
           }
          ],
          "scatterpolargl": [
           {
            "marker": {
             "colorbar": {
              "outlinewidth": 0,
              "ticks": ""
             }
            },
            "type": "scatterpolargl"
           }
          ],
          "scatterternary": [
           {
            "marker": {
             "colorbar": {
              "outlinewidth": 0,
              "ticks": ""
             }
            },
            "type": "scatterternary"
           }
          ],
          "surface": [
           {
            "colorbar": {
             "outlinewidth": 0,
             "ticks": ""
            },
            "colorscale": [
             [
              0,
              "#0d0887"
             ],
             [
              0.1111111111111111,
              "#46039f"
             ],
             [
              0.2222222222222222,
              "#7201a8"
             ],
             [
              0.3333333333333333,
              "#9c179e"
             ],
             [
              0.4444444444444444,
              "#bd3786"
             ],
             [
              0.5555555555555556,
              "#d8576b"
             ],
             [
              0.6666666666666666,
              "#ed7953"
             ],
             [
              0.7777777777777778,
              "#fb9f3a"
             ],
             [
              0.8888888888888888,
              "#fdca26"
             ],
             [
              1,
              "#f0f921"
             ]
            ],
            "type": "surface"
           }
          ],
          "table": [
           {
            "cells": {
             "fill": {
              "color": "#EBF0F8"
             },
             "line": {
              "color": "white"
             }
            },
            "header": {
             "fill": {
              "color": "#C8D4E3"
             },
             "line": {
              "color": "white"
             }
            },
            "type": "table"
           }
          ]
         },
         "layout": {
          "annotationdefaults": {
           "arrowcolor": "#2a3f5f",
           "arrowhead": 0,
           "arrowwidth": 1
          },
          "autotypenumbers": "strict",
          "coloraxis": {
           "colorbar": {
            "outlinewidth": 0,
            "ticks": ""
           }
          },
          "colorscale": {
           "diverging": [
            [
             0,
             "#8e0152"
            ],
            [
             0.1,
             "#c51b7d"
            ],
            [
             0.2,
             "#de77ae"
            ],
            [
             0.3,
             "#f1b6da"
            ],
            [
             0.4,
             "#fde0ef"
            ],
            [
             0.5,
             "#f7f7f7"
            ],
            [
             0.6,
             "#e6f5d0"
            ],
            [
             0.7,
             "#b8e186"
            ],
            [
             0.8,
             "#7fbc41"
            ],
            [
             0.9,
             "#4d9221"
            ],
            [
             1,
             "#276419"
            ]
           ],
           "sequential": [
            [
             0,
             "#0d0887"
            ],
            [
             0.1111111111111111,
             "#46039f"
            ],
            [
             0.2222222222222222,
             "#7201a8"
            ],
            [
             0.3333333333333333,
             "#9c179e"
            ],
            [
             0.4444444444444444,
             "#bd3786"
            ],
            [
             0.5555555555555556,
             "#d8576b"
            ],
            [
             0.6666666666666666,
             "#ed7953"
            ],
            [
             0.7777777777777778,
             "#fb9f3a"
            ],
            [
             0.8888888888888888,
             "#fdca26"
            ],
            [
             1,
             "#f0f921"
            ]
           ],
           "sequentialminus": [
            [
             0,
             "#0d0887"
            ],
            [
             0.1111111111111111,
             "#46039f"
            ],
            [
             0.2222222222222222,
             "#7201a8"
            ],
            [
             0.3333333333333333,
             "#9c179e"
            ],
            [
             0.4444444444444444,
             "#bd3786"
            ],
            [
             0.5555555555555556,
             "#d8576b"
            ],
            [
             0.6666666666666666,
             "#ed7953"
            ],
            [
             0.7777777777777778,
             "#fb9f3a"
            ],
            [
             0.8888888888888888,
             "#fdca26"
            ],
            [
             1,
             "#f0f921"
            ]
           ]
          },
          "colorway": [
           "#636efa",
           "#EF553B",
           "#00cc96",
           "#ab63fa",
           "#FFA15A",
           "#19d3f3",
           "#FF6692",
           "#B6E880",
           "#FF97FF",
           "#FECB52"
          ],
          "font": {
           "color": "#2a3f5f"
          },
          "geo": {
           "bgcolor": "white",
           "lakecolor": "white",
           "landcolor": "white",
           "showlakes": true,
           "showland": true,
           "subunitcolor": "#C8D4E3"
          },
          "hoverlabel": {
           "align": "left"
          },
          "hovermode": "closest",
          "mapbox": {
           "style": "light"
          },
          "paper_bgcolor": "white",
          "plot_bgcolor": "white",
          "polar": {
           "angularaxis": {
            "gridcolor": "#EBF0F8",
            "linecolor": "#EBF0F8",
            "ticks": ""
           },
           "bgcolor": "white",
           "radialaxis": {
            "gridcolor": "#EBF0F8",
            "linecolor": "#EBF0F8",
            "ticks": ""
           }
          },
          "scene": {
           "xaxis": {
            "backgroundcolor": "white",
            "gridcolor": "#DFE8F3",
            "gridwidth": 2,
            "linecolor": "#EBF0F8",
            "showbackground": true,
            "ticks": "",
            "zerolinecolor": "#EBF0F8"
           },
           "yaxis": {
            "backgroundcolor": "white",
            "gridcolor": "#DFE8F3",
            "gridwidth": 2,
            "linecolor": "#EBF0F8",
            "showbackground": true,
            "ticks": "",
            "zerolinecolor": "#EBF0F8"
           },
           "zaxis": {
            "backgroundcolor": "white",
            "gridcolor": "#DFE8F3",
            "gridwidth": 2,
            "linecolor": "#EBF0F8",
            "showbackground": true,
            "ticks": "",
            "zerolinecolor": "#EBF0F8"
           }
          },
          "shapedefaults": {
           "line": {
            "color": "#2a3f5f"
           }
          },
          "ternary": {
           "aaxis": {
            "gridcolor": "#DFE8F3",
            "linecolor": "#A2B1C6",
            "ticks": ""
           },
           "baxis": {
            "gridcolor": "#DFE8F3",
            "linecolor": "#A2B1C6",
            "ticks": ""
           },
           "bgcolor": "white",
           "caxis": {
            "gridcolor": "#DFE8F3",
            "linecolor": "#A2B1C6",
            "ticks": ""
           }
          },
          "title": {
           "x": 0.05
          },
          "xaxis": {
           "automargin": true,
           "gridcolor": "#EBF0F8",
           "linecolor": "#EBF0F8",
           "ticks": "",
           "title": {
            "standoff": 15
           },
           "zerolinecolor": "#EBF0F8",
           "zerolinewidth": 2
          },
          "yaxis": {
           "automargin": true,
           "gridcolor": "#EBF0F8",
           "linecolor": "#EBF0F8",
           "ticks": "",
           "title": {
            "standoff": 15
           },
           "zerolinecolor": "#EBF0F8",
           "zerolinewidth": 2
          }
         }
        },
        "title": {
         "text": "Comparação de Salários por Nível de Experiência"
        },
        "xaxis": {
         "title": {
          "text": "Nível Profissional"
         }
        },
        "yaxis": {
         "title": {
          "text": "Salário Médio (£)"
         }
        }
       }
      },
      "text/html": [
       "<div>                            <div id=\"7239bc36-8434-4b4b-9a10-cea4b0f8bf4e\" class=\"plotly-graph-div\" style=\"height:525px; width:100%;\"></div>            <script type=\"text/javascript\">                require([\"plotly\"], function(Plotly) {                    window.PLOTLYENV=window.PLOTLYENV || {};                                    if (document.getElementById(\"7239bc36-8434-4b4b-9a10-cea4b0f8bf4e\")) {                    Plotly.newPlot(                        \"7239bc36-8434-4b4b-9a10-cea4b0f8bf4e\",                        [{\"boxmean\":\"sd\",\"marker\":{\"color\":\"lightgreen\"},\"name\":\"Junior\",\"y\":[35000.0,65472.0,59500.0,48000.0,36000.0,47000.0,55500.0,58500.0,102000.0,49500.0,70000.0,40500.0,63000.0,138000.0,116500.0,54000.0],\"type\":\"box\"},{\"boxmean\":\"sd\",\"marker\":{\"color\":\"lightblue\"},\"name\":\"Pleno\",\"y\":[43500.0,44000.0,44000.0,85000.0],\"type\":\"box\"},{\"boxmean\":\"sd\",\"marker\":{\"color\":\"lightcoral\"},\"name\":\"Senior\",\"y\":[40000.0,123000.0,34000.0,33500.0,33000.0,110000.0,56000.0,32000.0,70500.0,58000.0,60000.0,37500.0,67000.0,70000.0,35500.0,35000.0,83000.0,53500.0,55500.0,87500.0,73000.0,55000.0,102000.0,85500.0,52500.0,60000.0,62000.0,63000.0,50000.0,97000.0,137000.0,73500.0,25344.0,61500.0,32500.0,34000.0,67000.0,92500.0,56000.0,94500.0,40500.0,48000.0,60500.0,50000.0,83000.0,67000.0,43500.0,57500.0,62000.0,61000.0,83000.0,39500.0,58000.0,58500.0,140000.0,45500.0,67500.0,50000.0,73000.0,32500.0,40500.0,64500.0,52500.0,64500.0,58000.0,47500.0,67500.0,40000.0,73500.0,63000.0,69500.0,39000.0,60000.0,106000.0,90000.0,59500.0,58500.0,45000.0,41500.0,44000.0,47500.0,52500.0,57000.0,90000.0,131000.0,85000.0,54500.0,79000.0,55000.0,70000.0,50000.0,60000.0,54000.0,94000.0,85000.0,88000.0,41000.0,37500.0,104500.0,69500.0,138000.0,73000.0,69500.0,76000.0,60000.0,55500.0,51500.0,58000.0,67000.0,55500.0,65500.0,38000.0,105500.0,61000.0,40000.0,61000.0,71500.0,63500.0,38000.0,99500.0,50000.0,53500.0,115000.0,43500.0,43000.0,74500.0,55000.0,55000.0,62500.0,75500.0,85000.0,97500.0,80000.0,74500.0,97500.0,51500.0,47000.0,50000.0,110000.0,77000.0,70000.0,64000.0,47500.0,136000.0,69000.0,65000.0,56500.0,41000.0,57000.0,66500.0,71000.0,56000.0,68000.0,56500.0,59000.0,104500.0,87500.0,71000.0,70000.0,72500.0,100500.0,115000.0,45000.0,40000.0,61000.0,103000.0,74500.0,55000.0,119000.0,69500.0,56500.0,87500.0,115000.0,102500.0,90000.0,48000.0,136000.0,37500.0,79500.0,50000.0,44000.0,81500.0,55500.0,26000.0,137500.0,51000.0,74500.0,48500.0,69000.0,65500.0,78500.0,65000.0,51500.0,90000.0,94500.0,80000.0,67000.0,77500.0,77500.0,44000.0,70000.0,90000.0,75000.0,44000.0,48000.0,87000.0,87500.0,41000.0,69500.0,65000.0,64500.0,105000.0,95000.0,43500.0,74000.0,94000.0,54500.0,72000.0,68500.0,76000.0,66500.0,85000.0,66500.0,63000.0,78000.0,69500.0,78500.0,115000.0,74500.0,74500.0,41000.0,105500.0,85000.0,56000.0,122500.0,40000.0,40500.0,124000.0,75000.0,75000.0,46000.0,106500.0,57500.0,83500.0,50500.0,100000.0,48000.0,67500.0,70000.0,52000.0,37500.0,52500.0,41000.0],\"type\":\"box\"}],                        {\"template\":{\"data\":{\"barpolar\":[{\"marker\":{\"line\":{\"color\":\"white\",\"width\":0.5},\"pattern\":{\"fillmode\":\"overlay\",\"size\":10,\"solidity\":0.2}},\"type\":\"barpolar\"}],\"bar\":[{\"error_x\":{\"color\":\"#2a3f5f\"},\"error_y\":{\"color\":\"#2a3f5f\"},\"marker\":{\"line\":{\"color\":\"white\",\"width\":0.5},\"pattern\":{\"fillmode\":\"overlay\",\"size\":10,\"solidity\":0.2}},\"type\":\"bar\"}],\"carpet\":[{\"aaxis\":{\"endlinecolor\":\"#2a3f5f\",\"gridcolor\":\"#C8D4E3\",\"linecolor\":\"#C8D4E3\",\"minorgridcolor\":\"#C8D4E3\",\"startlinecolor\":\"#2a3f5f\"},\"baxis\":{\"endlinecolor\":\"#2a3f5f\",\"gridcolor\":\"#C8D4E3\",\"linecolor\":\"#C8D4E3\",\"minorgridcolor\":\"#C8D4E3\",\"startlinecolor\":\"#2a3f5f\"},\"type\":\"carpet\"}],\"choropleth\":[{\"colorbar\":{\"outlinewidth\":0,\"ticks\":\"\"},\"type\":\"choropleth\"}],\"contourcarpet\":[{\"colorbar\":{\"outlinewidth\":0,\"ticks\":\"\"},\"type\":\"contourcarpet\"}],\"contour\":[{\"colorbar\":{\"outlinewidth\":0,\"ticks\":\"\"},\"colorscale\":[[0.0,\"#0d0887\"],[0.1111111111111111,\"#46039f\"],[0.2222222222222222,\"#7201a8\"],[0.3333333333333333,\"#9c179e\"],[0.4444444444444444,\"#bd3786\"],[0.5555555555555556,\"#d8576b\"],[0.6666666666666666,\"#ed7953\"],[0.7777777777777778,\"#fb9f3a\"],[0.8888888888888888,\"#fdca26\"],[1.0,\"#f0f921\"]],\"type\":\"contour\"}],\"heatmapgl\":[{\"colorbar\":{\"outlinewidth\":0,\"ticks\":\"\"},\"colorscale\":[[0.0,\"#0d0887\"],[0.1111111111111111,\"#46039f\"],[0.2222222222222222,\"#7201a8\"],[0.3333333333333333,\"#9c179e\"],[0.4444444444444444,\"#bd3786\"],[0.5555555555555556,\"#d8576b\"],[0.6666666666666666,\"#ed7953\"],[0.7777777777777778,\"#fb9f3a\"],[0.8888888888888888,\"#fdca26\"],[1.0,\"#f0f921\"]],\"type\":\"heatmapgl\"}],\"heatmap\":[{\"colorbar\":{\"outlinewidth\":0,\"ticks\":\"\"},\"colorscale\":[[0.0,\"#0d0887\"],[0.1111111111111111,\"#46039f\"],[0.2222222222222222,\"#7201a8\"],[0.3333333333333333,\"#9c179e\"],[0.4444444444444444,\"#bd3786\"],[0.5555555555555556,\"#d8576b\"],[0.6666666666666666,\"#ed7953\"],[0.7777777777777778,\"#fb9f3a\"],[0.8888888888888888,\"#fdca26\"],[1.0,\"#f0f921\"]],\"type\":\"heatmap\"}],\"histogram2dcontour\":[{\"colorbar\":{\"outlinewidth\":0,\"ticks\":\"\"},\"colorscale\":[[0.0,\"#0d0887\"],[0.1111111111111111,\"#46039f\"],[0.2222222222222222,\"#7201a8\"],[0.3333333333333333,\"#9c179e\"],[0.4444444444444444,\"#bd3786\"],[0.5555555555555556,\"#d8576b\"],[0.6666666666666666,\"#ed7953\"],[0.7777777777777778,\"#fb9f3a\"],[0.8888888888888888,\"#fdca26\"],[1.0,\"#f0f921\"]],\"type\":\"histogram2dcontour\"}],\"histogram2d\":[{\"colorbar\":{\"outlinewidth\":0,\"ticks\":\"\"},\"colorscale\":[[0.0,\"#0d0887\"],[0.1111111111111111,\"#46039f\"],[0.2222222222222222,\"#7201a8\"],[0.3333333333333333,\"#9c179e\"],[0.4444444444444444,\"#bd3786\"],[0.5555555555555556,\"#d8576b\"],[0.6666666666666666,\"#ed7953\"],[0.7777777777777778,\"#fb9f3a\"],[0.8888888888888888,\"#fdca26\"],[1.0,\"#f0f921\"]],\"type\":\"histogram2d\"}],\"histogram\":[{\"marker\":{\"pattern\":{\"fillmode\":\"overlay\",\"size\":10,\"solidity\":0.2}},\"type\":\"histogram\"}],\"mesh3d\":[{\"colorbar\":{\"outlinewidth\":0,\"ticks\":\"\"},\"type\":\"mesh3d\"}],\"parcoords\":[{\"line\":{\"colorbar\":{\"outlinewidth\":0,\"ticks\":\"\"}},\"type\":\"parcoords\"}],\"pie\":[{\"automargin\":true,\"type\":\"pie\"}],\"scatter3d\":[{\"line\":{\"colorbar\":{\"outlinewidth\":0,\"ticks\":\"\"}},\"marker\":{\"colorbar\":{\"outlinewidth\":0,\"ticks\":\"\"}},\"type\":\"scatter3d\"}],\"scattercarpet\":[{\"marker\":{\"colorbar\":{\"outlinewidth\":0,\"ticks\":\"\"}},\"type\":\"scattercarpet\"}],\"scattergeo\":[{\"marker\":{\"colorbar\":{\"outlinewidth\":0,\"ticks\":\"\"}},\"type\":\"scattergeo\"}],\"scattergl\":[{\"marker\":{\"colorbar\":{\"outlinewidth\":0,\"ticks\":\"\"}},\"type\":\"scattergl\"}],\"scattermapbox\":[{\"marker\":{\"colorbar\":{\"outlinewidth\":0,\"ticks\":\"\"}},\"type\":\"scattermapbox\"}],\"scatterpolargl\":[{\"marker\":{\"colorbar\":{\"outlinewidth\":0,\"ticks\":\"\"}},\"type\":\"scatterpolargl\"}],\"scatterpolar\":[{\"marker\":{\"colorbar\":{\"outlinewidth\":0,\"ticks\":\"\"}},\"type\":\"scatterpolar\"}],\"scatter\":[{\"fillpattern\":{\"fillmode\":\"overlay\",\"size\":10,\"solidity\":0.2},\"type\":\"scatter\"}],\"scatterternary\":[{\"marker\":{\"colorbar\":{\"outlinewidth\":0,\"ticks\":\"\"}},\"type\":\"scatterternary\"}],\"surface\":[{\"colorbar\":{\"outlinewidth\":0,\"ticks\":\"\"},\"colorscale\":[[0.0,\"#0d0887\"],[0.1111111111111111,\"#46039f\"],[0.2222222222222222,\"#7201a8\"],[0.3333333333333333,\"#9c179e\"],[0.4444444444444444,\"#bd3786\"],[0.5555555555555556,\"#d8576b\"],[0.6666666666666666,\"#ed7953\"],[0.7777777777777778,\"#fb9f3a\"],[0.8888888888888888,\"#fdca26\"],[1.0,\"#f0f921\"]],\"type\":\"surface\"}],\"table\":[{\"cells\":{\"fill\":{\"color\":\"#EBF0F8\"},\"line\":{\"color\":\"white\"}},\"header\":{\"fill\":{\"color\":\"#C8D4E3\"},\"line\":{\"color\":\"white\"}},\"type\":\"table\"}]},\"layout\":{\"annotationdefaults\":{\"arrowcolor\":\"#2a3f5f\",\"arrowhead\":0,\"arrowwidth\":1},\"autotypenumbers\":\"strict\",\"coloraxis\":{\"colorbar\":{\"outlinewidth\":0,\"ticks\":\"\"}},\"colorscale\":{\"diverging\":[[0,\"#8e0152\"],[0.1,\"#c51b7d\"],[0.2,\"#de77ae\"],[0.3,\"#f1b6da\"],[0.4,\"#fde0ef\"],[0.5,\"#f7f7f7\"],[0.6,\"#e6f5d0\"],[0.7,\"#b8e186\"],[0.8,\"#7fbc41\"],[0.9,\"#4d9221\"],[1,\"#276419\"]],\"sequential\":[[0.0,\"#0d0887\"],[0.1111111111111111,\"#46039f\"],[0.2222222222222222,\"#7201a8\"],[0.3333333333333333,\"#9c179e\"],[0.4444444444444444,\"#bd3786\"],[0.5555555555555556,\"#d8576b\"],[0.6666666666666666,\"#ed7953\"],[0.7777777777777778,\"#fb9f3a\"],[0.8888888888888888,\"#fdca26\"],[1.0,\"#f0f921\"]],\"sequentialminus\":[[0.0,\"#0d0887\"],[0.1111111111111111,\"#46039f\"],[0.2222222222222222,\"#7201a8\"],[0.3333333333333333,\"#9c179e\"],[0.4444444444444444,\"#bd3786\"],[0.5555555555555556,\"#d8576b\"],[0.6666666666666666,\"#ed7953\"],[0.7777777777777778,\"#fb9f3a\"],[0.8888888888888888,\"#fdca26\"],[1.0,\"#f0f921\"]]},\"colorway\":[\"#636efa\",\"#EF553B\",\"#00cc96\",\"#ab63fa\",\"#FFA15A\",\"#19d3f3\",\"#FF6692\",\"#B6E880\",\"#FF97FF\",\"#FECB52\"],\"font\":{\"color\":\"#2a3f5f\"},\"geo\":{\"bgcolor\":\"white\",\"lakecolor\":\"white\",\"landcolor\":\"white\",\"showlakes\":true,\"showland\":true,\"subunitcolor\":\"#C8D4E3\"},\"hoverlabel\":{\"align\":\"left\"},\"hovermode\":\"closest\",\"mapbox\":{\"style\":\"light\"},\"paper_bgcolor\":\"white\",\"plot_bgcolor\":\"white\",\"polar\":{\"angularaxis\":{\"gridcolor\":\"#EBF0F8\",\"linecolor\":\"#EBF0F8\",\"ticks\":\"\"},\"bgcolor\":\"white\",\"radialaxis\":{\"gridcolor\":\"#EBF0F8\",\"linecolor\":\"#EBF0F8\",\"ticks\":\"\"}},\"scene\":{\"xaxis\":{\"backgroundcolor\":\"white\",\"gridcolor\":\"#DFE8F3\",\"gridwidth\":2,\"linecolor\":\"#EBF0F8\",\"showbackground\":true,\"ticks\":\"\",\"zerolinecolor\":\"#EBF0F8\"},\"yaxis\":{\"backgroundcolor\":\"white\",\"gridcolor\":\"#DFE8F3\",\"gridwidth\":2,\"linecolor\":\"#EBF0F8\",\"showbackground\":true,\"ticks\":\"\",\"zerolinecolor\":\"#EBF0F8\"},\"zaxis\":{\"backgroundcolor\":\"white\",\"gridcolor\":\"#DFE8F3\",\"gridwidth\":2,\"linecolor\":\"#EBF0F8\",\"showbackground\":true,\"ticks\":\"\",\"zerolinecolor\":\"#EBF0F8\"}},\"shapedefaults\":{\"line\":{\"color\":\"#2a3f5f\"}},\"ternary\":{\"aaxis\":{\"gridcolor\":\"#DFE8F3\",\"linecolor\":\"#A2B1C6\",\"ticks\":\"\"},\"baxis\":{\"gridcolor\":\"#DFE8F3\",\"linecolor\":\"#A2B1C6\",\"ticks\":\"\"},\"bgcolor\":\"white\",\"caxis\":{\"gridcolor\":\"#DFE8F3\",\"linecolor\":\"#A2B1C6\",\"ticks\":\"\"}},\"title\":{\"x\":0.05},\"xaxis\":{\"automargin\":true,\"gridcolor\":\"#EBF0F8\",\"linecolor\":\"#EBF0F8\",\"ticks\":\"\",\"title\":{\"standoff\":15},\"zerolinecolor\":\"#EBF0F8\",\"zerolinewidth\":2},\"yaxis\":{\"automargin\":true,\"gridcolor\":\"#EBF0F8\",\"linecolor\":\"#EBF0F8\",\"ticks\":\"\",\"title\":{\"standoff\":15},\"zerolinecolor\":\"#EBF0F8\",\"zerolinewidth\":2}}},\"title\":{\"text\":\"Compara\\u00e7\\u00e3o de Sal\\u00e1rios por N\\u00edvel de Experi\\u00eancia\"},\"yaxis\":{\"title\":{\"text\":\"Sal\\u00e1rio M\\u00e9dio (\\u00a3)\"}},\"xaxis\":{\"title\":{\"text\":\"N\\u00edvel Profissional\"}},\"boxmode\":\"group\"},                        {\"responsive\": true}                    ).then(function(){\n",
       "                            \n",
       "var gd = document.getElementById('7239bc36-8434-4b4b-9a10-cea4b0f8bf4e');\n",
       "var x = new MutationObserver(function (mutations, observer) {{\n",
       "        var display = window.getComputedStyle(gd).display;\n",
       "        if (!display || display === 'none') {{\n",
       "            console.log([gd, 'removed!']);\n",
       "            Plotly.purge(gd);\n",
       "            observer.disconnect();\n",
       "        }}\n",
       "}});\n",
       "\n",
       "// Listen for the removal of the full notebook cells\n",
       "var notebookContainer = gd.closest('#notebook-container');\n",
       "if (notebookContainer) {{\n",
       "    x.observe(notebookContainer, {childList: true});\n",
       "}}\n",
       "\n",
       "// Listen for the clearing of the current output cell\n",
       "var outputEl = gd.closest('.output');\n",
       "if (outputEl) {{\n",
       "    x.observe(outputEl, {childList: true});\n",
       "}}\n",
       "\n",
       "                        })                };                });            </script>        </div>"
      ]
     },
     "metadata": {},
     "output_type": "display_data"
    }
   ],
   "source": [
    "import plotly.graph_objects as go\n",
    "\n",
    "# Criar uma figura para os três box-plots\n",
    "fig = go.Figure()\n",
    "\n",
    "# Adicionar box-plot para as vagas de nível Júnior\n",
    "fig.add_trace(go.Box(\n",
    "    y=junior_jobs_with_salary['Average Salary'],\n",
    "    name='Junior',\n",
    "    marker_color='lightgreen',\n",
    "    boxmean='sd'  # Exibir média e desvio padrão\n",
    "))\n",
    "\n",
    "# Adicionar box-plot para as vagas de nível Pleno (Mid-level)\n",
    "fig.add_trace(go.Box(\n",
    "    y=mid_level_jobs_with_salary['Average Salary'],\n",
    "    name='Pleno',\n",
    "    marker_color='lightblue',\n",
    "    boxmean='sd'  # Exibir média e desvio padrão\n",
    "))\n",
    "\n",
    "# Adicionar box-plot para as vagas de nível Sênior\n",
    "fig.add_trace(go.Box(\n",
    "    y=senior_jobs_with_salary['Average Salary'],\n",
    "    name='Senior',\n",
    "    marker_color='lightcoral',\n",
    "    boxmean='sd'  # Exibir média e desvio padrão\n",
    "))\n",
    "\n",
    "# Customizar o layout do gráfico\n",
    "fig.update_layout(\n",
    "    title=\"Comparação de Salários por Nível de Experiência\",\n",
    "    yaxis_title=\"Salário Médio (£)\",\n",
    "    xaxis_title=\"Nível Profissional\",\n",
    "    boxmode='group',  # Agrupar os box-plots lado a lado\n",
    "    template=\"plotly_white\"\n",
    ")\n",
    "\n",
    "# Exibir o gráfico\n",
    "fig.show()"
   ]
  },
  {
   "cell_type": "code",
   "execution_count": 279,
   "id": "29b8e993",
   "metadata": {
    "scrolled": true
   },
   "outputs": [
    {
     "data": {
      "application/vnd.plotly.v1+json": {
       "config": {
        "plotlyServerURL": "https://plot.ly"
       },
       "data": [
        {
         "boxmean": true,
         "marker": {
          "color": "lightblue"
         },
         "name": "Junior (sem outliers)",
         "type": "box",
         "y": [
          35000,
          65472,
          59500,
          48000,
          36000,
          47000,
          55500,
          58500,
          49500,
          70000,
          40500,
          63000,
          54000
         ]
        },
        {
         "boxmean": true,
         "marker": {
          "color": "salmon"
         },
         "name": "Senior (sem outliers)",
         "type": "box",
         "y": [
          40000,
          34000,
          33500,
          33000,
          110000,
          56000,
          32000,
          70500,
          58000,
          60000,
          37500,
          67000,
          70000,
          35500,
          35000,
          83000,
          53500,
          55500,
          87500,
          73000,
          55000,
          102000,
          85500,
          52500,
          60000,
          62000,
          63000,
          50000,
          97000,
          73500,
          25344,
          61500,
          32500,
          34000,
          67000,
          92500,
          56000,
          94500,
          40500,
          48000,
          60500,
          50000,
          83000,
          67000,
          43500,
          57500,
          62000,
          61000,
          83000,
          39500,
          58000,
          58500,
          45500,
          67500,
          50000,
          73000,
          32500,
          40500,
          64500,
          52500,
          64500,
          58000,
          47500,
          67500,
          40000,
          73500,
          63000,
          69500,
          39000,
          60000,
          106000,
          90000,
          59500,
          58500,
          45000,
          41500,
          44000,
          47500,
          52500,
          57000,
          90000,
          85000,
          54500,
          79000,
          55000,
          70000,
          50000,
          60000,
          54000,
          94000,
          85000,
          88000,
          41000,
          37500,
          104500,
          69500,
          73000,
          69500,
          76000,
          60000,
          55500,
          51500,
          58000,
          67000,
          55500,
          65500,
          38000,
          105500,
          61000,
          40000,
          61000,
          71500,
          63500,
          38000,
          99500,
          50000,
          53500,
          115000,
          43500,
          43000,
          74500,
          55000,
          55000,
          62500,
          75500,
          85000,
          97500,
          80000,
          74500,
          97500,
          51500,
          47000,
          50000,
          110000,
          77000,
          70000,
          64000,
          47500,
          69000,
          65000,
          56500,
          41000,
          57000,
          66500,
          71000,
          56000,
          68000,
          56500,
          59000,
          104500,
          87500,
          71000,
          70000,
          72500,
          100500,
          115000,
          45000,
          40000,
          61000,
          103000,
          74500,
          55000,
          119000,
          69500,
          56500,
          87500,
          115000,
          102500,
          90000,
          48000,
          37500,
          79500,
          50000,
          44000,
          81500,
          55500,
          26000,
          51000,
          74500,
          48500,
          69000,
          65500,
          78500,
          65000,
          51500,
          90000,
          94500,
          80000,
          67000,
          77500,
          77500,
          44000,
          70000,
          90000,
          75000,
          44000,
          48000,
          87000,
          87500,
          41000,
          69500,
          65000,
          64500,
          105000,
          95000,
          43500,
          74000,
          94000,
          54500,
          72000,
          68500,
          76000,
          66500,
          85000,
          66500,
          63000,
          78000,
          69500,
          78500,
          115000,
          74500,
          74500,
          41000,
          105500,
          85000,
          56000,
          40000,
          40500,
          75000,
          75000,
          46000,
          106500,
          57500,
          83500,
          50500,
          100000,
          48000,
          67500,
          70000,
          52000,
          37500,
          52500,
          41000
         ]
        }
       ],
       "layout": {
        "boxmode": "group",
        "template": {
         "data": {
          "bar": [
           {
            "error_x": {
             "color": "#2a3f5f"
            },
            "error_y": {
             "color": "#2a3f5f"
            },
            "marker": {
             "line": {
              "color": "#E5ECF6",
              "width": 0.5
             },
             "pattern": {
              "fillmode": "overlay",
              "size": 10,
              "solidity": 0.2
             }
            },
            "type": "bar"
           }
          ],
          "barpolar": [
           {
            "marker": {
             "line": {
              "color": "#E5ECF6",
              "width": 0.5
             },
             "pattern": {
              "fillmode": "overlay",
              "size": 10,
              "solidity": 0.2
             }
            },
            "type": "barpolar"
           }
          ],
          "carpet": [
           {
            "aaxis": {
             "endlinecolor": "#2a3f5f",
             "gridcolor": "white",
             "linecolor": "white",
             "minorgridcolor": "white",
             "startlinecolor": "#2a3f5f"
            },
            "baxis": {
             "endlinecolor": "#2a3f5f",
             "gridcolor": "white",
             "linecolor": "white",
             "minorgridcolor": "white",
             "startlinecolor": "#2a3f5f"
            },
            "type": "carpet"
           }
          ],
          "choropleth": [
           {
            "colorbar": {
             "outlinewidth": 0,
             "ticks": ""
            },
            "type": "choropleth"
           }
          ],
          "contour": [
           {
            "colorbar": {
             "outlinewidth": 0,
             "ticks": ""
            },
            "colorscale": [
             [
              0,
              "#0d0887"
             ],
             [
              0.1111111111111111,
              "#46039f"
             ],
             [
              0.2222222222222222,
              "#7201a8"
             ],
             [
              0.3333333333333333,
              "#9c179e"
             ],
             [
              0.4444444444444444,
              "#bd3786"
             ],
             [
              0.5555555555555556,
              "#d8576b"
             ],
             [
              0.6666666666666666,
              "#ed7953"
             ],
             [
              0.7777777777777778,
              "#fb9f3a"
             ],
             [
              0.8888888888888888,
              "#fdca26"
             ],
             [
              1,
              "#f0f921"
             ]
            ],
            "type": "contour"
           }
          ],
          "contourcarpet": [
           {
            "colorbar": {
             "outlinewidth": 0,
             "ticks": ""
            },
            "type": "contourcarpet"
           }
          ],
          "heatmap": [
           {
            "colorbar": {
             "outlinewidth": 0,
             "ticks": ""
            },
            "colorscale": [
             [
              0,
              "#0d0887"
             ],
             [
              0.1111111111111111,
              "#46039f"
             ],
             [
              0.2222222222222222,
              "#7201a8"
             ],
             [
              0.3333333333333333,
              "#9c179e"
             ],
             [
              0.4444444444444444,
              "#bd3786"
             ],
             [
              0.5555555555555556,
              "#d8576b"
             ],
             [
              0.6666666666666666,
              "#ed7953"
             ],
             [
              0.7777777777777778,
              "#fb9f3a"
             ],
             [
              0.8888888888888888,
              "#fdca26"
             ],
             [
              1,
              "#f0f921"
             ]
            ],
            "type": "heatmap"
           }
          ],
          "heatmapgl": [
           {
            "colorbar": {
             "outlinewidth": 0,
             "ticks": ""
            },
            "colorscale": [
             [
              0,
              "#0d0887"
             ],
             [
              0.1111111111111111,
              "#46039f"
             ],
             [
              0.2222222222222222,
              "#7201a8"
             ],
             [
              0.3333333333333333,
              "#9c179e"
             ],
             [
              0.4444444444444444,
              "#bd3786"
             ],
             [
              0.5555555555555556,
              "#d8576b"
             ],
             [
              0.6666666666666666,
              "#ed7953"
             ],
             [
              0.7777777777777778,
              "#fb9f3a"
             ],
             [
              0.8888888888888888,
              "#fdca26"
             ],
             [
              1,
              "#f0f921"
             ]
            ],
            "type": "heatmapgl"
           }
          ],
          "histogram": [
           {
            "marker": {
             "pattern": {
              "fillmode": "overlay",
              "size": 10,
              "solidity": 0.2
             }
            },
            "type": "histogram"
           }
          ],
          "histogram2d": [
           {
            "colorbar": {
             "outlinewidth": 0,
             "ticks": ""
            },
            "colorscale": [
             [
              0,
              "#0d0887"
             ],
             [
              0.1111111111111111,
              "#46039f"
             ],
             [
              0.2222222222222222,
              "#7201a8"
             ],
             [
              0.3333333333333333,
              "#9c179e"
             ],
             [
              0.4444444444444444,
              "#bd3786"
             ],
             [
              0.5555555555555556,
              "#d8576b"
             ],
             [
              0.6666666666666666,
              "#ed7953"
             ],
             [
              0.7777777777777778,
              "#fb9f3a"
             ],
             [
              0.8888888888888888,
              "#fdca26"
             ],
             [
              1,
              "#f0f921"
             ]
            ],
            "type": "histogram2d"
           }
          ],
          "histogram2dcontour": [
           {
            "colorbar": {
             "outlinewidth": 0,
             "ticks": ""
            },
            "colorscale": [
             [
              0,
              "#0d0887"
             ],
             [
              0.1111111111111111,
              "#46039f"
             ],
             [
              0.2222222222222222,
              "#7201a8"
             ],
             [
              0.3333333333333333,
              "#9c179e"
             ],
             [
              0.4444444444444444,
              "#bd3786"
             ],
             [
              0.5555555555555556,
              "#d8576b"
             ],
             [
              0.6666666666666666,
              "#ed7953"
             ],
             [
              0.7777777777777778,
              "#fb9f3a"
             ],
             [
              0.8888888888888888,
              "#fdca26"
             ],
             [
              1,
              "#f0f921"
             ]
            ],
            "type": "histogram2dcontour"
           }
          ],
          "mesh3d": [
           {
            "colorbar": {
             "outlinewidth": 0,
             "ticks": ""
            },
            "type": "mesh3d"
           }
          ],
          "parcoords": [
           {
            "line": {
             "colorbar": {
              "outlinewidth": 0,
              "ticks": ""
             }
            },
            "type": "parcoords"
           }
          ],
          "pie": [
           {
            "automargin": true,
            "type": "pie"
           }
          ],
          "scatter": [
           {
            "fillpattern": {
             "fillmode": "overlay",
             "size": 10,
             "solidity": 0.2
            },
            "type": "scatter"
           }
          ],
          "scatter3d": [
           {
            "line": {
             "colorbar": {
              "outlinewidth": 0,
              "ticks": ""
             }
            },
            "marker": {
             "colorbar": {
              "outlinewidth": 0,
              "ticks": ""
             }
            },
            "type": "scatter3d"
           }
          ],
          "scattercarpet": [
           {
            "marker": {
             "colorbar": {
              "outlinewidth": 0,
              "ticks": ""
             }
            },
            "type": "scattercarpet"
           }
          ],
          "scattergeo": [
           {
            "marker": {
             "colorbar": {
              "outlinewidth": 0,
              "ticks": ""
             }
            },
            "type": "scattergeo"
           }
          ],
          "scattergl": [
           {
            "marker": {
             "colorbar": {
              "outlinewidth": 0,
              "ticks": ""
             }
            },
            "type": "scattergl"
           }
          ],
          "scattermapbox": [
           {
            "marker": {
             "colorbar": {
              "outlinewidth": 0,
              "ticks": ""
             }
            },
            "type": "scattermapbox"
           }
          ],
          "scatterpolar": [
           {
            "marker": {
             "colorbar": {
              "outlinewidth": 0,
              "ticks": ""
             }
            },
            "type": "scatterpolar"
           }
          ],
          "scatterpolargl": [
           {
            "marker": {
             "colorbar": {
              "outlinewidth": 0,
              "ticks": ""
             }
            },
            "type": "scatterpolargl"
           }
          ],
          "scatterternary": [
           {
            "marker": {
             "colorbar": {
              "outlinewidth": 0,
              "ticks": ""
             }
            },
            "type": "scatterternary"
           }
          ],
          "surface": [
           {
            "colorbar": {
             "outlinewidth": 0,
             "ticks": ""
            },
            "colorscale": [
             [
              0,
              "#0d0887"
             ],
             [
              0.1111111111111111,
              "#46039f"
             ],
             [
              0.2222222222222222,
              "#7201a8"
             ],
             [
              0.3333333333333333,
              "#9c179e"
             ],
             [
              0.4444444444444444,
              "#bd3786"
             ],
             [
              0.5555555555555556,
              "#d8576b"
             ],
             [
              0.6666666666666666,
              "#ed7953"
             ],
             [
              0.7777777777777778,
              "#fb9f3a"
             ],
             [
              0.8888888888888888,
              "#fdca26"
             ],
             [
              1,
              "#f0f921"
             ]
            ],
            "type": "surface"
           }
          ],
          "table": [
           {
            "cells": {
             "fill": {
              "color": "#EBF0F8"
             },
             "line": {
              "color": "white"
             }
            },
            "header": {
             "fill": {
              "color": "#C8D4E3"
             },
             "line": {
              "color": "white"
             }
            },
            "type": "table"
           }
          ]
         },
         "layout": {
          "annotationdefaults": {
           "arrowcolor": "#2a3f5f",
           "arrowhead": 0,
           "arrowwidth": 1
          },
          "autotypenumbers": "strict",
          "coloraxis": {
           "colorbar": {
            "outlinewidth": 0,
            "ticks": ""
           }
          },
          "colorscale": {
           "diverging": [
            [
             0,
             "#8e0152"
            ],
            [
             0.1,
             "#c51b7d"
            ],
            [
             0.2,
             "#de77ae"
            ],
            [
             0.3,
             "#f1b6da"
            ],
            [
             0.4,
             "#fde0ef"
            ],
            [
             0.5,
             "#f7f7f7"
            ],
            [
             0.6,
             "#e6f5d0"
            ],
            [
             0.7,
             "#b8e186"
            ],
            [
             0.8,
             "#7fbc41"
            ],
            [
             0.9,
             "#4d9221"
            ],
            [
             1,
             "#276419"
            ]
           ],
           "sequential": [
            [
             0,
             "#0d0887"
            ],
            [
             0.1111111111111111,
             "#46039f"
            ],
            [
             0.2222222222222222,
             "#7201a8"
            ],
            [
             0.3333333333333333,
             "#9c179e"
            ],
            [
             0.4444444444444444,
             "#bd3786"
            ],
            [
             0.5555555555555556,
             "#d8576b"
            ],
            [
             0.6666666666666666,
             "#ed7953"
            ],
            [
             0.7777777777777778,
             "#fb9f3a"
            ],
            [
             0.8888888888888888,
             "#fdca26"
            ],
            [
             1,
             "#f0f921"
            ]
           ],
           "sequentialminus": [
            [
             0,
             "#0d0887"
            ],
            [
             0.1111111111111111,
             "#46039f"
            ],
            [
             0.2222222222222222,
             "#7201a8"
            ],
            [
             0.3333333333333333,
             "#9c179e"
            ],
            [
             0.4444444444444444,
             "#bd3786"
            ],
            [
             0.5555555555555556,
             "#d8576b"
            ],
            [
             0.6666666666666666,
             "#ed7953"
            ],
            [
             0.7777777777777778,
             "#fb9f3a"
            ],
            [
             0.8888888888888888,
             "#fdca26"
            ],
            [
             1,
             "#f0f921"
            ]
           ]
          },
          "colorway": [
           "#636efa",
           "#EF553B",
           "#00cc96",
           "#ab63fa",
           "#FFA15A",
           "#19d3f3",
           "#FF6692",
           "#B6E880",
           "#FF97FF",
           "#FECB52"
          ],
          "font": {
           "color": "#2a3f5f"
          },
          "geo": {
           "bgcolor": "white",
           "lakecolor": "white",
           "landcolor": "#E5ECF6",
           "showlakes": true,
           "showland": true,
           "subunitcolor": "white"
          },
          "hoverlabel": {
           "align": "left"
          },
          "hovermode": "closest",
          "mapbox": {
           "style": "light"
          },
          "paper_bgcolor": "white",
          "plot_bgcolor": "#E5ECF6",
          "polar": {
           "angularaxis": {
            "gridcolor": "white",
            "linecolor": "white",
            "ticks": ""
           },
           "bgcolor": "#E5ECF6",
           "radialaxis": {
            "gridcolor": "white",
            "linecolor": "white",
            "ticks": ""
           }
          },
          "scene": {
           "xaxis": {
            "backgroundcolor": "#E5ECF6",
            "gridcolor": "white",
            "gridwidth": 2,
            "linecolor": "white",
            "showbackground": true,
            "ticks": "",
            "zerolinecolor": "white"
           },
           "yaxis": {
            "backgroundcolor": "#E5ECF6",
            "gridcolor": "white",
            "gridwidth": 2,
            "linecolor": "white",
            "showbackground": true,
            "ticks": "",
            "zerolinecolor": "white"
           },
           "zaxis": {
            "backgroundcolor": "#E5ECF6",
            "gridcolor": "white",
            "gridwidth": 2,
            "linecolor": "white",
            "showbackground": true,
            "ticks": "",
            "zerolinecolor": "white"
           }
          },
          "shapedefaults": {
           "line": {
            "color": "#2a3f5f"
           }
          },
          "ternary": {
           "aaxis": {
            "gridcolor": "white",
            "linecolor": "white",
            "ticks": ""
           },
           "baxis": {
            "gridcolor": "white",
            "linecolor": "white",
            "ticks": ""
           },
           "bgcolor": "#E5ECF6",
           "caxis": {
            "gridcolor": "white",
            "linecolor": "white",
            "ticks": ""
           }
          },
          "title": {
           "x": 0.05
          },
          "xaxis": {
           "automargin": true,
           "gridcolor": "white",
           "linecolor": "white",
           "ticks": "",
           "title": {
            "standoff": 15
           },
           "zerolinecolor": "white",
           "zerolinewidth": 2
          },
          "yaxis": {
           "automargin": true,
           "gridcolor": "white",
           "linecolor": "white",
           "ticks": "",
           "title": {
            "standoff": 15
           },
           "zerolinecolor": "white",
           "zerolinewidth": 2
          }
         }
        },
        "title": {
         "text": "Comparação de Salários por Nível de Experiência (Sem Outliers)"
        },
        "xaxis": {
         "title": {
          "text": "Nível Profissional"
         }
        },
        "yaxis": {
         "title": {
          "text": "Salário Médio (£)"
         }
        }
       }
      },
      "text/html": [
       "<div>                            <div id=\"0074e711-d25e-4af3-9b22-523677d7455b\" class=\"plotly-graph-div\" style=\"height:525px; width:100%;\"></div>            <script type=\"text/javascript\">                require([\"plotly\"], function(Plotly) {                    window.PLOTLYENV=window.PLOTLYENV || {};                                    if (document.getElementById(\"0074e711-d25e-4af3-9b22-523677d7455b\")) {                    Plotly.newPlot(                        \"0074e711-d25e-4af3-9b22-523677d7455b\",                        [{\"boxmean\":true,\"marker\":{\"color\":\"lightblue\"},\"name\":\"Junior (sem outliers)\",\"y\":[35000.0,65472.0,59500.0,48000.0,36000.0,47000.0,55500.0,58500.0,49500.0,70000.0,40500.0,63000.0,54000.0],\"type\":\"box\"},{\"boxmean\":true,\"marker\":{\"color\":\"salmon\"},\"name\":\"Senior (sem outliers)\",\"y\":[40000.0,34000.0,33500.0,33000.0,110000.0,56000.0,32000.0,70500.0,58000.0,60000.0,37500.0,67000.0,70000.0,35500.0,35000.0,83000.0,53500.0,55500.0,87500.0,73000.0,55000.0,102000.0,85500.0,52500.0,60000.0,62000.0,63000.0,50000.0,97000.0,73500.0,25344.0,61500.0,32500.0,34000.0,67000.0,92500.0,56000.0,94500.0,40500.0,48000.0,60500.0,50000.0,83000.0,67000.0,43500.0,57500.0,62000.0,61000.0,83000.0,39500.0,58000.0,58500.0,45500.0,67500.0,50000.0,73000.0,32500.0,40500.0,64500.0,52500.0,64500.0,58000.0,47500.0,67500.0,40000.0,73500.0,63000.0,69500.0,39000.0,60000.0,106000.0,90000.0,59500.0,58500.0,45000.0,41500.0,44000.0,47500.0,52500.0,57000.0,90000.0,85000.0,54500.0,79000.0,55000.0,70000.0,50000.0,60000.0,54000.0,94000.0,85000.0,88000.0,41000.0,37500.0,104500.0,69500.0,73000.0,69500.0,76000.0,60000.0,55500.0,51500.0,58000.0,67000.0,55500.0,65500.0,38000.0,105500.0,61000.0,40000.0,61000.0,71500.0,63500.0,38000.0,99500.0,50000.0,53500.0,115000.0,43500.0,43000.0,74500.0,55000.0,55000.0,62500.0,75500.0,85000.0,97500.0,80000.0,74500.0,97500.0,51500.0,47000.0,50000.0,110000.0,77000.0,70000.0,64000.0,47500.0,69000.0,65000.0,56500.0,41000.0,57000.0,66500.0,71000.0,56000.0,68000.0,56500.0,59000.0,104500.0,87500.0,71000.0,70000.0,72500.0,100500.0,115000.0,45000.0,40000.0,61000.0,103000.0,74500.0,55000.0,119000.0,69500.0,56500.0,87500.0,115000.0,102500.0,90000.0,48000.0,37500.0,79500.0,50000.0,44000.0,81500.0,55500.0,26000.0,51000.0,74500.0,48500.0,69000.0,65500.0,78500.0,65000.0,51500.0,90000.0,94500.0,80000.0,67000.0,77500.0,77500.0,44000.0,70000.0,90000.0,75000.0,44000.0,48000.0,87000.0,87500.0,41000.0,69500.0,65000.0,64500.0,105000.0,95000.0,43500.0,74000.0,94000.0,54500.0,72000.0,68500.0,76000.0,66500.0,85000.0,66500.0,63000.0,78000.0,69500.0,78500.0,115000.0,74500.0,74500.0,41000.0,105500.0,85000.0,56000.0,40000.0,40500.0,75000.0,75000.0,46000.0,106500.0,57500.0,83500.0,50500.0,100000.0,48000.0,67500.0,70000.0,52000.0,37500.0,52500.0,41000.0],\"type\":\"box\"}],                        {\"template\":{\"data\":{\"histogram2dcontour\":[{\"type\":\"histogram2dcontour\",\"colorbar\":{\"outlinewidth\":0,\"ticks\":\"\"},\"colorscale\":[[0.0,\"#0d0887\"],[0.1111111111111111,\"#46039f\"],[0.2222222222222222,\"#7201a8\"],[0.3333333333333333,\"#9c179e\"],[0.4444444444444444,\"#bd3786\"],[0.5555555555555556,\"#d8576b\"],[0.6666666666666666,\"#ed7953\"],[0.7777777777777778,\"#fb9f3a\"],[0.8888888888888888,\"#fdca26\"],[1.0,\"#f0f921\"]]}],\"choropleth\":[{\"type\":\"choropleth\",\"colorbar\":{\"outlinewidth\":0,\"ticks\":\"\"}}],\"histogram2d\":[{\"type\":\"histogram2d\",\"colorbar\":{\"outlinewidth\":0,\"ticks\":\"\"},\"colorscale\":[[0.0,\"#0d0887\"],[0.1111111111111111,\"#46039f\"],[0.2222222222222222,\"#7201a8\"],[0.3333333333333333,\"#9c179e\"],[0.4444444444444444,\"#bd3786\"],[0.5555555555555556,\"#d8576b\"],[0.6666666666666666,\"#ed7953\"],[0.7777777777777778,\"#fb9f3a\"],[0.8888888888888888,\"#fdca26\"],[1.0,\"#f0f921\"]]}],\"heatmap\":[{\"type\":\"heatmap\",\"colorbar\":{\"outlinewidth\":0,\"ticks\":\"\"},\"colorscale\":[[0.0,\"#0d0887\"],[0.1111111111111111,\"#46039f\"],[0.2222222222222222,\"#7201a8\"],[0.3333333333333333,\"#9c179e\"],[0.4444444444444444,\"#bd3786\"],[0.5555555555555556,\"#d8576b\"],[0.6666666666666666,\"#ed7953\"],[0.7777777777777778,\"#fb9f3a\"],[0.8888888888888888,\"#fdca26\"],[1.0,\"#f0f921\"]]}],\"heatmapgl\":[{\"type\":\"heatmapgl\",\"colorbar\":{\"outlinewidth\":0,\"ticks\":\"\"},\"colorscale\":[[0.0,\"#0d0887\"],[0.1111111111111111,\"#46039f\"],[0.2222222222222222,\"#7201a8\"],[0.3333333333333333,\"#9c179e\"],[0.4444444444444444,\"#bd3786\"],[0.5555555555555556,\"#d8576b\"],[0.6666666666666666,\"#ed7953\"],[0.7777777777777778,\"#fb9f3a\"],[0.8888888888888888,\"#fdca26\"],[1.0,\"#f0f921\"]]}],\"contourcarpet\":[{\"type\":\"contourcarpet\",\"colorbar\":{\"outlinewidth\":0,\"ticks\":\"\"}}],\"contour\":[{\"type\":\"contour\",\"colorbar\":{\"outlinewidth\":0,\"ticks\":\"\"},\"colorscale\":[[0.0,\"#0d0887\"],[0.1111111111111111,\"#46039f\"],[0.2222222222222222,\"#7201a8\"],[0.3333333333333333,\"#9c179e\"],[0.4444444444444444,\"#bd3786\"],[0.5555555555555556,\"#d8576b\"],[0.6666666666666666,\"#ed7953\"],[0.7777777777777778,\"#fb9f3a\"],[0.8888888888888888,\"#fdca26\"],[1.0,\"#f0f921\"]]}],\"surface\":[{\"type\":\"surface\",\"colorbar\":{\"outlinewidth\":0,\"ticks\":\"\"},\"colorscale\":[[0.0,\"#0d0887\"],[0.1111111111111111,\"#46039f\"],[0.2222222222222222,\"#7201a8\"],[0.3333333333333333,\"#9c179e\"],[0.4444444444444444,\"#bd3786\"],[0.5555555555555556,\"#d8576b\"],[0.6666666666666666,\"#ed7953\"],[0.7777777777777778,\"#fb9f3a\"],[0.8888888888888888,\"#fdca26\"],[1.0,\"#f0f921\"]]}],\"mesh3d\":[{\"type\":\"mesh3d\",\"colorbar\":{\"outlinewidth\":0,\"ticks\":\"\"}}],\"scatter\":[{\"fillpattern\":{\"fillmode\":\"overlay\",\"size\":10,\"solidity\":0.2},\"type\":\"scatter\"}],\"parcoords\":[{\"type\":\"parcoords\",\"line\":{\"colorbar\":{\"outlinewidth\":0,\"ticks\":\"\"}}}],\"scatterpolargl\":[{\"type\":\"scatterpolargl\",\"marker\":{\"colorbar\":{\"outlinewidth\":0,\"ticks\":\"\"}}}],\"bar\":[{\"error_x\":{\"color\":\"#2a3f5f\"},\"error_y\":{\"color\":\"#2a3f5f\"},\"marker\":{\"line\":{\"color\":\"#E5ECF6\",\"width\":0.5},\"pattern\":{\"fillmode\":\"overlay\",\"size\":10,\"solidity\":0.2}},\"type\":\"bar\"}],\"scattergeo\":[{\"type\":\"scattergeo\",\"marker\":{\"colorbar\":{\"outlinewidth\":0,\"ticks\":\"\"}}}],\"scatterpolar\":[{\"type\":\"scatterpolar\",\"marker\":{\"colorbar\":{\"outlinewidth\":0,\"ticks\":\"\"}}}],\"histogram\":[{\"marker\":{\"pattern\":{\"fillmode\":\"overlay\",\"size\":10,\"solidity\":0.2}},\"type\":\"histogram\"}],\"scattergl\":[{\"type\":\"scattergl\",\"marker\":{\"colorbar\":{\"outlinewidth\":0,\"ticks\":\"\"}}}],\"scatter3d\":[{\"type\":\"scatter3d\",\"line\":{\"colorbar\":{\"outlinewidth\":0,\"ticks\":\"\"}},\"marker\":{\"colorbar\":{\"outlinewidth\":0,\"ticks\":\"\"}}}],\"scattermapbox\":[{\"type\":\"scattermapbox\",\"marker\":{\"colorbar\":{\"outlinewidth\":0,\"ticks\":\"\"}}}],\"scatterternary\":[{\"type\":\"scatterternary\",\"marker\":{\"colorbar\":{\"outlinewidth\":0,\"ticks\":\"\"}}}],\"scattercarpet\":[{\"type\":\"scattercarpet\",\"marker\":{\"colorbar\":{\"outlinewidth\":0,\"ticks\":\"\"}}}],\"carpet\":[{\"aaxis\":{\"endlinecolor\":\"#2a3f5f\",\"gridcolor\":\"white\",\"linecolor\":\"white\",\"minorgridcolor\":\"white\",\"startlinecolor\":\"#2a3f5f\"},\"baxis\":{\"endlinecolor\":\"#2a3f5f\",\"gridcolor\":\"white\",\"linecolor\":\"white\",\"minorgridcolor\":\"white\",\"startlinecolor\":\"#2a3f5f\"},\"type\":\"carpet\"}],\"table\":[{\"cells\":{\"fill\":{\"color\":\"#EBF0F8\"},\"line\":{\"color\":\"white\"}},\"header\":{\"fill\":{\"color\":\"#C8D4E3\"},\"line\":{\"color\":\"white\"}},\"type\":\"table\"}],\"barpolar\":[{\"marker\":{\"line\":{\"color\":\"#E5ECF6\",\"width\":0.5},\"pattern\":{\"fillmode\":\"overlay\",\"size\":10,\"solidity\":0.2}},\"type\":\"barpolar\"}],\"pie\":[{\"automargin\":true,\"type\":\"pie\"}]},\"layout\":{\"autotypenumbers\":\"strict\",\"colorway\":[\"#636efa\",\"#EF553B\",\"#00cc96\",\"#ab63fa\",\"#FFA15A\",\"#19d3f3\",\"#FF6692\",\"#B6E880\",\"#FF97FF\",\"#FECB52\"],\"font\":{\"color\":\"#2a3f5f\"},\"hovermode\":\"closest\",\"hoverlabel\":{\"align\":\"left\"},\"paper_bgcolor\":\"white\",\"plot_bgcolor\":\"#E5ECF6\",\"polar\":{\"bgcolor\":\"#E5ECF6\",\"angularaxis\":{\"gridcolor\":\"white\",\"linecolor\":\"white\",\"ticks\":\"\"},\"radialaxis\":{\"gridcolor\":\"white\",\"linecolor\":\"white\",\"ticks\":\"\"}},\"ternary\":{\"bgcolor\":\"#E5ECF6\",\"aaxis\":{\"gridcolor\":\"white\",\"linecolor\":\"white\",\"ticks\":\"\"},\"baxis\":{\"gridcolor\":\"white\",\"linecolor\":\"white\",\"ticks\":\"\"},\"caxis\":{\"gridcolor\":\"white\",\"linecolor\":\"white\",\"ticks\":\"\"}},\"coloraxis\":{\"colorbar\":{\"outlinewidth\":0,\"ticks\":\"\"}},\"colorscale\":{\"sequential\":[[0.0,\"#0d0887\"],[0.1111111111111111,\"#46039f\"],[0.2222222222222222,\"#7201a8\"],[0.3333333333333333,\"#9c179e\"],[0.4444444444444444,\"#bd3786\"],[0.5555555555555556,\"#d8576b\"],[0.6666666666666666,\"#ed7953\"],[0.7777777777777778,\"#fb9f3a\"],[0.8888888888888888,\"#fdca26\"],[1.0,\"#f0f921\"]],\"sequentialminus\":[[0.0,\"#0d0887\"],[0.1111111111111111,\"#46039f\"],[0.2222222222222222,\"#7201a8\"],[0.3333333333333333,\"#9c179e\"],[0.4444444444444444,\"#bd3786\"],[0.5555555555555556,\"#d8576b\"],[0.6666666666666666,\"#ed7953\"],[0.7777777777777778,\"#fb9f3a\"],[0.8888888888888888,\"#fdca26\"],[1.0,\"#f0f921\"]],\"diverging\":[[0,\"#8e0152\"],[0.1,\"#c51b7d\"],[0.2,\"#de77ae\"],[0.3,\"#f1b6da\"],[0.4,\"#fde0ef\"],[0.5,\"#f7f7f7\"],[0.6,\"#e6f5d0\"],[0.7,\"#b8e186\"],[0.8,\"#7fbc41\"],[0.9,\"#4d9221\"],[1,\"#276419\"]]},\"xaxis\":{\"gridcolor\":\"white\",\"linecolor\":\"white\",\"ticks\":\"\",\"title\":{\"standoff\":15},\"zerolinecolor\":\"white\",\"automargin\":true,\"zerolinewidth\":2},\"yaxis\":{\"gridcolor\":\"white\",\"linecolor\":\"white\",\"ticks\":\"\",\"title\":{\"standoff\":15},\"zerolinecolor\":\"white\",\"automargin\":true,\"zerolinewidth\":2},\"scene\":{\"xaxis\":{\"backgroundcolor\":\"#E5ECF6\",\"gridcolor\":\"white\",\"linecolor\":\"white\",\"showbackground\":true,\"ticks\":\"\",\"zerolinecolor\":\"white\",\"gridwidth\":2},\"yaxis\":{\"backgroundcolor\":\"#E5ECF6\",\"gridcolor\":\"white\",\"linecolor\":\"white\",\"showbackground\":true,\"ticks\":\"\",\"zerolinecolor\":\"white\",\"gridwidth\":2},\"zaxis\":{\"backgroundcolor\":\"#E5ECF6\",\"gridcolor\":\"white\",\"linecolor\":\"white\",\"showbackground\":true,\"ticks\":\"\",\"zerolinecolor\":\"white\",\"gridwidth\":2}},\"shapedefaults\":{\"line\":{\"color\":\"#2a3f5f\"}},\"annotationdefaults\":{\"arrowcolor\":\"#2a3f5f\",\"arrowhead\":0,\"arrowwidth\":1},\"geo\":{\"bgcolor\":\"white\",\"landcolor\":\"#E5ECF6\",\"subunitcolor\":\"white\",\"showland\":true,\"showlakes\":true,\"lakecolor\":\"white\"},\"title\":{\"x\":0.05},\"mapbox\":{\"style\":\"light\"}}},\"title\":{\"text\":\"Compara\\u00e7\\u00e3o de Sal\\u00e1rios por N\\u00edvel de Experi\\u00eancia (Sem Outliers)\"},\"yaxis\":{\"title\":{\"text\":\"Sal\\u00e1rio M\\u00e9dio (\\u00a3)\"}},\"xaxis\":{\"title\":{\"text\":\"N\\u00edvel Profissional\"}},\"boxmode\":\"group\"},                        {\"responsive\": true}                    ).then(function(){\n",
       "                            \n",
       "var gd = document.getElementById('0074e711-d25e-4af3-9b22-523677d7455b');\n",
       "var x = new MutationObserver(function (mutations, observer) {{\n",
       "        var display = window.getComputedStyle(gd).display;\n",
       "        if (!display || display === 'none') {{\n",
       "            console.log([gd, 'removed!']);\n",
       "            Plotly.purge(gd);\n",
       "            observer.disconnect();\n",
       "        }}\n",
       "}});\n",
       "\n",
       "// Listen for the removal of the full notebook cells\n",
       "var notebookContainer = gd.closest('#notebook-container');\n",
       "if (notebookContainer) {{\n",
       "    x.observe(notebookContainer, {childList: true});\n",
       "}}\n",
       "\n",
       "// Listen for the clearing of the current output cell\n",
       "var outputEl = gd.closest('.output');\n",
       "if (outputEl) {{\n",
       "    x.observe(outputEl, {childList: true});\n",
       "}}\n",
       "\n",
       "                        })                };                });            </script>        </div>"
      ]
     },
     "metadata": {},
     "output_type": "display_data"
    }
   ],
   "source": [
    "# Função para remover outliers com base no IQR\n",
    "def remove_outliers(df, column):\n",
    "    Q1 = df[column].quantile(0.25)  # Primeiro quartil\n",
    "    Q3 = df[column].quantile(0.75)  # Terceiro quartil\n",
    "    IQR = Q3 - Q1  # Intervalo interquartil\n",
    "    \n",
    "    # Limites superior e inferior para considerar outliers\n",
    "    lower_bound = Q1 - 1.5 * IQR\n",
    "    upper_bound = Q3 + 1.5 * IQR\n",
    "    \n",
    "    # Filtrar os dados sem os outliers\n",
    "    return df[(df[column] >= lower_bound) & (df[column] <= upper_bound)]\n",
    "\n",
    "# Remover outliers dos três níveis de vagas\n",
    "junior_jobs_no_outliers = remove_outliers(junior_jobs_with_salary, 'Average Salary')\n",
    "mid_level_jobs_no_outliers = remove_outliers(mid_level_jobs_with_salary, 'Average Salary')\n",
    "senior_jobs_no_outliers = remove_outliers(senior_jobs_with_salary, 'Average Salary')\n",
    "\n",
    "# Criar os box-plots sem outliers\n",
    "fig = go.Figure()\n",
    "\n",
    "# Box-plot para vagas Júnior (sem outliers)\n",
    "fig.add_trace(go.Box(\n",
    "    y=junior_jobs_no_outliers['Average Salary'],\n",
    "    name='Junior (sem outliers)',\n",
    "    marker_color='lightblue',\n",
    "    boxmean=True,\n",
    "))\n",
    "\n",
    "# Box-plot para vagas Sênior (sem outliers)\n",
    "fig.add_trace(go.Box(\n",
    "    y=senior_jobs_no_outliers['Average Salary'],\n",
    "    name='Senior (sem outliers)',\n",
    "    marker_color='salmon',\n",
    "    boxmean=True,\n",
    "))\n",
    "\n",
    "# Ajustar o layout do gráfico\n",
    "fig.update_layout(\n",
    "    title=\"Comparação de Salários por Nível de Experiência (Sem Outliers)\",\n",
    "    yaxis_title=\"Salário Médio (£)\",\n",
    "    xaxis_title=\"Nível Profissional\",\n",
    "    boxmode='group',\n",
    ")\n",
    "\n",
    "# Exibir o gráfico\n",
    "fig.show()"
   ]
  },
  {
   "cell_type": "code",
   "execution_count": 280,
   "id": "1e8dd751",
   "metadata": {
    "scrolled": true
   },
   "outputs": [
    {
     "name": "stderr",
     "output_type": "stream",
     "text": [
      "C:\\Users\\luizs\\AppData\\Local\\Temp\\ipykernel_1700\\892806879.py:1: FutureWarning:\n",
      "\n",
      "The default value of numeric_only in DataFrame.mean is deprecated. In a future version, it will default to False. In addition, specifying 'numeric_only=None' is deprecated. Select only valid columns or specify the value of numeric_only to silence this warning.\n",
      "\n"
     ]
    },
    {
     "data": {
      "text/plain": [
       "Company Score         3.75\n",
       "Average Salary    52459.38\n",
       "dtype: float64"
      ]
     },
     "execution_count": 280,
     "metadata": {},
     "output_type": "execute_result"
    }
   ],
   "source": [
    "round(junior_jobs_no_outliers.mean(), 2)"
   ]
  },
  {
   "cell_type": "code",
   "execution_count": 281,
   "id": "b7421385",
   "metadata": {},
   "outputs": [
    {
     "name": "stderr",
     "output_type": "stream",
     "text": [
      "C:\\Users\\luizs\\AppData\\Local\\Temp\\ipykernel_1700\\2671367389.py:1: FutureWarning:\n",
      "\n",
      "The default value of numeric_only in DataFrame.mean is deprecated. In a future version, it will default to False. In addition, specifying 'numeric_only=None' is deprecated. Select only valid columns or specify the value of numeric_only to silence this warning.\n",
      "\n"
     ]
    },
    {
     "data": {
      "text/plain": [
       "Company Score         3.63\n",
       "Average Salary    43833.33\n",
       "dtype: float64"
      ]
     },
     "execution_count": 281,
     "metadata": {},
     "output_type": "execute_result"
    }
   ],
   "source": [
    "round(mid_level_jobs_no_outliers.mean(), 2)"
   ]
  },
  {
   "cell_type": "code",
   "execution_count": 282,
   "id": "dd530a36",
   "metadata": {
    "scrolled": true
   },
   "outputs": [
    {
     "name": "stderr",
     "output_type": "stream",
     "text": [
      "C:\\Users\\luizs\\AppData\\Local\\Temp\\ipykernel_1700\\1224096645.py:1: FutureWarning:\n",
      "\n",
      "The default value of numeric_only in DataFrame.mean is deprecated. In a future version, it will default to False. In addition, specifying 'numeric_only=None' is deprecated. Select only valid columns or specify the value of numeric_only to silence this warning.\n",
      "\n"
     ]
    },
    {
     "data": {
      "text/plain": [
       "Company Score         3.88\n",
       "Average Salary    65441.74\n",
       "dtype: float64"
      ]
     },
     "execution_count": 282,
     "metadata": {},
     "output_type": "execute_result"
    }
   ],
   "source": [
    "round(senior_jobs_no_outliers.mean(), 2)"
   ]
  },
  {
   "cell_type": "code",
   "execution_count": 284,
   "id": "1433ba37",
   "metadata": {
    "scrolled": false
   },
   "outputs": [
    {
     "name": "stdout",
     "output_type": "stream",
     "text": [
      "Número de vagas não classificadas (Outros): 478\n",
      "Média salarial (Outros): £63882.06\n",
      "Mediana salarial (Outros): £63000.00\n"
     ]
    },
    {
     "data": {
      "application/vnd.plotly.v1+json": {
       "config": {
        "plotlyServerURL": "https://plot.ly"
       },
       "data": [
        {
         "boxmean": true,
         "jitter": 0.3,
         "marker": {
          "color": "darkgreen"
         },
         "name": "Outros",
         "pointpos": -1.8,
         "type": "box",
         "y": [
          57500,
          47500,
          75000,
          124000,
          80000,
          36000,
          34000,
          47500,
          94000,
          60500,
          48000,
          62000,
          70500,
          63000,
          52500,
          32000,
          44500,
          48000,
          56000,
          44500,
          76500,
          47000,
          51000,
          62000,
          58000,
          38500,
          60500,
          33500,
          50000,
          39500,
          70000,
          31000,
          44500,
          56500,
          47500,
          65000,
          40000,
          31000,
          52500,
          67500,
          35500,
          74500,
          47500,
          27500,
          68000,
          67500,
          27500,
          56000,
          67000,
          39500,
          70000,
          54000,
          55000,
          45000,
          49000,
          40000,
          56000,
          84000,
          58000,
          67000,
          69000,
          84000,
          50000,
          24500,
          62500,
          55000,
          43000,
          72000,
          49500,
          40500,
          108500,
          66000,
          83000,
          37500,
          61500,
          47000,
          60000,
          58000,
          67000,
          50000,
          49500,
          34000,
          74000,
          56000,
          48000,
          70000,
          39000,
          200000,
          37000,
          63500,
          64000,
          70000,
          39500,
          49000,
          31500,
          55500,
          45500,
          50000,
          58000,
          81500,
          67500,
          58000,
          69000,
          67500,
          77000,
          74000,
          80000,
          60000,
          55000,
          85500,
          67500,
          58500,
          71000,
          49000,
          38500,
          55000,
          77500,
          49000,
          34500,
          59000,
          40000,
          104500,
          102000,
          73000,
          67000,
          30000,
          76000,
          110500,
          61000,
          63500,
          70500,
          85000,
          69500,
          54500,
          74500,
          83000,
          60000,
          52500,
          125000,
          52000,
          37000,
          67000,
          29500,
          59000,
          61000,
          77000,
          40000,
          69500,
          43500,
          55000,
          42000,
          113000,
          44500,
          90000,
          65000,
          67000,
          90000,
          87500,
          47000,
          63500,
          111000,
          64000,
          43500,
          150000,
          60000,
          102000,
          48000,
          71500,
          44000,
          107500,
          67000,
          102000,
          58500,
          83500,
          66500,
          78000,
          79000,
          55500,
          46000,
          140000,
          33500,
          69000,
          41500,
          78500,
          75000,
          62000,
          79500,
          76500,
          33500,
          55000,
          64500,
          67000,
          90000,
          45000,
          72500,
          63500,
          56000,
          63000,
          75000,
          42000,
          77000,
          52500,
          110000,
          44500,
          51500,
          65500,
          55500,
          65000,
          38500,
          69500,
          90000,
          70000,
          43000,
          46000,
          65500,
          62500,
          42500,
          75000,
          75000,
          31500,
          143000,
          52500,
          26000,
          57000,
          72500,
          43000,
          80000,
          45000,
          56000,
          55000,
          119500,
          45000,
          69000,
          62000,
          75000,
          42500,
          51500,
          72500,
          70500,
          50000,
          76000,
          35000,
          28000,
          97500,
          78500,
          57500,
          67500,
          67000,
          58500,
          94500,
          62500,
          77000,
          85000,
          79500,
          58000,
          52000,
          65000,
          39500,
          65500,
          68000,
          98000,
          80000,
          95000,
          41000,
          85000,
          40000,
          103500,
          53500,
          70000,
          75500,
          63000,
          85500,
          40000,
          80000,
          116500,
          66500,
          54000,
          87500,
          87500,
          46500,
          89000,
          33000,
          79500,
          42000,
          40500,
          65000,
          52500,
          60000,
          47500,
          65000,
          72500,
          76000,
          50000,
          72500,
          66000,
          65000,
          68500,
          90000,
          88000,
          82000,
          74000,
          86000,
          77000,
          90000,
          47000,
          52000,
          72500,
          75500,
          50500,
          51500,
          81500,
          55000,
          39500,
          76500,
          64500,
          34000,
          78500,
          60000,
          79500,
          67500,
          77000,
          43000,
          40000,
          65500,
          46500,
          53000,
          67500,
          79500,
          63000,
          77500,
          57000,
          78500,
          67500,
          70000,
          76500,
          67500,
          81000,
          48000,
          39000,
          65500,
          65000,
          33000,
          80000,
          56500,
          35500,
          65000,
          115000,
          43500,
          95000,
          52000,
          52000,
          77500,
          65000,
          64500,
          144000,
          42000,
          42500,
          68000,
          40000,
          94000,
          90000,
          50688,
          73500
         ]
        }
       ],
       "layout": {
        "boxmode": "group",
        "template": {
         "data": {
          "bar": [
           {
            "error_x": {
             "color": "#2a3f5f"
            },
            "error_y": {
             "color": "#2a3f5f"
            },
            "marker": {
             "line": {
              "color": "#E5ECF6",
              "width": 0.5
             },
             "pattern": {
              "fillmode": "overlay",
              "size": 10,
              "solidity": 0.2
             }
            },
            "type": "bar"
           }
          ],
          "barpolar": [
           {
            "marker": {
             "line": {
              "color": "#E5ECF6",
              "width": 0.5
             },
             "pattern": {
              "fillmode": "overlay",
              "size": 10,
              "solidity": 0.2
             }
            },
            "type": "barpolar"
           }
          ],
          "carpet": [
           {
            "aaxis": {
             "endlinecolor": "#2a3f5f",
             "gridcolor": "white",
             "linecolor": "white",
             "minorgridcolor": "white",
             "startlinecolor": "#2a3f5f"
            },
            "baxis": {
             "endlinecolor": "#2a3f5f",
             "gridcolor": "white",
             "linecolor": "white",
             "minorgridcolor": "white",
             "startlinecolor": "#2a3f5f"
            },
            "type": "carpet"
           }
          ],
          "choropleth": [
           {
            "colorbar": {
             "outlinewidth": 0,
             "ticks": ""
            },
            "type": "choropleth"
           }
          ],
          "contour": [
           {
            "colorbar": {
             "outlinewidth": 0,
             "ticks": ""
            },
            "colorscale": [
             [
              0,
              "#0d0887"
             ],
             [
              0.1111111111111111,
              "#46039f"
             ],
             [
              0.2222222222222222,
              "#7201a8"
             ],
             [
              0.3333333333333333,
              "#9c179e"
             ],
             [
              0.4444444444444444,
              "#bd3786"
             ],
             [
              0.5555555555555556,
              "#d8576b"
             ],
             [
              0.6666666666666666,
              "#ed7953"
             ],
             [
              0.7777777777777778,
              "#fb9f3a"
             ],
             [
              0.8888888888888888,
              "#fdca26"
             ],
             [
              1,
              "#f0f921"
             ]
            ],
            "type": "contour"
           }
          ],
          "contourcarpet": [
           {
            "colorbar": {
             "outlinewidth": 0,
             "ticks": ""
            },
            "type": "contourcarpet"
           }
          ],
          "heatmap": [
           {
            "colorbar": {
             "outlinewidth": 0,
             "ticks": ""
            },
            "colorscale": [
             [
              0,
              "#0d0887"
             ],
             [
              0.1111111111111111,
              "#46039f"
             ],
             [
              0.2222222222222222,
              "#7201a8"
             ],
             [
              0.3333333333333333,
              "#9c179e"
             ],
             [
              0.4444444444444444,
              "#bd3786"
             ],
             [
              0.5555555555555556,
              "#d8576b"
             ],
             [
              0.6666666666666666,
              "#ed7953"
             ],
             [
              0.7777777777777778,
              "#fb9f3a"
             ],
             [
              0.8888888888888888,
              "#fdca26"
             ],
             [
              1,
              "#f0f921"
             ]
            ],
            "type": "heatmap"
           }
          ],
          "heatmapgl": [
           {
            "colorbar": {
             "outlinewidth": 0,
             "ticks": ""
            },
            "colorscale": [
             [
              0,
              "#0d0887"
             ],
             [
              0.1111111111111111,
              "#46039f"
             ],
             [
              0.2222222222222222,
              "#7201a8"
             ],
             [
              0.3333333333333333,
              "#9c179e"
             ],
             [
              0.4444444444444444,
              "#bd3786"
             ],
             [
              0.5555555555555556,
              "#d8576b"
             ],
             [
              0.6666666666666666,
              "#ed7953"
             ],
             [
              0.7777777777777778,
              "#fb9f3a"
             ],
             [
              0.8888888888888888,
              "#fdca26"
             ],
             [
              1,
              "#f0f921"
             ]
            ],
            "type": "heatmapgl"
           }
          ],
          "histogram": [
           {
            "marker": {
             "pattern": {
              "fillmode": "overlay",
              "size": 10,
              "solidity": 0.2
             }
            },
            "type": "histogram"
           }
          ],
          "histogram2d": [
           {
            "colorbar": {
             "outlinewidth": 0,
             "ticks": ""
            },
            "colorscale": [
             [
              0,
              "#0d0887"
             ],
             [
              0.1111111111111111,
              "#46039f"
             ],
             [
              0.2222222222222222,
              "#7201a8"
             ],
             [
              0.3333333333333333,
              "#9c179e"
             ],
             [
              0.4444444444444444,
              "#bd3786"
             ],
             [
              0.5555555555555556,
              "#d8576b"
             ],
             [
              0.6666666666666666,
              "#ed7953"
             ],
             [
              0.7777777777777778,
              "#fb9f3a"
             ],
             [
              0.8888888888888888,
              "#fdca26"
             ],
             [
              1,
              "#f0f921"
             ]
            ],
            "type": "histogram2d"
           }
          ],
          "histogram2dcontour": [
           {
            "colorbar": {
             "outlinewidth": 0,
             "ticks": ""
            },
            "colorscale": [
             [
              0,
              "#0d0887"
             ],
             [
              0.1111111111111111,
              "#46039f"
             ],
             [
              0.2222222222222222,
              "#7201a8"
             ],
             [
              0.3333333333333333,
              "#9c179e"
             ],
             [
              0.4444444444444444,
              "#bd3786"
             ],
             [
              0.5555555555555556,
              "#d8576b"
             ],
             [
              0.6666666666666666,
              "#ed7953"
             ],
             [
              0.7777777777777778,
              "#fb9f3a"
             ],
             [
              0.8888888888888888,
              "#fdca26"
             ],
             [
              1,
              "#f0f921"
             ]
            ],
            "type": "histogram2dcontour"
           }
          ],
          "mesh3d": [
           {
            "colorbar": {
             "outlinewidth": 0,
             "ticks": ""
            },
            "type": "mesh3d"
           }
          ],
          "parcoords": [
           {
            "line": {
             "colorbar": {
              "outlinewidth": 0,
              "ticks": ""
             }
            },
            "type": "parcoords"
           }
          ],
          "pie": [
           {
            "automargin": true,
            "type": "pie"
           }
          ],
          "scatter": [
           {
            "fillpattern": {
             "fillmode": "overlay",
             "size": 10,
             "solidity": 0.2
            },
            "type": "scatter"
           }
          ],
          "scatter3d": [
           {
            "line": {
             "colorbar": {
              "outlinewidth": 0,
              "ticks": ""
             }
            },
            "marker": {
             "colorbar": {
              "outlinewidth": 0,
              "ticks": ""
             }
            },
            "type": "scatter3d"
           }
          ],
          "scattercarpet": [
           {
            "marker": {
             "colorbar": {
              "outlinewidth": 0,
              "ticks": ""
             }
            },
            "type": "scattercarpet"
           }
          ],
          "scattergeo": [
           {
            "marker": {
             "colorbar": {
              "outlinewidth": 0,
              "ticks": ""
             }
            },
            "type": "scattergeo"
           }
          ],
          "scattergl": [
           {
            "marker": {
             "colorbar": {
              "outlinewidth": 0,
              "ticks": ""
             }
            },
            "type": "scattergl"
           }
          ],
          "scattermapbox": [
           {
            "marker": {
             "colorbar": {
              "outlinewidth": 0,
              "ticks": ""
             }
            },
            "type": "scattermapbox"
           }
          ],
          "scatterpolar": [
           {
            "marker": {
             "colorbar": {
              "outlinewidth": 0,
              "ticks": ""
             }
            },
            "type": "scatterpolar"
           }
          ],
          "scatterpolargl": [
           {
            "marker": {
             "colorbar": {
              "outlinewidth": 0,
              "ticks": ""
             }
            },
            "type": "scatterpolargl"
           }
          ],
          "scatterternary": [
           {
            "marker": {
             "colorbar": {
              "outlinewidth": 0,
              "ticks": ""
             }
            },
            "type": "scatterternary"
           }
          ],
          "surface": [
           {
            "colorbar": {
             "outlinewidth": 0,
             "ticks": ""
            },
            "colorscale": [
             [
              0,
              "#0d0887"
             ],
             [
              0.1111111111111111,
              "#46039f"
             ],
             [
              0.2222222222222222,
              "#7201a8"
             ],
             [
              0.3333333333333333,
              "#9c179e"
             ],
             [
              0.4444444444444444,
              "#bd3786"
             ],
             [
              0.5555555555555556,
              "#d8576b"
             ],
             [
              0.6666666666666666,
              "#ed7953"
             ],
             [
              0.7777777777777778,
              "#fb9f3a"
             ],
             [
              0.8888888888888888,
              "#fdca26"
             ],
             [
              1,
              "#f0f921"
             ]
            ],
            "type": "surface"
           }
          ],
          "table": [
           {
            "cells": {
             "fill": {
              "color": "#EBF0F8"
             },
             "line": {
              "color": "white"
             }
            },
            "header": {
             "fill": {
              "color": "#C8D4E3"
             },
             "line": {
              "color": "white"
             }
            },
            "type": "table"
           }
          ]
         },
         "layout": {
          "annotationdefaults": {
           "arrowcolor": "#2a3f5f",
           "arrowhead": 0,
           "arrowwidth": 1
          },
          "autotypenumbers": "strict",
          "coloraxis": {
           "colorbar": {
            "outlinewidth": 0,
            "ticks": ""
           }
          },
          "colorscale": {
           "diverging": [
            [
             0,
             "#8e0152"
            ],
            [
             0.1,
             "#c51b7d"
            ],
            [
             0.2,
             "#de77ae"
            ],
            [
             0.3,
             "#f1b6da"
            ],
            [
             0.4,
             "#fde0ef"
            ],
            [
             0.5,
             "#f7f7f7"
            ],
            [
             0.6,
             "#e6f5d0"
            ],
            [
             0.7,
             "#b8e186"
            ],
            [
             0.8,
             "#7fbc41"
            ],
            [
             0.9,
             "#4d9221"
            ],
            [
             1,
             "#276419"
            ]
           ],
           "sequential": [
            [
             0,
             "#0d0887"
            ],
            [
             0.1111111111111111,
             "#46039f"
            ],
            [
             0.2222222222222222,
             "#7201a8"
            ],
            [
             0.3333333333333333,
             "#9c179e"
            ],
            [
             0.4444444444444444,
             "#bd3786"
            ],
            [
             0.5555555555555556,
             "#d8576b"
            ],
            [
             0.6666666666666666,
             "#ed7953"
            ],
            [
             0.7777777777777778,
             "#fb9f3a"
            ],
            [
             0.8888888888888888,
             "#fdca26"
            ],
            [
             1,
             "#f0f921"
            ]
           ],
           "sequentialminus": [
            [
             0,
             "#0d0887"
            ],
            [
             0.1111111111111111,
             "#46039f"
            ],
            [
             0.2222222222222222,
             "#7201a8"
            ],
            [
             0.3333333333333333,
             "#9c179e"
            ],
            [
             0.4444444444444444,
             "#bd3786"
            ],
            [
             0.5555555555555556,
             "#d8576b"
            ],
            [
             0.6666666666666666,
             "#ed7953"
            ],
            [
             0.7777777777777778,
             "#fb9f3a"
            ],
            [
             0.8888888888888888,
             "#fdca26"
            ],
            [
             1,
             "#f0f921"
            ]
           ]
          },
          "colorway": [
           "#636efa",
           "#EF553B",
           "#00cc96",
           "#ab63fa",
           "#FFA15A",
           "#19d3f3",
           "#FF6692",
           "#B6E880",
           "#FF97FF",
           "#FECB52"
          ],
          "font": {
           "color": "#2a3f5f"
          },
          "geo": {
           "bgcolor": "white",
           "lakecolor": "white",
           "landcolor": "#E5ECF6",
           "showlakes": true,
           "showland": true,
           "subunitcolor": "white"
          },
          "hoverlabel": {
           "align": "left"
          },
          "hovermode": "closest",
          "mapbox": {
           "style": "light"
          },
          "paper_bgcolor": "white",
          "plot_bgcolor": "#E5ECF6",
          "polar": {
           "angularaxis": {
            "gridcolor": "white",
            "linecolor": "white",
            "ticks": ""
           },
           "bgcolor": "#E5ECF6",
           "radialaxis": {
            "gridcolor": "white",
            "linecolor": "white",
            "ticks": ""
           }
          },
          "scene": {
           "xaxis": {
            "backgroundcolor": "#E5ECF6",
            "gridcolor": "white",
            "gridwidth": 2,
            "linecolor": "white",
            "showbackground": true,
            "ticks": "",
            "zerolinecolor": "white"
           },
           "yaxis": {
            "backgroundcolor": "#E5ECF6",
            "gridcolor": "white",
            "gridwidth": 2,
            "linecolor": "white",
            "showbackground": true,
            "ticks": "",
            "zerolinecolor": "white"
           },
           "zaxis": {
            "backgroundcolor": "#E5ECF6",
            "gridcolor": "white",
            "gridwidth": 2,
            "linecolor": "white",
            "showbackground": true,
            "ticks": "",
            "zerolinecolor": "white"
           }
          },
          "shapedefaults": {
           "line": {
            "color": "#2a3f5f"
           }
          },
          "ternary": {
           "aaxis": {
            "gridcolor": "white",
            "linecolor": "white",
            "ticks": ""
           },
           "baxis": {
            "gridcolor": "white",
            "linecolor": "white",
            "ticks": ""
           },
           "bgcolor": "#E5ECF6",
           "caxis": {
            "gridcolor": "white",
            "linecolor": "white",
            "ticks": ""
           }
          },
          "title": {
           "x": 0.05
          },
          "xaxis": {
           "automargin": true,
           "gridcolor": "white",
           "linecolor": "white",
           "ticks": "",
           "title": {
            "standoff": 15
           },
           "zerolinecolor": "white",
           "zerolinewidth": 2
          },
          "yaxis": {
           "automargin": true,
           "gridcolor": "white",
           "linecolor": "white",
           "ticks": "",
           "title": {
            "standoff": 15
           },
           "zerolinecolor": "white",
           "zerolinewidth": 2
          }
         }
        },
        "title": {
         "text": "Box-Plot dos Salários para Vagas Não Classificadas (Outros)"
        },
        "xaxis": {
         "title": {
          "text": "Nível Profissional"
         }
        },
        "yaxis": {
         "title": {
          "text": "Salário Médio (£)"
         }
        }
       }
      },
      "text/html": [
       "<div>                            <div id=\"59e37be7-8dca-4192-8738-61ad541d0614\" class=\"plotly-graph-div\" style=\"height:525px; width:100%;\"></div>            <script type=\"text/javascript\">                require([\"plotly\"], function(Plotly) {                    window.PLOTLYENV=window.PLOTLYENV || {};                                    if (document.getElementById(\"59e37be7-8dca-4192-8738-61ad541d0614\")) {                    Plotly.newPlot(                        \"59e37be7-8dca-4192-8738-61ad541d0614\",                        [{\"boxmean\":true,\"jitter\":0.3,\"marker\":{\"color\":\"darkgreen\"},\"name\":\"Outros\",\"pointpos\":-1.8,\"y\":[57500.0,47500.0,75000.0,124000.0,80000.0,36000.0,34000.0,47500.0,94000.0,60500.0,48000.0,62000.0,70500.0,63000.0,52500.0,32000.0,44500.0,48000.0,56000.0,44500.0,76500.0,47000.0,51000.0,62000.0,58000.0,38500.0,60500.0,33500.0,50000.0,39500.0,70000.0,31000.0,44500.0,56500.0,47500.0,65000.0,40000.0,31000.0,52500.0,67500.0,35500.0,74500.0,47500.0,27500.0,68000.0,67500.0,27500.0,56000.0,67000.0,39500.0,70000.0,54000.0,55000.0,45000.0,49000.0,40000.0,56000.0,84000.0,58000.0,67000.0,69000.0,84000.0,50000.0,24500.0,62500.0,55000.0,43000.0,72000.0,49500.0,40500.0,108500.0,66000.0,83000.0,37500.0,61500.0,47000.0,60000.0,58000.0,67000.0,50000.0,49500.0,34000.0,74000.0,56000.0,48000.0,70000.0,39000.0,200000.0,37000.0,63500.0,64000.0,70000.0,39500.0,49000.0,31500.0,55500.0,45500.0,50000.0,58000.0,81500.0,67500.0,58000.0,69000.0,67500.0,77000.0,74000.0,80000.0,60000.0,55000.0,85500.0,67500.0,58500.0,71000.0,49000.0,38500.0,55000.0,77500.0,49000.0,34500.0,59000.0,40000.0,104500.0,102000.0,73000.0,67000.0,30000.0,76000.0,110500.0,61000.0,63500.0,70500.0,85000.0,69500.0,54500.0,74500.0,83000.0,60000.0,52500.0,125000.0,52000.0,37000.0,67000.0,29500.0,59000.0,61000.0,77000.0,40000.0,69500.0,43500.0,55000.0,42000.0,113000.0,44500.0,90000.0,65000.0,67000.0,90000.0,87500.0,47000.0,63500.0,111000.0,64000.0,43500.0,150000.0,60000.0,102000.0,48000.0,71500.0,44000.0,107500.0,67000.0,102000.0,58500.0,83500.0,66500.0,78000.0,79000.0,55500.0,46000.0,140000.0,33500.0,69000.0,41500.0,78500.0,75000.0,62000.0,79500.0,76500.0,33500.0,55000.0,64500.0,67000.0,90000.0,45000.0,72500.0,63500.0,56000.0,63000.0,75000.0,42000.0,77000.0,52500.0,110000.0,44500.0,51500.0,65500.0,55500.0,65000.0,38500.0,69500.0,90000.0,70000.0,43000.0,46000.0,65500.0,62500.0,42500.0,75000.0,75000.0,31500.0,143000.0,52500.0,26000.0,57000.0,72500.0,43000.0,80000.0,45000.0,56000.0,55000.0,119500.0,45000.0,69000.0,62000.0,75000.0,42500.0,51500.0,72500.0,70500.0,50000.0,76000.0,35000.0,28000.0,97500.0,78500.0,57500.0,67500.0,67000.0,58500.0,94500.0,62500.0,77000.0,85000.0,79500.0,58000.0,52000.0,65000.0,39500.0,65500.0,68000.0,98000.0,80000.0,95000.0,41000.0,85000.0,40000.0,103500.0,53500.0,70000.0,75500.0,63000.0,85500.0,40000.0,80000.0,116500.0,66500.0,54000.0,87500.0,87500.0,46500.0,89000.0,33000.0,79500.0,42000.0,40500.0,65000.0,52500.0,60000.0,47500.0,65000.0,72500.0,76000.0,50000.0,72500.0,66000.0,65000.0,68500.0,90000.0,88000.0,82000.0,74000.0,86000.0,77000.0,90000.0,47000.0,52000.0,72500.0,75500.0,50500.0,51500.0,81500.0,55000.0,39500.0,76500.0,64500.0,34000.0,78500.0,60000.0,79500.0,67500.0,77000.0,43000.0,40000.0,65500.0,46500.0,53000.0,67500.0,79500.0,63000.0,77500.0,57000.0,78500.0,67500.0,70000.0,76500.0,67500.0,81000.0,48000.0,39000.0,65500.0,65000.0,33000.0,80000.0,56500.0,35500.0,65000.0,115000.0,43500.0,95000.0,52000.0,52000.0,77500.0,65000.0,64500.0,144000.0,42000.0,42500.0,68000.0,40000.0,94000.0,90000.0,50688.0,73500.0],\"type\":\"box\"}],                        {\"template\":{\"data\":{\"histogram2dcontour\":[{\"type\":\"histogram2dcontour\",\"colorbar\":{\"outlinewidth\":0,\"ticks\":\"\"},\"colorscale\":[[0.0,\"#0d0887\"],[0.1111111111111111,\"#46039f\"],[0.2222222222222222,\"#7201a8\"],[0.3333333333333333,\"#9c179e\"],[0.4444444444444444,\"#bd3786\"],[0.5555555555555556,\"#d8576b\"],[0.6666666666666666,\"#ed7953\"],[0.7777777777777778,\"#fb9f3a\"],[0.8888888888888888,\"#fdca26\"],[1.0,\"#f0f921\"]]}],\"choropleth\":[{\"type\":\"choropleth\",\"colorbar\":{\"outlinewidth\":0,\"ticks\":\"\"}}],\"histogram2d\":[{\"type\":\"histogram2d\",\"colorbar\":{\"outlinewidth\":0,\"ticks\":\"\"},\"colorscale\":[[0.0,\"#0d0887\"],[0.1111111111111111,\"#46039f\"],[0.2222222222222222,\"#7201a8\"],[0.3333333333333333,\"#9c179e\"],[0.4444444444444444,\"#bd3786\"],[0.5555555555555556,\"#d8576b\"],[0.6666666666666666,\"#ed7953\"],[0.7777777777777778,\"#fb9f3a\"],[0.8888888888888888,\"#fdca26\"],[1.0,\"#f0f921\"]]}],\"heatmap\":[{\"type\":\"heatmap\",\"colorbar\":{\"outlinewidth\":0,\"ticks\":\"\"},\"colorscale\":[[0.0,\"#0d0887\"],[0.1111111111111111,\"#46039f\"],[0.2222222222222222,\"#7201a8\"],[0.3333333333333333,\"#9c179e\"],[0.4444444444444444,\"#bd3786\"],[0.5555555555555556,\"#d8576b\"],[0.6666666666666666,\"#ed7953\"],[0.7777777777777778,\"#fb9f3a\"],[0.8888888888888888,\"#fdca26\"],[1.0,\"#f0f921\"]]}],\"heatmapgl\":[{\"type\":\"heatmapgl\",\"colorbar\":{\"outlinewidth\":0,\"ticks\":\"\"},\"colorscale\":[[0.0,\"#0d0887\"],[0.1111111111111111,\"#46039f\"],[0.2222222222222222,\"#7201a8\"],[0.3333333333333333,\"#9c179e\"],[0.4444444444444444,\"#bd3786\"],[0.5555555555555556,\"#d8576b\"],[0.6666666666666666,\"#ed7953\"],[0.7777777777777778,\"#fb9f3a\"],[0.8888888888888888,\"#fdca26\"],[1.0,\"#f0f921\"]]}],\"contourcarpet\":[{\"type\":\"contourcarpet\",\"colorbar\":{\"outlinewidth\":0,\"ticks\":\"\"}}],\"contour\":[{\"type\":\"contour\",\"colorbar\":{\"outlinewidth\":0,\"ticks\":\"\"},\"colorscale\":[[0.0,\"#0d0887\"],[0.1111111111111111,\"#46039f\"],[0.2222222222222222,\"#7201a8\"],[0.3333333333333333,\"#9c179e\"],[0.4444444444444444,\"#bd3786\"],[0.5555555555555556,\"#d8576b\"],[0.6666666666666666,\"#ed7953\"],[0.7777777777777778,\"#fb9f3a\"],[0.8888888888888888,\"#fdca26\"],[1.0,\"#f0f921\"]]}],\"surface\":[{\"type\":\"surface\",\"colorbar\":{\"outlinewidth\":0,\"ticks\":\"\"},\"colorscale\":[[0.0,\"#0d0887\"],[0.1111111111111111,\"#46039f\"],[0.2222222222222222,\"#7201a8\"],[0.3333333333333333,\"#9c179e\"],[0.4444444444444444,\"#bd3786\"],[0.5555555555555556,\"#d8576b\"],[0.6666666666666666,\"#ed7953\"],[0.7777777777777778,\"#fb9f3a\"],[0.8888888888888888,\"#fdca26\"],[1.0,\"#f0f921\"]]}],\"mesh3d\":[{\"type\":\"mesh3d\",\"colorbar\":{\"outlinewidth\":0,\"ticks\":\"\"}}],\"scatter\":[{\"fillpattern\":{\"fillmode\":\"overlay\",\"size\":10,\"solidity\":0.2},\"type\":\"scatter\"}],\"parcoords\":[{\"type\":\"parcoords\",\"line\":{\"colorbar\":{\"outlinewidth\":0,\"ticks\":\"\"}}}],\"scatterpolargl\":[{\"type\":\"scatterpolargl\",\"marker\":{\"colorbar\":{\"outlinewidth\":0,\"ticks\":\"\"}}}],\"bar\":[{\"error_x\":{\"color\":\"#2a3f5f\"},\"error_y\":{\"color\":\"#2a3f5f\"},\"marker\":{\"line\":{\"color\":\"#E5ECF6\",\"width\":0.5},\"pattern\":{\"fillmode\":\"overlay\",\"size\":10,\"solidity\":0.2}},\"type\":\"bar\"}],\"scattergeo\":[{\"type\":\"scattergeo\",\"marker\":{\"colorbar\":{\"outlinewidth\":0,\"ticks\":\"\"}}}],\"scatterpolar\":[{\"type\":\"scatterpolar\",\"marker\":{\"colorbar\":{\"outlinewidth\":0,\"ticks\":\"\"}}}],\"histogram\":[{\"marker\":{\"pattern\":{\"fillmode\":\"overlay\",\"size\":10,\"solidity\":0.2}},\"type\":\"histogram\"}],\"scattergl\":[{\"type\":\"scattergl\",\"marker\":{\"colorbar\":{\"outlinewidth\":0,\"ticks\":\"\"}}}],\"scatter3d\":[{\"type\":\"scatter3d\",\"line\":{\"colorbar\":{\"outlinewidth\":0,\"ticks\":\"\"}},\"marker\":{\"colorbar\":{\"outlinewidth\":0,\"ticks\":\"\"}}}],\"scattermapbox\":[{\"type\":\"scattermapbox\",\"marker\":{\"colorbar\":{\"outlinewidth\":0,\"ticks\":\"\"}}}],\"scatterternary\":[{\"type\":\"scatterternary\",\"marker\":{\"colorbar\":{\"outlinewidth\":0,\"ticks\":\"\"}}}],\"scattercarpet\":[{\"type\":\"scattercarpet\",\"marker\":{\"colorbar\":{\"outlinewidth\":0,\"ticks\":\"\"}}}],\"carpet\":[{\"aaxis\":{\"endlinecolor\":\"#2a3f5f\",\"gridcolor\":\"white\",\"linecolor\":\"white\",\"minorgridcolor\":\"white\",\"startlinecolor\":\"#2a3f5f\"},\"baxis\":{\"endlinecolor\":\"#2a3f5f\",\"gridcolor\":\"white\",\"linecolor\":\"white\",\"minorgridcolor\":\"white\",\"startlinecolor\":\"#2a3f5f\"},\"type\":\"carpet\"}],\"table\":[{\"cells\":{\"fill\":{\"color\":\"#EBF0F8\"},\"line\":{\"color\":\"white\"}},\"header\":{\"fill\":{\"color\":\"#C8D4E3\"},\"line\":{\"color\":\"white\"}},\"type\":\"table\"}],\"barpolar\":[{\"marker\":{\"line\":{\"color\":\"#E5ECF6\",\"width\":0.5},\"pattern\":{\"fillmode\":\"overlay\",\"size\":10,\"solidity\":0.2}},\"type\":\"barpolar\"}],\"pie\":[{\"automargin\":true,\"type\":\"pie\"}]},\"layout\":{\"autotypenumbers\":\"strict\",\"colorway\":[\"#636efa\",\"#EF553B\",\"#00cc96\",\"#ab63fa\",\"#FFA15A\",\"#19d3f3\",\"#FF6692\",\"#B6E880\",\"#FF97FF\",\"#FECB52\"],\"font\":{\"color\":\"#2a3f5f\"},\"hovermode\":\"closest\",\"hoverlabel\":{\"align\":\"left\"},\"paper_bgcolor\":\"white\",\"plot_bgcolor\":\"#E5ECF6\",\"polar\":{\"bgcolor\":\"#E5ECF6\",\"angularaxis\":{\"gridcolor\":\"white\",\"linecolor\":\"white\",\"ticks\":\"\"},\"radialaxis\":{\"gridcolor\":\"white\",\"linecolor\":\"white\",\"ticks\":\"\"}},\"ternary\":{\"bgcolor\":\"#E5ECF6\",\"aaxis\":{\"gridcolor\":\"white\",\"linecolor\":\"white\",\"ticks\":\"\"},\"baxis\":{\"gridcolor\":\"white\",\"linecolor\":\"white\",\"ticks\":\"\"},\"caxis\":{\"gridcolor\":\"white\",\"linecolor\":\"white\",\"ticks\":\"\"}},\"coloraxis\":{\"colorbar\":{\"outlinewidth\":0,\"ticks\":\"\"}},\"colorscale\":{\"sequential\":[[0.0,\"#0d0887\"],[0.1111111111111111,\"#46039f\"],[0.2222222222222222,\"#7201a8\"],[0.3333333333333333,\"#9c179e\"],[0.4444444444444444,\"#bd3786\"],[0.5555555555555556,\"#d8576b\"],[0.6666666666666666,\"#ed7953\"],[0.7777777777777778,\"#fb9f3a\"],[0.8888888888888888,\"#fdca26\"],[1.0,\"#f0f921\"]],\"sequentialminus\":[[0.0,\"#0d0887\"],[0.1111111111111111,\"#46039f\"],[0.2222222222222222,\"#7201a8\"],[0.3333333333333333,\"#9c179e\"],[0.4444444444444444,\"#bd3786\"],[0.5555555555555556,\"#d8576b\"],[0.6666666666666666,\"#ed7953\"],[0.7777777777777778,\"#fb9f3a\"],[0.8888888888888888,\"#fdca26\"],[1.0,\"#f0f921\"]],\"diverging\":[[0,\"#8e0152\"],[0.1,\"#c51b7d\"],[0.2,\"#de77ae\"],[0.3,\"#f1b6da\"],[0.4,\"#fde0ef\"],[0.5,\"#f7f7f7\"],[0.6,\"#e6f5d0\"],[0.7,\"#b8e186\"],[0.8,\"#7fbc41\"],[0.9,\"#4d9221\"],[1,\"#276419\"]]},\"xaxis\":{\"gridcolor\":\"white\",\"linecolor\":\"white\",\"ticks\":\"\",\"title\":{\"standoff\":15},\"zerolinecolor\":\"white\",\"automargin\":true,\"zerolinewidth\":2},\"yaxis\":{\"gridcolor\":\"white\",\"linecolor\":\"white\",\"ticks\":\"\",\"title\":{\"standoff\":15},\"zerolinecolor\":\"white\",\"automargin\":true,\"zerolinewidth\":2},\"scene\":{\"xaxis\":{\"backgroundcolor\":\"#E5ECF6\",\"gridcolor\":\"white\",\"linecolor\":\"white\",\"showbackground\":true,\"ticks\":\"\",\"zerolinecolor\":\"white\",\"gridwidth\":2},\"yaxis\":{\"backgroundcolor\":\"#E5ECF6\",\"gridcolor\":\"white\",\"linecolor\":\"white\",\"showbackground\":true,\"ticks\":\"\",\"zerolinecolor\":\"white\",\"gridwidth\":2},\"zaxis\":{\"backgroundcolor\":\"#E5ECF6\",\"gridcolor\":\"white\",\"linecolor\":\"white\",\"showbackground\":true,\"ticks\":\"\",\"zerolinecolor\":\"white\",\"gridwidth\":2}},\"shapedefaults\":{\"line\":{\"color\":\"#2a3f5f\"}},\"annotationdefaults\":{\"arrowcolor\":\"#2a3f5f\",\"arrowhead\":0,\"arrowwidth\":1},\"geo\":{\"bgcolor\":\"white\",\"landcolor\":\"#E5ECF6\",\"subunitcolor\":\"white\",\"showland\":true,\"showlakes\":true,\"lakecolor\":\"white\"},\"title\":{\"x\":0.05},\"mapbox\":{\"style\":\"light\"}}},\"title\":{\"text\":\"Box-Plot dos Sal\\u00e1rios para Vagas N\\u00e3o Classificadas (Outros)\"},\"yaxis\":{\"title\":{\"text\":\"Sal\\u00e1rio M\\u00e9dio (\\u00a3)\"}},\"xaxis\":{\"title\":{\"text\":\"N\\u00edvel Profissional\"}},\"boxmode\":\"group\"},                        {\"responsive\": true}                    ).then(function(){\n",
       "                            \n",
       "var gd = document.getElementById('59e37be7-8dca-4192-8738-61ad541d0614');\n",
       "var x = new MutationObserver(function (mutations, observer) {{\n",
       "        var display = window.getComputedStyle(gd).display;\n",
       "        if (!display || display === 'none') {{\n",
       "            console.log([gd, 'removed!']);\n",
       "            Plotly.purge(gd);\n",
       "            observer.disconnect();\n",
       "        }}\n",
       "}});\n",
       "\n",
       "// Listen for the removal of the full notebook cells\n",
       "var notebookContainer = gd.closest('#notebook-container');\n",
       "if (notebookContainer) {{\n",
       "    x.observe(notebookContainer, {childList: true});\n",
       "}}\n",
       "\n",
       "// Listen for the clearing of the current output cell\n",
       "var outputEl = gd.closest('.output');\n",
       "if (outputEl) {{\n",
       "    x.observe(outputEl, {childList: true});\n",
       "}}\n",
       "\n",
       "                        })                };                });            </script>        </div>"
      ]
     },
     "metadata": {},
     "output_type": "display_data"
    },
    {
     "data": {
      "application/vnd.plotly.v1+json": {
       "config": {
        "plotlyServerURL": "https://plot.ly"
       },
       "data": [
        {
         "boxmean": true,
         "marker": {
          "color": "lightcoral"
         },
         "name": "Outros (Sem Outliers)",
         "type": "box",
         "y": [
          57500,
          47500,
          75000,
          80000,
          36000,
          34000,
          47500,
          94000,
          60500,
          48000,
          62000,
          70500,
          63000,
          52500,
          32000,
          44500,
          48000,
          56000,
          44500,
          76500,
          47000,
          51000,
          62000,
          58000,
          38500,
          60500,
          33500,
          50000,
          39500,
          70000,
          31000,
          44500,
          56500,
          47500,
          65000,
          40000,
          31000,
          52500,
          67500,
          35500,
          74500,
          47500,
          27500,
          68000,
          67500,
          27500,
          56000,
          67000,
          39500,
          70000,
          54000,
          55000,
          45000,
          49000,
          40000,
          56000,
          84000,
          58000,
          67000,
          69000,
          84000,
          50000,
          24500,
          62500,
          55000,
          43000,
          72000,
          49500,
          40500,
          108500,
          66000,
          83000,
          37500,
          61500,
          47000,
          60000,
          58000,
          67000,
          50000,
          49500,
          34000,
          74000,
          56000,
          48000,
          70000,
          39000,
          37000,
          63500,
          64000,
          70000,
          39500,
          49000,
          31500,
          55500,
          45500,
          50000,
          58000,
          81500,
          67500,
          58000,
          69000,
          67500,
          77000,
          74000,
          80000,
          60000,
          55000,
          85500,
          67500,
          58500,
          71000,
          49000,
          38500,
          55000,
          77500,
          49000,
          34500,
          59000,
          40000,
          104500,
          102000,
          73000,
          67000,
          30000,
          76000,
          110500,
          61000,
          63500,
          70500,
          85000,
          69500,
          54500,
          74500,
          83000,
          60000,
          52500,
          52000,
          37000,
          67000,
          29500,
          59000,
          61000,
          77000,
          40000,
          69500,
          43500,
          55000,
          42000,
          113000,
          44500,
          90000,
          65000,
          67000,
          90000,
          87500,
          47000,
          63500,
          111000,
          64000,
          43500,
          60000,
          102000,
          48000,
          71500,
          44000,
          107500,
          67000,
          102000,
          58500,
          83500,
          66500,
          78000,
          79000,
          55500,
          46000,
          33500,
          69000,
          41500,
          78500,
          75000,
          62000,
          79500,
          76500,
          33500,
          55000,
          64500,
          67000,
          90000,
          45000,
          72500,
          63500,
          56000,
          63000,
          75000,
          42000,
          77000,
          52500,
          110000,
          44500,
          51500,
          65500,
          55500,
          65000,
          38500,
          69500,
          90000,
          70000,
          43000,
          46000,
          65500,
          62500,
          42500,
          75000,
          75000,
          31500,
          52500,
          26000,
          57000,
          72500,
          43000,
          80000,
          45000,
          56000,
          55000,
          45000,
          69000,
          62000,
          75000,
          42500,
          51500,
          72500,
          70500,
          50000,
          76000,
          35000,
          28000,
          97500,
          78500,
          57500,
          67500,
          67000,
          58500,
          94500,
          62500,
          77000,
          85000,
          79500,
          58000,
          52000,
          65000,
          39500,
          65500,
          68000,
          98000,
          80000,
          95000,
          41000,
          85000,
          40000,
          103500,
          53500,
          70000,
          75500,
          63000,
          85500,
          40000,
          80000,
          66500,
          54000,
          87500,
          87500,
          46500,
          89000,
          33000,
          79500,
          42000,
          40500,
          65000,
          52500,
          60000,
          47500,
          65000,
          72500,
          76000,
          50000,
          72500,
          66000,
          65000,
          68500,
          90000,
          88000,
          82000,
          74000,
          86000,
          77000,
          90000,
          47000,
          52000,
          72500,
          75500,
          50500,
          51500,
          81500,
          55000,
          39500,
          76500,
          64500,
          34000,
          78500,
          60000,
          79500,
          67500,
          77000,
          43000,
          40000,
          65500,
          46500,
          53000,
          67500,
          79500,
          63000,
          77500,
          57000,
          78500,
          67500,
          70000,
          76500,
          67500,
          81000,
          48000,
          39000,
          65500,
          65000,
          33000,
          80000,
          56500,
          35500,
          65000,
          115000,
          43500,
          95000,
          52000,
          52000,
          77500,
          65000,
          64500,
          42000,
          42500,
          68000,
          40000,
          94000,
          90000,
          50688,
          73500
         ]
        }
       ],
       "layout": {
        "boxmode": "group",
        "template": {
         "data": {
          "bar": [
           {
            "error_x": {
             "color": "#2a3f5f"
            },
            "error_y": {
             "color": "#2a3f5f"
            },
            "marker": {
             "line": {
              "color": "#E5ECF6",
              "width": 0.5
             },
             "pattern": {
              "fillmode": "overlay",
              "size": 10,
              "solidity": 0.2
             }
            },
            "type": "bar"
           }
          ],
          "barpolar": [
           {
            "marker": {
             "line": {
              "color": "#E5ECF6",
              "width": 0.5
             },
             "pattern": {
              "fillmode": "overlay",
              "size": 10,
              "solidity": 0.2
             }
            },
            "type": "barpolar"
           }
          ],
          "carpet": [
           {
            "aaxis": {
             "endlinecolor": "#2a3f5f",
             "gridcolor": "white",
             "linecolor": "white",
             "minorgridcolor": "white",
             "startlinecolor": "#2a3f5f"
            },
            "baxis": {
             "endlinecolor": "#2a3f5f",
             "gridcolor": "white",
             "linecolor": "white",
             "minorgridcolor": "white",
             "startlinecolor": "#2a3f5f"
            },
            "type": "carpet"
           }
          ],
          "choropleth": [
           {
            "colorbar": {
             "outlinewidth": 0,
             "ticks": ""
            },
            "type": "choropleth"
           }
          ],
          "contour": [
           {
            "colorbar": {
             "outlinewidth": 0,
             "ticks": ""
            },
            "colorscale": [
             [
              0,
              "#0d0887"
             ],
             [
              0.1111111111111111,
              "#46039f"
             ],
             [
              0.2222222222222222,
              "#7201a8"
             ],
             [
              0.3333333333333333,
              "#9c179e"
             ],
             [
              0.4444444444444444,
              "#bd3786"
             ],
             [
              0.5555555555555556,
              "#d8576b"
             ],
             [
              0.6666666666666666,
              "#ed7953"
             ],
             [
              0.7777777777777778,
              "#fb9f3a"
             ],
             [
              0.8888888888888888,
              "#fdca26"
             ],
             [
              1,
              "#f0f921"
             ]
            ],
            "type": "contour"
           }
          ],
          "contourcarpet": [
           {
            "colorbar": {
             "outlinewidth": 0,
             "ticks": ""
            },
            "type": "contourcarpet"
           }
          ],
          "heatmap": [
           {
            "colorbar": {
             "outlinewidth": 0,
             "ticks": ""
            },
            "colorscale": [
             [
              0,
              "#0d0887"
             ],
             [
              0.1111111111111111,
              "#46039f"
             ],
             [
              0.2222222222222222,
              "#7201a8"
             ],
             [
              0.3333333333333333,
              "#9c179e"
             ],
             [
              0.4444444444444444,
              "#bd3786"
             ],
             [
              0.5555555555555556,
              "#d8576b"
             ],
             [
              0.6666666666666666,
              "#ed7953"
             ],
             [
              0.7777777777777778,
              "#fb9f3a"
             ],
             [
              0.8888888888888888,
              "#fdca26"
             ],
             [
              1,
              "#f0f921"
             ]
            ],
            "type": "heatmap"
           }
          ],
          "heatmapgl": [
           {
            "colorbar": {
             "outlinewidth": 0,
             "ticks": ""
            },
            "colorscale": [
             [
              0,
              "#0d0887"
             ],
             [
              0.1111111111111111,
              "#46039f"
             ],
             [
              0.2222222222222222,
              "#7201a8"
             ],
             [
              0.3333333333333333,
              "#9c179e"
             ],
             [
              0.4444444444444444,
              "#bd3786"
             ],
             [
              0.5555555555555556,
              "#d8576b"
             ],
             [
              0.6666666666666666,
              "#ed7953"
             ],
             [
              0.7777777777777778,
              "#fb9f3a"
             ],
             [
              0.8888888888888888,
              "#fdca26"
             ],
             [
              1,
              "#f0f921"
             ]
            ],
            "type": "heatmapgl"
           }
          ],
          "histogram": [
           {
            "marker": {
             "pattern": {
              "fillmode": "overlay",
              "size": 10,
              "solidity": 0.2
             }
            },
            "type": "histogram"
           }
          ],
          "histogram2d": [
           {
            "colorbar": {
             "outlinewidth": 0,
             "ticks": ""
            },
            "colorscale": [
             [
              0,
              "#0d0887"
             ],
             [
              0.1111111111111111,
              "#46039f"
             ],
             [
              0.2222222222222222,
              "#7201a8"
             ],
             [
              0.3333333333333333,
              "#9c179e"
             ],
             [
              0.4444444444444444,
              "#bd3786"
             ],
             [
              0.5555555555555556,
              "#d8576b"
             ],
             [
              0.6666666666666666,
              "#ed7953"
             ],
             [
              0.7777777777777778,
              "#fb9f3a"
             ],
             [
              0.8888888888888888,
              "#fdca26"
             ],
             [
              1,
              "#f0f921"
             ]
            ],
            "type": "histogram2d"
           }
          ],
          "histogram2dcontour": [
           {
            "colorbar": {
             "outlinewidth": 0,
             "ticks": ""
            },
            "colorscale": [
             [
              0,
              "#0d0887"
             ],
             [
              0.1111111111111111,
              "#46039f"
             ],
             [
              0.2222222222222222,
              "#7201a8"
             ],
             [
              0.3333333333333333,
              "#9c179e"
             ],
             [
              0.4444444444444444,
              "#bd3786"
             ],
             [
              0.5555555555555556,
              "#d8576b"
             ],
             [
              0.6666666666666666,
              "#ed7953"
             ],
             [
              0.7777777777777778,
              "#fb9f3a"
             ],
             [
              0.8888888888888888,
              "#fdca26"
             ],
             [
              1,
              "#f0f921"
             ]
            ],
            "type": "histogram2dcontour"
           }
          ],
          "mesh3d": [
           {
            "colorbar": {
             "outlinewidth": 0,
             "ticks": ""
            },
            "type": "mesh3d"
           }
          ],
          "parcoords": [
           {
            "line": {
             "colorbar": {
              "outlinewidth": 0,
              "ticks": ""
             }
            },
            "type": "parcoords"
           }
          ],
          "pie": [
           {
            "automargin": true,
            "type": "pie"
           }
          ],
          "scatter": [
           {
            "fillpattern": {
             "fillmode": "overlay",
             "size": 10,
             "solidity": 0.2
            },
            "type": "scatter"
           }
          ],
          "scatter3d": [
           {
            "line": {
             "colorbar": {
              "outlinewidth": 0,
              "ticks": ""
             }
            },
            "marker": {
             "colorbar": {
              "outlinewidth": 0,
              "ticks": ""
             }
            },
            "type": "scatter3d"
           }
          ],
          "scattercarpet": [
           {
            "marker": {
             "colorbar": {
              "outlinewidth": 0,
              "ticks": ""
             }
            },
            "type": "scattercarpet"
           }
          ],
          "scattergeo": [
           {
            "marker": {
             "colorbar": {
              "outlinewidth": 0,
              "ticks": ""
             }
            },
            "type": "scattergeo"
           }
          ],
          "scattergl": [
           {
            "marker": {
             "colorbar": {
              "outlinewidth": 0,
              "ticks": ""
             }
            },
            "type": "scattergl"
           }
          ],
          "scattermapbox": [
           {
            "marker": {
             "colorbar": {
              "outlinewidth": 0,
              "ticks": ""
             }
            },
            "type": "scattermapbox"
           }
          ],
          "scatterpolar": [
           {
            "marker": {
             "colorbar": {
              "outlinewidth": 0,
              "ticks": ""
             }
            },
            "type": "scatterpolar"
           }
          ],
          "scatterpolargl": [
           {
            "marker": {
             "colorbar": {
              "outlinewidth": 0,
              "ticks": ""
             }
            },
            "type": "scatterpolargl"
           }
          ],
          "scatterternary": [
           {
            "marker": {
             "colorbar": {
              "outlinewidth": 0,
              "ticks": ""
             }
            },
            "type": "scatterternary"
           }
          ],
          "surface": [
           {
            "colorbar": {
             "outlinewidth": 0,
             "ticks": ""
            },
            "colorscale": [
             [
              0,
              "#0d0887"
             ],
             [
              0.1111111111111111,
              "#46039f"
             ],
             [
              0.2222222222222222,
              "#7201a8"
             ],
             [
              0.3333333333333333,
              "#9c179e"
             ],
             [
              0.4444444444444444,
              "#bd3786"
             ],
             [
              0.5555555555555556,
              "#d8576b"
             ],
             [
              0.6666666666666666,
              "#ed7953"
             ],
             [
              0.7777777777777778,
              "#fb9f3a"
             ],
             [
              0.8888888888888888,
              "#fdca26"
             ],
             [
              1,
              "#f0f921"
             ]
            ],
            "type": "surface"
           }
          ],
          "table": [
           {
            "cells": {
             "fill": {
              "color": "#EBF0F8"
             },
             "line": {
              "color": "white"
             }
            },
            "header": {
             "fill": {
              "color": "#C8D4E3"
             },
             "line": {
              "color": "white"
             }
            },
            "type": "table"
           }
          ]
         },
         "layout": {
          "annotationdefaults": {
           "arrowcolor": "#2a3f5f",
           "arrowhead": 0,
           "arrowwidth": 1
          },
          "autotypenumbers": "strict",
          "coloraxis": {
           "colorbar": {
            "outlinewidth": 0,
            "ticks": ""
           }
          },
          "colorscale": {
           "diverging": [
            [
             0,
             "#8e0152"
            ],
            [
             0.1,
             "#c51b7d"
            ],
            [
             0.2,
             "#de77ae"
            ],
            [
             0.3,
             "#f1b6da"
            ],
            [
             0.4,
             "#fde0ef"
            ],
            [
             0.5,
             "#f7f7f7"
            ],
            [
             0.6,
             "#e6f5d0"
            ],
            [
             0.7,
             "#b8e186"
            ],
            [
             0.8,
             "#7fbc41"
            ],
            [
             0.9,
             "#4d9221"
            ],
            [
             1,
             "#276419"
            ]
           ],
           "sequential": [
            [
             0,
             "#0d0887"
            ],
            [
             0.1111111111111111,
             "#46039f"
            ],
            [
             0.2222222222222222,
             "#7201a8"
            ],
            [
             0.3333333333333333,
             "#9c179e"
            ],
            [
             0.4444444444444444,
             "#bd3786"
            ],
            [
             0.5555555555555556,
             "#d8576b"
            ],
            [
             0.6666666666666666,
             "#ed7953"
            ],
            [
             0.7777777777777778,
             "#fb9f3a"
            ],
            [
             0.8888888888888888,
             "#fdca26"
            ],
            [
             1,
             "#f0f921"
            ]
           ],
           "sequentialminus": [
            [
             0,
             "#0d0887"
            ],
            [
             0.1111111111111111,
             "#46039f"
            ],
            [
             0.2222222222222222,
             "#7201a8"
            ],
            [
             0.3333333333333333,
             "#9c179e"
            ],
            [
             0.4444444444444444,
             "#bd3786"
            ],
            [
             0.5555555555555556,
             "#d8576b"
            ],
            [
             0.6666666666666666,
             "#ed7953"
            ],
            [
             0.7777777777777778,
             "#fb9f3a"
            ],
            [
             0.8888888888888888,
             "#fdca26"
            ],
            [
             1,
             "#f0f921"
            ]
           ]
          },
          "colorway": [
           "#636efa",
           "#EF553B",
           "#00cc96",
           "#ab63fa",
           "#FFA15A",
           "#19d3f3",
           "#FF6692",
           "#B6E880",
           "#FF97FF",
           "#FECB52"
          ],
          "font": {
           "color": "#2a3f5f"
          },
          "geo": {
           "bgcolor": "white",
           "lakecolor": "white",
           "landcolor": "#E5ECF6",
           "showlakes": true,
           "showland": true,
           "subunitcolor": "white"
          },
          "hoverlabel": {
           "align": "left"
          },
          "hovermode": "closest",
          "mapbox": {
           "style": "light"
          },
          "paper_bgcolor": "white",
          "plot_bgcolor": "#E5ECF6",
          "polar": {
           "angularaxis": {
            "gridcolor": "white",
            "linecolor": "white",
            "ticks": ""
           },
           "bgcolor": "#E5ECF6",
           "radialaxis": {
            "gridcolor": "white",
            "linecolor": "white",
            "ticks": ""
           }
          },
          "scene": {
           "xaxis": {
            "backgroundcolor": "#E5ECF6",
            "gridcolor": "white",
            "gridwidth": 2,
            "linecolor": "white",
            "showbackground": true,
            "ticks": "",
            "zerolinecolor": "white"
           },
           "yaxis": {
            "backgroundcolor": "#E5ECF6",
            "gridcolor": "white",
            "gridwidth": 2,
            "linecolor": "white",
            "showbackground": true,
            "ticks": "",
            "zerolinecolor": "white"
           },
           "zaxis": {
            "backgroundcolor": "#E5ECF6",
            "gridcolor": "white",
            "gridwidth": 2,
            "linecolor": "white",
            "showbackground": true,
            "ticks": "",
            "zerolinecolor": "white"
           }
          },
          "shapedefaults": {
           "line": {
            "color": "#2a3f5f"
           }
          },
          "ternary": {
           "aaxis": {
            "gridcolor": "white",
            "linecolor": "white",
            "ticks": ""
           },
           "baxis": {
            "gridcolor": "white",
            "linecolor": "white",
            "ticks": ""
           },
           "bgcolor": "#E5ECF6",
           "caxis": {
            "gridcolor": "white",
            "linecolor": "white",
            "ticks": ""
           }
          },
          "title": {
           "x": 0.05
          },
          "xaxis": {
           "automargin": true,
           "gridcolor": "white",
           "linecolor": "white",
           "ticks": "",
           "title": {
            "standoff": 15
           },
           "zerolinecolor": "white",
           "zerolinewidth": 2
          },
          "yaxis": {
           "automargin": true,
           "gridcolor": "white",
           "linecolor": "white",
           "ticks": "",
           "title": {
            "standoff": 15
           },
           "zerolinecolor": "white",
           "zerolinewidth": 2
          }
         }
        },
        "title": {
         "text": "Box-Plot dos Salários para Vagas Não Classificadas (Outros) - Sem Outliers"
        },
        "xaxis": {
         "title": {
          "text": "Nível Profissional"
         }
        },
        "yaxis": {
         "title": {
          "text": "Salário Médio (£)"
         }
        }
       }
      },
      "text/html": [
       "<div>                            <div id=\"02da9fb6-aaba-4cf3-9d33-4817892ea253\" class=\"plotly-graph-div\" style=\"height:525px; width:100%;\"></div>            <script type=\"text/javascript\">                require([\"plotly\"], function(Plotly) {                    window.PLOTLYENV=window.PLOTLYENV || {};                                    if (document.getElementById(\"02da9fb6-aaba-4cf3-9d33-4817892ea253\")) {                    Plotly.newPlot(                        \"02da9fb6-aaba-4cf3-9d33-4817892ea253\",                        [{\"boxmean\":true,\"marker\":{\"color\":\"lightcoral\"},\"name\":\"Outros (Sem Outliers)\",\"y\":[57500.0,47500.0,75000.0,80000.0,36000.0,34000.0,47500.0,94000.0,60500.0,48000.0,62000.0,70500.0,63000.0,52500.0,32000.0,44500.0,48000.0,56000.0,44500.0,76500.0,47000.0,51000.0,62000.0,58000.0,38500.0,60500.0,33500.0,50000.0,39500.0,70000.0,31000.0,44500.0,56500.0,47500.0,65000.0,40000.0,31000.0,52500.0,67500.0,35500.0,74500.0,47500.0,27500.0,68000.0,67500.0,27500.0,56000.0,67000.0,39500.0,70000.0,54000.0,55000.0,45000.0,49000.0,40000.0,56000.0,84000.0,58000.0,67000.0,69000.0,84000.0,50000.0,24500.0,62500.0,55000.0,43000.0,72000.0,49500.0,40500.0,108500.0,66000.0,83000.0,37500.0,61500.0,47000.0,60000.0,58000.0,67000.0,50000.0,49500.0,34000.0,74000.0,56000.0,48000.0,70000.0,39000.0,37000.0,63500.0,64000.0,70000.0,39500.0,49000.0,31500.0,55500.0,45500.0,50000.0,58000.0,81500.0,67500.0,58000.0,69000.0,67500.0,77000.0,74000.0,80000.0,60000.0,55000.0,85500.0,67500.0,58500.0,71000.0,49000.0,38500.0,55000.0,77500.0,49000.0,34500.0,59000.0,40000.0,104500.0,102000.0,73000.0,67000.0,30000.0,76000.0,110500.0,61000.0,63500.0,70500.0,85000.0,69500.0,54500.0,74500.0,83000.0,60000.0,52500.0,52000.0,37000.0,67000.0,29500.0,59000.0,61000.0,77000.0,40000.0,69500.0,43500.0,55000.0,42000.0,113000.0,44500.0,90000.0,65000.0,67000.0,90000.0,87500.0,47000.0,63500.0,111000.0,64000.0,43500.0,60000.0,102000.0,48000.0,71500.0,44000.0,107500.0,67000.0,102000.0,58500.0,83500.0,66500.0,78000.0,79000.0,55500.0,46000.0,33500.0,69000.0,41500.0,78500.0,75000.0,62000.0,79500.0,76500.0,33500.0,55000.0,64500.0,67000.0,90000.0,45000.0,72500.0,63500.0,56000.0,63000.0,75000.0,42000.0,77000.0,52500.0,110000.0,44500.0,51500.0,65500.0,55500.0,65000.0,38500.0,69500.0,90000.0,70000.0,43000.0,46000.0,65500.0,62500.0,42500.0,75000.0,75000.0,31500.0,52500.0,26000.0,57000.0,72500.0,43000.0,80000.0,45000.0,56000.0,55000.0,45000.0,69000.0,62000.0,75000.0,42500.0,51500.0,72500.0,70500.0,50000.0,76000.0,35000.0,28000.0,97500.0,78500.0,57500.0,67500.0,67000.0,58500.0,94500.0,62500.0,77000.0,85000.0,79500.0,58000.0,52000.0,65000.0,39500.0,65500.0,68000.0,98000.0,80000.0,95000.0,41000.0,85000.0,40000.0,103500.0,53500.0,70000.0,75500.0,63000.0,85500.0,40000.0,80000.0,66500.0,54000.0,87500.0,87500.0,46500.0,89000.0,33000.0,79500.0,42000.0,40500.0,65000.0,52500.0,60000.0,47500.0,65000.0,72500.0,76000.0,50000.0,72500.0,66000.0,65000.0,68500.0,90000.0,88000.0,82000.0,74000.0,86000.0,77000.0,90000.0,47000.0,52000.0,72500.0,75500.0,50500.0,51500.0,81500.0,55000.0,39500.0,76500.0,64500.0,34000.0,78500.0,60000.0,79500.0,67500.0,77000.0,43000.0,40000.0,65500.0,46500.0,53000.0,67500.0,79500.0,63000.0,77500.0,57000.0,78500.0,67500.0,70000.0,76500.0,67500.0,81000.0,48000.0,39000.0,65500.0,65000.0,33000.0,80000.0,56500.0,35500.0,65000.0,115000.0,43500.0,95000.0,52000.0,52000.0,77500.0,65000.0,64500.0,42000.0,42500.0,68000.0,40000.0,94000.0,90000.0,50688.0,73500.0],\"type\":\"box\"}],                        {\"template\":{\"data\":{\"histogram2dcontour\":[{\"type\":\"histogram2dcontour\",\"colorbar\":{\"outlinewidth\":0,\"ticks\":\"\"},\"colorscale\":[[0.0,\"#0d0887\"],[0.1111111111111111,\"#46039f\"],[0.2222222222222222,\"#7201a8\"],[0.3333333333333333,\"#9c179e\"],[0.4444444444444444,\"#bd3786\"],[0.5555555555555556,\"#d8576b\"],[0.6666666666666666,\"#ed7953\"],[0.7777777777777778,\"#fb9f3a\"],[0.8888888888888888,\"#fdca26\"],[1.0,\"#f0f921\"]]}],\"choropleth\":[{\"type\":\"choropleth\",\"colorbar\":{\"outlinewidth\":0,\"ticks\":\"\"}}],\"histogram2d\":[{\"type\":\"histogram2d\",\"colorbar\":{\"outlinewidth\":0,\"ticks\":\"\"},\"colorscale\":[[0.0,\"#0d0887\"],[0.1111111111111111,\"#46039f\"],[0.2222222222222222,\"#7201a8\"],[0.3333333333333333,\"#9c179e\"],[0.4444444444444444,\"#bd3786\"],[0.5555555555555556,\"#d8576b\"],[0.6666666666666666,\"#ed7953\"],[0.7777777777777778,\"#fb9f3a\"],[0.8888888888888888,\"#fdca26\"],[1.0,\"#f0f921\"]]}],\"heatmap\":[{\"type\":\"heatmap\",\"colorbar\":{\"outlinewidth\":0,\"ticks\":\"\"},\"colorscale\":[[0.0,\"#0d0887\"],[0.1111111111111111,\"#46039f\"],[0.2222222222222222,\"#7201a8\"],[0.3333333333333333,\"#9c179e\"],[0.4444444444444444,\"#bd3786\"],[0.5555555555555556,\"#d8576b\"],[0.6666666666666666,\"#ed7953\"],[0.7777777777777778,\"#fb9f3a\"],[0.8888888888888888,\"#fdca26\"],[1.0,\"#f0f921\"]]}],\"heatmapgl\":[{\"type\":\"heatmapgl\",\"colorbar\":{\"outlinewidth\":0,\"ticks\":\"\"},\"colorscale\":[[0.0,\"#0d0887\"],[0.1111111111111111,\"#46039f\"],[0.2222222222222222,\"#7201a8\"],[0.3333333333333333,\"#9c179e\"],[0.4444444444444444,\"#bd3786\"],[0.5555555555555556,\"#d8576b\"],[0.6666666666666666,\"#ed7953\"],[0.7777777777777778,\"#fb9f3a\"],[0.8888888888888888,\"#fdca26\"],[1.0,\"#f0f921\"]]}],\"contourcarpet\":[{\"type\":\"contourcarpet\",\"colorbar\":{\"outlinewidth\":0,\"ticks\":\"\"}}],\"contour\":[{\"type\":\"contour\",\"colorbar\":{\"outlinewidth\":0,\"ticks\":\"\"},\"colorscale\":[[0.0,\"#0d0887\"],[0.1111111111111111,\"#46039f\"],[0.2222222222222222,\"#7201a8\"],[0.3333333333333333,\"#9c179e\"],[0.4444444444444444,\"#bd3786\"],[0.5555555555555556,\"#d8576b\"],[0.6666666666666666,\"#ed7953\"],[0.7777777777777778,\"#fb9f3a\"],[0.8888888888888888,\"#fdca26\"],[1.0,\"#f0f921\"]]}],\"surface\":[{\"type\":\"surface\",\"colorbar\":{\"outlinewidth\":0,\"ticks\":\"\"},\"colorscale\":[[0.0,\"#0d0887\"],[0.1111111111111111,\"#46039f\"],[0.2222222222222222,\"#7201a8\"],[0.3333333333333333,\"#9c179e\"],[0.4444444444444444,\"#bd3786\"],[0.5555555555555556,\"#d8576b\"],[0.6666666666666666,\"#ed7953\"],[0.7777777777777778,\"#fb9f3a\"],[0.8888888888888888,\"#fdca26\"],[1.0,\"#f0f921\"]]}],\"mesh3d\":[{\"type\":\"mesh3d\",\"colorbar\":{\"outlinewidth\":0,\"ticks\":\"\"}}],\"scatter\":[{\"fillpattern\":{\"fillmode\":\"overlay\",\"size\":10,\"solidity\":0.2},\"type\":\"scatter\"}],\"parcoords\":[{\"type\":\"parcoords\",\"line\":{\"colorbar\":{\"outlinewidth\":0,\"ticks\":\"\"}}}],\"scatterpolargl\":[{\"type\":\"scatterpolargl\",\"marker\":{\"colorbar\":{\"outlinewidth\":0,\"ticks\":\"\"}}}],\"bar\":[{\"error_x\":{\"color\":\"#2a3f5f\"},\"error_y\":{\"color\":\"#2a3f5f\"},\"marker\":{\"line\":{\"color\":\"#E5ECF6\",\"width\":0.5},\"pattern\":{\"fillmode\":\"overlay\",\"size\":10,\"solidity\":0.2}},\"type\":\"bar\"}],\"scattergeo\":[{\"type\":\"scattergeo\",\"marker\":{\"colorbar\":{\"outlinewidth\":0,\"ticks\":\"\"}}}],\"scatterpolar\":[{\"type\":\"scatterpolar\",\"marker\":{\"colorbar\":{\"outlinewidth\":0,\"ticks\":\"\"}}}],\"histogram\":[{\"marker\":{\"pattern\":{\"fillmode\":\"overlay\",\"size\":10,\"solidity\":0.2}},\"type\":\"histogram\"}],\"scattergl\":[{\"type\":\"scattergl\",\"marker\":{\"colorbar\":{\"outlinewidth\":0,\"ticks\":\"\"}}}],\"scatter3d\":[{\"type\":\"scatter3d\",\"line\":{\"colorbar\":{\"outlinewidth\":0,\"ticks\":\"\"}},\"marker\":{\"colorbar\":{\"outlinewidth\":0,\"ticks\":\"\"}}}],\"scattermapbox\":[{\"type\":\"scattermapbox\",\"marker\":{\"colorbar\":{\"outlinewidth\":0,\"ticks\":\"\"}}}],\"scatterternary\":[{\"type\":\"scatterternary\",\"marker\":{\"colorbar\":{\"outlinewidth\":0,\"ticks\":\"\"}}}],\"scattercarpet\":[{\"type\":\"scattercarpet\",\"marker\":{\"colorbar\":{\"outlinewidth\":0,\"ticks\":\"\"}}}],\"carpet\":[{\"aaxis\":{\"endlinecolor\":\"#2a3f5f\",\"gridcolor\":\"white\",\"linecolor\":\"white\",\"minorgridcolor\":\"white\",\"startlinecolor\":\"#2a3f5f\"},\"baxis\":{\"endlinecolor\":\"#2a3f5f\",\"gridcolor\":\"white\",\"linecolor\":\"white\",\"minorgridcolor\":\"white\",\"startlinecolor\":\"#2a3f5f\"},\"type\":\"carpet\"}],\"table\":[{\"cells\":{\"fill\":{\"color\":\"#EBF0F8\"},\"line\":{\"color\":\"white\"}},\"header\":{\"fill\":{\"color\":\"#C8D4E3\"},\"line\":{\"color\":\"white\"}},\"type\":\"table\"}],\"barpolar\":[{\"marker\":{\"line\":{\"color\":\"#E5ECF6\",\"width\":0.5},\"pattern\":{\"fillmode\":\"overlay\",\"size\":10,\"solidity\":0.2}},\"type\":\"barpolar\"}],\"pie\":[{\"automargin\":true,\"type\":\"pie\"}]},\"layout\":{\"autotypenumbers\":\"strict\",\"colorway\":[\"#636efa\",\"#EF553B\",\"#00cc96\",\"#ab63fa\",\"#FFA15A\",\"#19d3f3\",\"#FF6692\",\"#B6E880\",\"#FF97FF\",\"#FECB52\"],\"font\":{\"color\":\"#2a3f5f\"},\"hovermode\":\"closest\",\"hoverlabel\":{\"align\":\"left\"},\"paper_bgcolor\":\"white\",\"plot_bgcolor\":\"#E5ECF6\",\"polar\":{\"bgcolor\":\"#E5ECF6\",\"angularaxis\":{\"gridcolor\":\"white\",\"linecolor\":\"white\",\"ticks\":\"\"},\"radialaxis\":{\"gridcolor\":\"white\",\"linecolor\":\"white\",\"ticks\":\"\"}},\"ternary\":{\"bgcolor\":\"#E5ECF6\",\"aaxis\":{\"gridcolor\":\"white\",\"linecolor\":\"white\",\"ticks\":\"\"},\"baxis\":{\"gridcolor\":\"white\",\"linecolor\":\"white\",\"ticks\":\"\"},\"caxis\":{\"gridcolor\":\"white\",\"linecolor\":\"white\",\"ticks\":\"\"}},\"coloraxis\":{\"colorbar\":{\"outlinewidth\":0,\"ticks\":\"\"}},\"colorscale\":{\"sequential\":[[0.0,\"#0d0887\"],[0.1111111111111111,\"#46039f\"],[0.2222222222222222,\"#7201a8\"],[0.3333333333333333,\"#9c179e\"],[0.4444444444444444,\"#bd3786\"],[0.5555555555555556,\"#d8576b\"],[0.6666666666666666,\"#ed7953\"],[0.7777777777777778,\"#fb9f3a\"],[0.8888888888888888,\"#fdca26\"],[1.0,\"#f0f921\"]],\"sequentialminus\":[[0.0,\"#0d0887\"],[0.1111111111111111,\"#46039f\"],[0.2222222222222222,\"#7201a8\"],[0.3333333333333333,\"#9c179e\"],[0.4444444444444444,\"#bd3786\"],[0.5555555555555556,\"#d8576b\"],[0.6666666666666666,\"#ed7953\"],[0.7777777777777778,\"#fb9f3a\"],[0.8888888888888888,\"#fdca26\"],[1.0,\"#f0f921\"]],\"diverging\":[[0,\"#8e0152\"],[0.1,\"#c51b7d\"],[0.2,\"#de77ae\"],[0.3,\"#f1b6da\"],[0.4,\"#fde0ef\"],[0.5,\"#f7f7f7\"],[0.6,\"#e6f5d0\"],[0.7,\"#b8e186\"],[0.8,\"#7fbc41\"],[0.9,\"#4d9221\"],[1,\"#276419\"]]},\"xaxis\":{\"gridcolor\":\"white\",\"linecolor\":\"white\",\"ticks\":\"\",\"title\":{\"standoff\":15},\"zerolinecolor\":\"white\",\"automargin\":true,\"zerolinewidth\":2},\"yaxis\":{\"gridcolor\":\"white\",\"linecolor\":\"white\",\"ticks\":\"\",\"title\":{\"standoff\":15},\"zerolinecolor\":\"white\",\"automargin\":true,\"zerolinewidth\":2},\"scene\":{\"xaxis\":{\"backgroundcolor\":\"#E5ECF6\",\"gridcolor\":\"white\",\"linecolor\":\"white\",\"showbackground\":true,\"ticks\":\"\",\"zerolinecolor\":\"white\",\"gridwidth\":2},\"yaxis\":{\"backgroundcolor\":\"#E5ECF6\",\"gridcolor\":\"white\",\"linecolor\":\"white\",\"showbackground\":true,\"ticks\":\"\",\"zerolinecolor\":\"white\",\"gridwidth\":2},\"zaxis\":{\"backgroundcolor\":\"#E5ECF6\",\"gridcolor\":\"white\",\"linecolor\":\"white\",\"showbackground\":true,\"ticks\":\"\",\"zerolinecolor\":\"white\",\"gridwidth\":2}},\"shapedefaults\":{\"line\":{\"color\":\"#2a3f5f\"}},\"annotationdefaults\":{\"arrowcolor\":\"#2a3f5f\",\"arrowhead\":0,\"arrowwidth\":1},\"geo\":{\"bgcolor\":\"white\",\"landcolor\":\"#E5ECF6\",\"subunitcolor\":\"white\",\"showland\":true,\"showlakes\":true,\"lakecolor\":\"white\"},\"title\":{\"x\":0.05},\"mapbox\":{\"style\":\"light\"}}},\"title\":{\"text\":\"Box-Plot dos Sal\\u00e1rios para Vagas N\\u00e3o Classificadas (Outros) - Sem Outliers\"},\"yaxis\":{\"title\":{\"text\":\"Sal\\u00e1rio M\\u00e9dio (\\u00a3)\"}},\"xaxis\":{\"title\":{\"text\":\"N\\u00edvel Profissional\"}},\"boxmode\":\"group\"},                        {\"responsive\": true}                    ).then(function(){\n",
       "                            \n",
       "var gd = document.getElementById('02da9fb6-aaba-4cf3-9d33-4817892ea253');\n",
       "var x = new MutationObserver(function (mutations, observer) {{\n",
       "        var display = window.getComputedStyle(gd).display;\n",
       "        if (!display || display === 'none') {{\n",
       "            console.log([gd, 'removed!']);\n",
       "            Plotly.purge(gd);\n",
       "            observer.disconnect();\n",
       "        }}\n",
       "}});\n",
       "\n",
       "// Listen for the removal of the full notebook cells\n",
       "var notebookContainer = gd.closest('#notebook-container');\n",
       "if (notebookContainer) {{\n",
       "    x.observe(notebookContainer, {childList: true});\n",
       "}}\n",
       "\n",
       "// Listen for the clearing of the current output cell\n",
       "var outputEl = gd.closest('.output');\n",
       "if (outputEl) {{\n",
       "    x.observe(outputEl, {childList: true});\n",
       "}}\n",
       "\n",
       "                        })                };                });            </script>        </div>"
      ]
     },
     "metadata": {},
     "output_type": "display_data"
    }
   ],
   "source": [
    "# Filtrar as vagas que não foram classificadas como Junior, Mid-Level ou Senior\n",
    "# Supondo que já temos os DataFrames de Junior, Pleno e Senior\n",
    "classified_jobs = pd.concat([junior_jobs_with_salary, mid_level_jobs_with_salary, senior_jobs_with_salary])\n",
    "unclassified_jobs = data[~data.index.isin(classified_jobs.index)]  # Vagas restantes\n",
    "\n",
    "# Exibir o número de vagas restantes\n",
    "print(f\"Número de vagas não classificadas (Outros): {unclassified_jobs.shape[0]}\")\n",
    "\n",
    "# Remover vagas sem salário para a análise (apenas as com salário)\n",
    "unclassified_jobs_with_salary = unclassified_jobs[unclassified_jobs['Average Salary'].notnull()]\n",
    "\n",
    "# Função para calcular a média e a mediana salarial\n",
    "def calc_salary_stats(data):\n",
    "    avg_salary = data['Average Salary'].mean()\n",
    "    median_salary = data['Average Salary'].median()\n",
    "    return avg_salary, median_salary\n",
    "\n",
    "# Calcular média e mediana para as vagas restantes\n",
    "others_avg_salary, others_median_salary = calc_salary_stats(unclassified_jobs_with_salary)\n",
    "\n",
    "print(f\"Média salarial (Outros): £{others_avg_salary:.2f}\")\n",
    "print(f\"Mediana salarial (Outros): £{others_median_salary:.2f}\")\n",
    "\n",
    "# Box-plot para as vagas restantes\n",
    "fig = go.Figure()\n",
    "\n",
    "# Box-plot para vagas \"Outros\"\n",
    "fig.add_trace(go.Box(\n",
    "    y=unclassified_jobs_with_salary['Average Salary'],\n",
    "    name='Outros',\n",
    "    marker_color='darkgreen',\n",
    "    boxmean=True,  # Exibir a média\n",
    "    jitter=0.3,\n",
    "    pointpos=-1.8,\n",
    "))\n",
    "\n",
    "# Ajustar o layout do gráfico\n",
    "fig.update_layout(\n",
    "    title=\"Box-Plot dos Salários para Vagas Não Classificadas (Outros)\",\n",
    "    yaxis_title=\"Salário Médio (£)\",\n",
    "    xaxis_title=\"Nível Profissional\",\n",
    "    boxmode='group',\n",
    ")\n",
    "\n",
    "# Exibir o gráfico\n",
    "fig.show()\n",
    "\n",
    "# Remover outliers nas vagas restantes usando a função remove_outliers (definida anteriormente)\n",
    "unclassified_jobs_no_outliers = remove_outliers(unclassified_jobs_with_salary, 'Average Salary')\n",
    "\n",
    "# Box-plot sem outliers para as vagas restantes\n",
    "fig_no_outliers = go.Figure()\n",
    "\n",
    "fig_no_outliers.add_trace(go.Box(\n",
    "    y=unclassified_jobs_no_outliers['Average Salary'],\n",
    "    name='Outros (Sem Outliers)',\n",
    "    marker_color='lightcoral',\n",
    "    boxmean=True,\n",
    "))\n",
    "\n",
    "# Ajustar o layout do gráfico sem outliers\n",
    "fig_no_outliers.update_layout(\n",
    "    title=\"Box-Plot dos Salários para Vagas Não Classificadas (Outros) - Sem Outliers\",\n",
    "    yaxis_title=\"Salário Médio (£)\",\n",
    "    xaxis_title=\"Nível Profissional\",\n",
    "    boxmode='group',\n",
    ")\n",
    "\n",
    "# Exibir o gráfico sem outliers\n",
    "fig_no_outliers.show()\n"
   ]
  }
 ],
 "metadata": {
  "kernelspec": {
   "display_name": "Python 3 (ipykernel)",
   "language": "python",
   "name": "python3"
  },
  "language_info": {
   "codemirror_mode": {
    "name": "ipython",
    "version": 3
   },
   "file_extension": ".py",
   "mimetype": "text/x-python",
   "name": "python",
   "nbconvert_exporter": "python",
   "pygments_lexer": "ipython3",
   "version": "3.11.4"
  }
 },
 "nbformat": 4,
 "nbformat_minor": 5
}
